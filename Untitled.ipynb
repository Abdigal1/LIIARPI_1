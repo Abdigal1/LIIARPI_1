{
 "cells": [
  {
   "cell_type": "markdown",
   "id": "1fd504ca-dc2e-414f-9cce-c29d9052818f",
   "metadata": {},
   "source": [
    "## EXPLORING"
   ]
  },
  {
   "cell_type": "code",
   "execution_count": 42,
   "id": "00f6eaeb-bf16-47d0-81dc-1a9b2c4531b9",
   "metadata": {},
   "outputs": [],
   "source": [
    "import numpy as np\n",
    "import pandas as pd\n",
    "import os\n",
    "from sklearn.model_selection import train_test_split\n",
    "from lazypredict.Supervised import LazyRegressor\n",
    "from sklearn import datasets\n",
    "from sklearn.utils import shuffle\n",
    "import matplotlib.pyplot as plt\n",
    "import seaborn as sns"
   ]
  },
  {
   "cell_type": "code",
   "execution_count": 23,
   "id": "915de024-37cc-4c02-8735-7a139536301e",
   "metadata": {},
   "outputs": [
    {
     "name": "stdout",
     "output_type": "stream",
     "text": [
      "N menor a 17\n"
     ]
    }
   ],
   "source": [
    "N = 17\n",
    "from sklearn.model_selection import GridSearchCV\n",
    "PATH = \"/home/lambda/lab/Metadata_v2\"\n",
    "key_met = [line.strip() for line in open(\"meta.txt\")]\n",
    "df = pd.read_csv(\"db_sample_201901221525.csv\")\n",
    "Y = []\n",
    "X = []\n",
    "for file in os.listdir(PATH):\n",
    "    lo = file.split(\".\")[0] + \".jpg\"\n",
    "    val = df.loc[df[\"imagename\"]==lo, \"ane_glo\"].iloc[0]\n",
    "    dictdata  = np.load(os.path.join(PATH,file), allow_pickle=True)[()]\n",
    "    if len(dictdata)<N:\n",
    "        print(\"N menor a %d\"% N)\n",
    "        continue\n",
    "    Y.append(val)\n",
    "    #print(file, val, type(dictdata))\n",
    "    aux = []\n",
    "    for i in range(17):\n",
    "        nn = dictdata[i]\n",
    "        aux.append(nn['rgb_mo'][0])\n",
    "        aux.append(nn['rgb_mo'][1])\n",
    "        aux.append(nn['hsv_mo'][2])\n",
    "        aux.append(nn['lab_mo'][0])\n",
    "        aux.append(nn['lab_mo'][1])\n",
    "\n",
    "\n",
    "    X.append(aux)\n",
    "X = np.array(X)\n",
    "y = np.array(Y)"
   ]
  },
  {
   "cell_type": "code",
   "execution_count": 24,
   "id": "149af158-d40e-4bb7-8e12-e55904bb8c09",
   "metadata": {},
   "outputs": [],
   "source": [
    "dattta = np.append(X, y.reshape(-1, 1), axis = 1)\n",
    "df = pd.DataFrame(dattta)"
   ]
  },
  {
   "cell_type": "code",
   "execution_count": 7,
   "id": "0b66ea20-588c-46f5-bed7-9da25b213480",
   "metadata": {},
   "outputs": [
    {
     "data": {
      "text/html": [
       "<div>\n",
       "<style scoped>\n",
       "    .dataframe tbody tr th:only-of-type {\n",
       "        vertical-align: middle;\n",
       "    }\n",
       "\n",
       "    .dataframe tbody tr th {\n",
       "        vertical-align: top;\n",
       "    }\n",
       "\n",
       "    .dataframe thead th {\n",
       "        text-align: right;\n",
       "    }\n",
       "</style>\n",
       "<table border=\"1\" class=\"dataframe\">\n",
       "  <thead>\n",
       "    <tr style=\"text-align: right;\">\n",
       "      <th></th>\n",
       "      <th>0</th>\n",
       "      <th>1</th>\n",
       "      <th>2</th>\n",
       "      <th>3</th>\n",
       "      <th>4</th>\n",
       "      <th>5</th>\n",
       "      <th>6</th>\n",
       "      <th>7</th>\n",
       "      <th>8</th>\n",
       "      <th>9</th>\n",
       "      <th>...</th>\n",
       "      <th>76</th>\n",
       "      <th>77</th>\n",
       "      <th>78</th>\n",
       "      <th>79</th>\n",
       "      <th>80</th>\n",
       "      <th>81</th>\n",
       "      <th>82</th>\n",
       "      <th>83</th>\n",
       "      <th>84</th>\n",
       "      <th>85</th>\n",
       "    </tr>\n",
       "  </thead>\n",
       "  <tbody>\n",
       "    <tr>\n",
       "      <th>0</th>\n",
       "      <td>114.00</td>\n",
       "      <td>92.00</td>\n",
       "      <td>49.03</td>\n",
       "      <td>-2.86</td>\n",
       "      <td>0.00</td>\n",
       "      <td>63.00</td>\n",
       "      <td>65.00</td>\n",
       "      <td>31.34</td>\n",
       "      <td>7.70</td>\n",
       "      <td>4.86</td>\n",
       "      <td>...</td>\n",
       "      <td>90.00</td>\n",
       "      <td>43.41</td>\n",
       "      <td>12.06</td>\n",
       "      <td>5.46</td>\n",
       "      <td>86.00</td>\n",
       "      <td>92.00</td>\n",
       "      <td>44.46</td>\n",
       "      <td>15.49</td>\n",
       "      <td>6.22</td>\n",
       "      <td>12.60</td>\n",
       "    </tr>\n",
       "    <tr>\n",
       "      <th>1</th>\n",
       "      <td>110.00</td>\n",
       "      <td>81.00</td>\n",
       "      <td>49.56</td>\n",
       "      <td>5.73</td>\n",
       "      <td>15.59</td>\n",
       "      <td>41.00</td>\n",
       "      <td>45.00</td>\n",
       "      <td>28.53</td>\n",
       "      <td>30.14</td>\n",
       "      <td>12.85</td>\n",
       "      <td>...</td>\n",
       "      <td>67.00</td>\n",
       "      <td>40.60</td>\n",
       "      <td>32.46</td>\n",
       "      <td>16.42</td>\n",
       "      <td>67.00</td>\n",
       "      <td>73.00</td>\n",
       "      <td>43.82</td>\n",
       "      <td>38.36</td>\n",
       "      <td>16.64</td>\n",
       "      <td>11.30</td>\n",
       "    </tr>\n",
       "    <tr>\n",
       "      <th>2</th>\n",
       "      <td>78.00</td>\n",
       "      <td>72.00</td>\n",
       "      <td>33.02</td>\n",
       "      <td>-2.29</td>\n",
       "      <td>0.76</td>\n",
       "      <td>106.00</td>\n",
       "      <td>120.00</td>\n",
       "      <td>49.20</td>\n",
       "      <td>13.53</td>\n",
       "      <td>-3.50</td>\n",
       "      <td>...</td>\n",
       "      <td>143.00</td>\n",
       "      <td>59.47</td>\n",
       "      <td>17.70</td>\n",
       "      <td>-1.41</td>\n",
       "      <td>143.00</td>\n",
       "      <td>152.00</td>\n",
       "      <td>63.30</td>\n",
       "      <td>12.78</td>\n",
       "      <td>0.98</td>\n",
       "      <td>12.50</td>\n",
       "    </tr>\n",
       "    <tr>\n",
       "      <th>3</th>\n",
       "      <td>89.00</td>\n",
       "      <td>67.00</td>\n",
       "      <td>41.58</td>\n",
       "      <td>3.04</td>\n",
       "      <td>9.47</td>\n",
       "      <td>53.00</td>\n",
       "      <td>56.00</td>\n",
       "      <td>31.88</td>\n",
       "      <td>25.96</td>\n",
       "      <td>9.43</td>\n",
       "      <td>...</td>\n",
       "      <td>76.00</td>\n",
       "      <td>41.57</td>\n",
       "      <td>26.04</td>\n",
       "      <td>10.80</td>\n",
       "      <td>46.00</td>\n",
       "      <td>58.00</td>\n",
       "      <td>32.95</td>\n",
       "      <td>29.88</td>\n",
       "      <td>10.09</td>\n",
       "      <td>13.10</td>\n",
       "    </tr>\n",
       "    <tr>\n",
       "      <th>4</th>\n",
       "      <td>66.00</td>\n",
       "      <td>59.00</td>\n",
       "      <td>28.00</td>\n",
       "      <td>-1.76</td>\n",
       "      <td>0.27</td>\n",
       "      <td>53.00</td>\n",
       "      <td>64.00</td>\n",
       "      <td>28.23</td>\n",
       "      <td>19.24</td>\n",
       "      <td>0.21</td>\n",
       "      <td>...</td>\n",
       "      <td>44.00</td>\n",
       "      <td>26.22</td>\n",
       "      <td>30.77</td>\n",
       "      <td>3.54</td>\n",
       "      <td>38.00</td>\n",
       "      <td>56.00</td>\n",
       "      <td>28.74</td>\n",
       "      <td>35.29</td>\n",
       "      <td>6.19</td>\n",
       "      <td>13.10</td>\n",
       "    </tr>\n",
       "    <tr>\n",
       "      <th>...</th>\n",
       "      <td>...</td>\n",
       "      <td>...</td>\n",
       "      <td>...</td>\n",
       "      <td>...</td>\n",
       "      <td>...</td>\n",
       "      <td>...</td>\n",
       "      <td>...</td>\n",
       "      <td>...</td>\n",
       "      <td>...</td>\n",
       "      <td>...</td>\n",
       "      <td>...</td>\n",
       "      <td>...</td>\n",
       "      <td>...</td>\n",
       "      <td>...</td>\n",
       "      <td>...</td>\n",
       "      <td>...</td>\n",
       "      <td>...</td>\n",
       "      <td>...</td>\n",
       "      <td>...</td>\n",
       "      <td>...</td>\n",
       "      <td>...</td>\n",
       "    </tr>\n",
       "    <tr>\n",
       "      <th>776</th>\n",
       "      <td>44.00</td>\n",
       "      <td>41.00</td>\n",
       "      <td>18.77</td>\n",
       "      <td>-0.32</td>\n",
       "      <td>0.00</td>\n",
       "      <td>28.00</td>\n",
       "      <td>32.00</td>\n",
       "      <td>20.04</td>\n",
       "      <td>23.55</td>\n",
       "      <td>9.51</td>\n",
       "      <td>...</td>\n",
       "      <td>106.00</td>\n",
       "      <td>50.47</td>\n",
       "      <td>22.84</td>\n",
       "      <td>6.21</td>\n",
       "      <td>85.00</td>\n",
       "      <td>91.00</td>\n",
       "      <td>47.63</td>\n",
       "      <td>26.43</td>\n",
       "      <td>10.07</td>\n",
       "      <td>12.20</td>\n",
       "    </tr>\n",
       "    <tr>\n",
       "      <th>777</th>\n",
       "      <td>59.00</td>\n",
       "      <td>50.00</td>\n",
       "      <td>26.71</td>\n",
       "      <td>-0.00</td>\n",
       "      <td>1.66</td>\n",
       "      <td>38.00</td>\n",
       "      <td>43.00</td>\n",
       "      <td>25.97</td>\n",
       "      <td>25.62</td>\n",
       "      <td>10.70</td>\n",
       "      <td>...</td>\n",
       "      <td>74.00</td>\n",
       "      <td>37.66</td>\n",
       "      <td>28.44</td>\n",
       "      <td>7.23</td>\n",
       "      <td>78.00</td>\n",
       "      <td>87.00</td>\n",
       "      <td>41.56</td>\n",
       "      <td>22.66</td>\n",
       "      <td>3.62</td>\n",
       "      <td>0.00</td>\n",
       "    </tr>\n",
       "    <tr>\n",
       "      <th>778</th>\n",
       "      <td>73.00</td>\n",
       "      <td>61.00</td>\n",
       "      <td>38.13</td>\n",
       "      <td>16.39</td>\n",
       "      <td>13.96</td>\n",
       "      <td>83.00</td>\n",
       "      <td>87.00</td>\n",
       "      <td>44.08</td>\n",
       "      <td>28.12</td>\n",
       "      <td>9.56</td>\n",
       "      <td>...</td>\n",
       "      <td>44.00</td>\n",
       "      <td>33.60</td>\n",
       "      <td>36.77</td>\n",
       "      <td>14.43</td>\n",
       "      <td>30.00</td>\n",
       "      <td>58.00</td>\n",
       "      <td>38.64</td>\n",
       "      <td>49.24</td>\n",
       "      <td>16.36</td>\n",
       "      <td>11.20</td>\n",
       "    </tr>\n",
       "    <tr>\n",
       "      <th>779</th>\n",
       "      <td>105.00</td>\n",
       "      <td>99.00</td>\n",
       "      <td>44.83</td>\n",
       "      <td>-1.86</td>\n",
       "      <td>1.30</td>\n",
       "      <td>113.00</td>\n",
       "      <td>119.00</td>\n",
       "      <td>50.72</td>\n",
       "      <td>6.08</td>\n",
       "      <td>0.06</td>\n",
       "      <td>...</td>\n",
       "      <td>146.00</td>\n",
       "      <td>61.11</td>\n",
       "      <td>6.32</td>\n",
       "      <td>-0.26</td>\n",
       "      <td>137.00</td>\n",
       "      <td>142.00</td>\n",
       "      <td>60.52</td>\n",
       "      <td>7.72</td>\n",
       "      <td>1.61</td>\n",
       "      <td>12.10</td>\n",
       "    </tr>\n",
       "    <tr>\n",
       "      <th>780</th>\n",
       "      <td>54.00</td>\n",
       "      <td>40.00</td>\n",
       "      <td>24.38</td>\n",
       "      <td>1.25</td>\n",
       "      <td>6.83</td>\n",
       "      <td>71.00</td>\n",
       "      <td>70.00</td>\n",
       "      <td>36.15</td>\n",
       "      <td>19.52</td>\n",
       "      <td>8.31</td>\n",
       "      <td>...</td>\n",
       "      <td>60.00</td>\n",
       "      <td>36.15</td>\n",
       "      <td>17.89</td>\n",
       "      <td>13.91</td>\n",
       "      <td>50.00</td>\n",
       "      <td>56.00</td>\n",
       "      <td>35.19</td>\n",
       "      <td>29.83</td>\n",
       "      <td>11.48</td>\n",
       "      <td>13.10</td>\n",
       "    </tr>\n",
       "  </tbody>\n",
       "</table>\n",
       "<p>781 rows × 86 columns</p>\n",
       "</div>"
      ],
      "text/plain": [
       "        0     1     2     3     4      5      6     7     8     9   ...  \\\n",
       "0   114.00 92.00 49.03 -2.86  0.00  63.00  65.00 31.34  7.70  4.86  ...   \n",
       "1   110.00 81.00 49.56  5.73 15.59  41.00  45.00 28.53 30.14 12.85  ...   \n",
       "2    78.00 72.00 33.02 -2.29  0.76 106.00 120.00 49.20 13.53 -3.50  ...   \n",
       "3    89.00 67.00 41.58  3.04  9.47  53.00  56.00 31.88 25.96  9.43  ...   \n",
       "4    66.00 59.00 28.00 -1.76  0.27  53.00  64.00 28.23 19.24  0.21  ...   \n",
       "..     ...   ...   ...   ...   ...    ...    ...   ...   ...   ...  ...   \n",
       "776  44.00 41.00 18.77 -0.32  0.00  28.00  32.00 20.04 23.55  9.51  ...   \n",
       "777  59.00 50.00 26.71 -0.00  1.66  38.00  43.00 25.97 25.62 10.70  ...   \n",
       "778  73.00 61.00 38.13 16.39 13.96  83.00  87.00 44.08 28.12  9.56  ...   \n",
       "779 105.00 99.00 44.83 -1.86  1.30 113.00 119.00 50.72  6.08  0.06  ...   \n",
       "780  54.00 40.00 24.38  1.25  6.83  71.00  70.00 36.15 19.52  8.31  ...   \n",
       "\n",
       "        76    77    78    79     80     81    82    83    84    85  \n",
       "0    90.00 43.41 12.06  5.46  86.00  92.00 44.46 15.49  6.22 12.60  \n",
       "1    67.00 40.60 32.46 16.42  67.00  73.00 43.82 38.36 16.64 11.30  \n",
       "2   143.00 59.47 17.70 -1.41 143.00 152.00 63.30 12.78  0.98 12.50  \n",
       "3    76.00 41.57 26.04 10.80  46.00  58.00 32.95 29.88 10.09 13.10  \n",
       "4    44.00 26.22 30.77  3.54  38.00  56.00 28.74 35.29  6.19 13.10  \n",
       "..     ...   ...   ...   ...    ...    ...   ...   ...   ...   ...  \n",
       "776 106.00 50.47 22.84  6.21  85.00  91.00 47.63 26.43 10.07 12.20  \n",
       "777  74.00 37.66 28.44  7.23  78.00  87.00 41.56 22.66  3.62  0.00  \n",
       "778  44.00 33.60 36.77 14.43  30.00  58.00 38.64 49.24 16.36 11.20  \n",
       "779 146.00 61.11  6.32 -0.26 137.00 142.00 60.52  7.72  1.61 12.10  \n",
       "780  60.00 36.15 17.89 13.91  50.00  56.00 35.19 29.83 11.48 13.10  \n",
       "\n",
       "[781 rows x 86 columns]"
      ]
     },
     "execution_count": 7,
     "metadata": {},
     "output_type": "execute_result"
    }
   ],
   "source": [
    "df"
   ]
  },
  {
   "cell_type": "code",
   "execution_count": 51,
   "id": "7bb98971-350d-4cbf-975d-f079daa216f0",
   "metadata": {},
   "outputs": [
    {
     "data": {
      "text/plain": [
       "<AxesSubplot:xlabel='8'>"
      ]
     },
     "execution_count": 51,
     "metadata": {},
     "output_type": "execute_result"
    },
    {
     "data": {
      "image/png": "[encoded data removed]",
      "text/plain": [
       "<Figure size 432x288 with 1 Axes>"
      ]
     },
     "metadata": {
      "needs_background": "light"
     },
     "output_type": "display_data"
    }
   ],
   "source": [
    "sns.boxplot(df[8])"
   ]
  },
  {
   "cell_type": "code",
   "execution_count": 29,
   "id": "6337f3ac-1c10-4100-9bf2-eb325f91363d",
   "metadata": {},
   "outputs": [
    {
     "data": {
      "text/plain": [
       "<AxesSubplot:xlabel='3', ylabel='Density'>"
      ]
     },
     "execution_count": 29,
     "metadata": {},
     "output_type": "execute_result"
    },
    {
     "data": {
      "image/png": "[encoded data removed]",
      "text/plain": [
       "<Figure size 432x288 with 1 Axes>"
      ]
     },
     "metadata": {
      "needs_background": "light"
     },
     "output_type": "display_data"
    }
   ],
   "source": [
    "sns.distplot(df[3])"
   ]
  },
  {
   "cell_type": "code",
   "execution_count": 59,
   "id": "e99b2bd0-c743-4cf9-9236-67bce3cb61ef",
   "metadata": {},
   "outputs": [
    {
     "data": {
      "image/png": "[encoded data removed]",
      "text/plain": [
       "<Figure size 432x288 with 2 Axes>"
      ]
     },
     "metadata": {
      "needs_background": "light"
     },
     "output_type": "display_data"
    }
   ],
   "source": [
    "corr = df[list(range(0, 40, 5))].corr()\n",
    "\n",
    "\n",
    "ax = sns.heatmap(\n",
    "    corr, \n",
    "    vmin=-1, vmax=1, center=0,\n",
    "    cmap=sns.diverging_palette(20, 220, n=200),\n",
    "    square=True, \n",
    "  \n",
    "    \n",
    ")\n",
    "ax.set_xticklabels(\n",
    "    ax.get_xticklabels(),\n",
    "    rotation=45,\n",
    "    horizontalalignment='right'\n",
    ");"
   ]
  },
  {
   "cell_type": "code",
   "execution_count": 61,
   "id": "3deb958e-6174-415e-9d7c-d32980a86640",
   "metadata": {},
   "outputs": [
    {
     "data": {
      "image/png": "[encoded data removed]",
      "text/plain": [
       "<Figure size 432x288 with 2 Axes>"
      ]
     },
     "metadata": {
      "needs_background": "light"
     },
     "output_type": "display_data"
    }
   ],
   "source": [
    "corr = df[list(range(40))].corr()\n",
    "\n",
    "\n",
    "ax = sns.heatmap(\n",
    "    corr, \n",
    "    vmin=-1, vmax=1, center=0,\n",
    "    cmap=sns.diverging_palette(20, 220, n=200),\n",
    "    square=True, \n",
    "  \n",
    "    \n",
    ")\n",
    "ax.set_xticklabels(\n",
    "    ax.get_xticklabels(),\n",
    "    rotation=45,\n",
    "    horizontalalignment='right'\n",
    ");"
   ]
  },
  {
   "cell_type": "code",
   "execution_count": 2,
   "id": "c45b4eae-7d7b-4860-a383-b8bcf4d117c8",
   "metadata": {},
   "outputs": [],
   "source": [
    "import numpy as np\n",
    "from scipy import stats\n",
    "aa = np.array([1., 10.0, 1., 1., 1. ,1., 1., 1.])"
   ]
  },
  {
   "cell_type": "code",
   "execution_count": 3,
   "id": "1850ea55-3ffe-486a-bc43-ed1eb01ffabd",
   "metadata": {},
   "outputs": [
    {
     "data": {
      "text/plain": [
       "array([0.37796447, 2.64575131, 0.37796447, 0.37796447, 0.37796447,\n",
       "       0.37796447, 0.37796447, 0.37796447])"
      ]
     },
     "execution_count": 3,
     "metadata": {},
     "output_type": "execute_result"
    }
   ],
   "source": [
    "np.abs(stats.zscore(aa))"
   ]
  },
  {
   "cell_type": "code",
   "execution_count": null,
   "id": "2b20c91b-f7ce-4696-bfe7-32800e6e9593",
   "metadata": {},
   "outputs": [],
   "source": []
  }
 ],
 "metadata": {
  "kernelspec": {
   "display_name": "Python 3",
   "language": "python",
   "name": "python3"
  },
  "language_info": {
   "codemirror_mode": {
    "name": "ipython",
    "version": 3
   },
   "file_extension": ".py",
   "mimetype": "text/x-python",
   "name": "python",
   "nbconvert_exporter": "python",
   "pygments_lexer": "ipython3",
   "version": "3.8.10"
  }
 },
 "nbformat": 4,
 "nbformat_minor": 5
}
