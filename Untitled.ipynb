{
 "cells": [
  {
   "cell_type": "code",
   "execution_count": 46,
   "metadata": {},
   "outputs": [],
   "source": [
    "import pandas as pd\n",
    "import numpy as np\n",
    "import cv2\n",
    "import os\n",
    "from matplotlib import pyplot as plt\n",
    "from matplotlib import axes\n",
    "from PIL import Image\n",
    "from skimage.segmentation import slic\n",
    "from skimage.segmentation import mark_boundaries\n",
    "from skimage.util import img_as_float\n",
    "from skimage import io\n",
    "import matplotlib.pyplot as plt\n",
    "import argparse\n",
    "from skimage import color\n",
    "from skimage import morphology"
   ]
  },
  {
   "cell_type": "code",
   "execution_count": 10,
   "metadata": {},
   "outputs": [
    {
     "data": {
      "text/html": [
       "<div>\n",
       "<style scoped>\n",
       "    .dataframe tbody tr th:only-of-type {\n",
       "        vertical-align: middle;\n",
       "    }\n",
       "\n",
       "    .dataframe tbody tr th {\n",
       "        vertical-align: top;\n",
       "    }\n",
       "\n",
       "    .dataframe thead th {\n",
       "        text-align: right;\n",
       "    }\n",
       "</style>\n",
       "<table border=\"1\" class=\"dataframe\">\n",
       "  <thead>\n",
       "    <tr style=\"text-align: right;\">\n",
       "      <th></th>\n",
       "      <th>imagename</th>\n",
       "      <th>ane_cue</th>\n",
       "      <th>ane_glo</th>\n",
       "    </tr>\n",
       "  </thead>\n",
       "  <tbody>\n",
       "    <tr>\n",
       "      <th>45</th>\n",
       "      <td>c1anemia-100.jpg</td>\n",
       "      <td>10.9-12.3-0</td>\n",
       "      <td>12.9</td>\n",
       "    </tr>\n",
       "    <tr>\n",
       "      <th>46</th>\n",
       "      <td>c1anemia-101.jpg</td>\n",
       "      <td>11.1-12.2-0</td>\n",
       "      <td>12.4</td>\n",
       "    </tr>\n",
       "    <tr>\n",
       "      <th>47</th>\n",
       "      <td>c1anemia-102.jpg</td>\n",
       "      <td>10.6-10.8-0</td>\n",
       "      <td>11.7</td>\n",
       "    </tr>\n",
       "    <tr>\n",
       "      <th>48</th>\n",
       "      <td>c1anemia-103.jpg</td>\n",
       "      <td>10.9-12.2-0</td>\n",
       "      <td>11.3</td>\n",
       "    </tr>\n",
       "    <tr>\n",
       "      <th>49</th>\n",
       "      <td>c1anemia-104.jpg</td>\n",
       "      <td>10.6-10.8-0</td>\n",
       "      <td>11.7</td>\n",
       "    </tr>\n",
       "  </tbody>\n",
       "</table>\n",
       "</div>"
      ],
      "text/plain": [
       "           imagename      ane_cue  ane_glo\n",
       "45  c1anemia-100.jpg  10.9-12.3-0     12.9\n",
       "46  c1anemia-101.jpg  11.1-12.2-0     12.4\n",
       "47  c1anemia-102.jpg  10.6-10.8-0     11.7\n",
       "48  c1anemia-103.jpg  10.9-12.2-0     11.3\n",
       "49  c1anemia-104.jpg  10.6-10.8-0     11.7"
      ]
     },
     "execution_count": 10,
     "metadata": {},
     "output_type": "execute_result"
    }
   ],
   "source": [
    "df = pd.read_csv(\"db_sample_201901221525.csv\", index_col=0)\n",
    "df.head(5)"
   ]
  },
  {
   "cell_type": "code",
   "execution_count": 44,
   "metadata": {},
   "outputs": [],
   "source": [
    "#Base con nivel\n",
    "base = \"Sem_auto1\"\n",
    "lol = 0\n",
    "for file in os.listdir(base):\n",
    "    try:\n",
    "        aa = df[df['imagename']==file[4:]]['ane_glo'].values[0]\n",
    "        if aa>8 and aa<22:\n",
    "            lol += 1\n",
    "            os.rename(os.path.join(base, file), os.path.join(base, file.split('.')[0]+\"_\"+str(aa)+\".jpg\"))\n",
    "        else:\n",
    "            os.rename(os.path.join(base, file), os.path.join(base, file.split('.')[0]+\"_00.jpg\"))\n",
    "    except:\n",
    "        os.rename(os.path.join(base, file), os.path.join(base, file.split('.')[0]+\"_00.jpg\"))\n",
    "        \n",
    "    "
   ]
  },
  {
   "cell_type": "code",
   "execution_count": 56,
   "metadata": {},
   "outputs": [],
   "source": [
    "def gen_chars(eye, slic):\n",
    "    \"\"\"\n",
    "    Recibe la imagen y el SLIC y retorna las entradas a la red\n",
    "    [N, 5] = [[x, y, r, g, b],\n",
    "                ...]\n",
    "    \n",
    "    \"\"\"\n",
    "    out = []\n",
    "    h, w = slic.shape\n",
    "    upper_bound = 0\n",
    "    lower_bound = h-1\n",
    "    right_bound = w-1\n",
    "    left_bound = 0\n",
    "    slic = np.array(slic)\n",
    "    bo = slic>0\n",
    "    while 1:\n",
    "        if np.any(bo[:, left_bound]):\n",
    "            break\n",
    "        left_bound += 1\n",
    "    while 1:\n",
    "        if np.any(bo[:, right_bound]):\n",
    "            break\n",
    "        right_bound -= 1\n",
    "    while 1:\n",
    "        if np.any(bo[upper_bound, :]):\n",
    "            break\n",
    "        upper_bound += 1\n",
    "    while 1:\n",
    "        if np.any(bo[lower_bound, :]):\n",
    "            break\n",
    "        lower_bound -= 1\n",
    "    #print(upper_bound, lower_bound, left_bound, right_bound) \n",
    "    for i in range(1, len(np.unique(slic))):\n",
    "        ix, jx = np.where(slic==i)\n",
    "        px = np.array([ix, jx]).T\n",
    "        mpx = np.mean(px, 0)\n",
    "        \n",
    "        rgbx = np.mean(eye[slic==i], 0)/255\n",
    "        out.append([(mpx[0]-upper_bound)/(lower_bound-upper_bound),\n",
    "                   (mpx[1]-left_bound)/(right_bound-left_bound),\n",
    "                   rgbx[0], rgbx[1], rgbx[2]])\n",
    "    return np.array(out)"
   ]
  },
  {
   "cell_type": "code",
   "execution_count": 91,
   "metadata": {},
   "outputs": [],
   "source": [
    "base = \"Sem_auto1\"\n",
    "data = []\n",
    "ra = 0\n",
    "for file in os.listdir(base):\n",
    "    na = file.split('_')\n",
    "    if not(na[-1] is \"jpg\"):\n",
    "        img = io.imread(os.path.join(base, file))\n",
    "        lum = color.rgb2gray(img)\n",
    "        mask = morphology.remove_small_holes(morphology.remove_small_objects(lum > 0, 500),500)\n",
    "        mask1 = morphology.opening(mask, morphology.disk(3))\n",
    "        mask1=lum>0\n",
    "        m_slic = slic(img, n_segments=20,sigma=20,mask=mask1)\n",
    "        features = gen_chars(img, m_slic)\n",
    "        features = features.reshape(-1,).tolist()\n",
    "        features.append(float(na[-1][:-4]))\n",
    "        data.append(features)\n",
    "        ra +=1\n",
    "        if ra==10:\n",
    "            break\n",
    "        \n",
    "        "
   ]
  },
  {
   "cell_type": "code",
   "execution_count": 95,
   "metadata": {},
   "outputs": [
    {
     "name": "stdout",
     "output_type": "stream",
     "text": [
      "96\n",
      "96\n",
      "91\n",
      "101\n",
      "96\n",
      "96\n",
      "76\n",
      "101\n",
      "96\n",
      "86\n"
     ]
    }
   ],
   "source": [
    "for i in data:\n",
    "    print(len(i))"
   ]
  },
  {
   "cell_type": "code",
   "execution_count": 87,
   "metadata": {},
   "outputs": [
    {
     "name": "stderr",
     "output_type": "stream",
     "text": [
      "C:\\Users\\abdig\\miniconda3\\envs\\sale\\lib\\site-packages\\ipykernel_launcher.py:1: VisibleDeprecationWarning: Creating an ndarray from ragged nested sequences (which is a list-or-tuple of lists-or-tuples-or ndarrays with different lengths or shapes) is deprecated. If you meant to do this, you must specify 'dtype=object' when creating the ndarray\n",
      "  \"\"\"Entry point for launching an IPython kernel.\n"
     ]
    },
    {
     "ename": "IndexError",
     "evalue": "too many indices for array: array is 1-dimensional, but 2 were indexed",
     "output_type": "error",
     "traceback": [
      "\u001b[1;31m---------------------------------------------------------------------------\u001b[0m",
      "\u001b[1;31mIndexError\u001b[0m                                Traceback (most recent call last)",
      "\u001b[1;32m<ipython-input-87-b0d526af685f>\u001b[0m in \u001b[0;36m<module>\u001b[1;34m()\u001b[0m\n\u001b[0;32m      1\u001b[0m \u001b[0mdata\u001b[0m \u001b[1;33m=\u001b[0m \u001b[0mnp\u001b[0m\u001b[1;33m.\u001b[0m\u001b[0marray\u001b[0m\u001b[1;33m(\u001b[0m\u001b[0mdata\u001b[0m\u001b[1;33m)\u001b[0m\u001b[1;33m\u001b[0m\u001b[1;33m\u001b[0m\u001b[0m\n\u001b[0;32m      2\u001b[0m \u001b[0mdata\u001b[0m\u001b[1;33m.\u001b[0m\u001b[0mshape\u001b[0m\u001b[1;33m\u001b[0m\u001b[1;33m\u001b[0m\u001b[0m\n\u001b[1;32m----> 3\u001b[1;33m \u001b[0mX\u001b[0m\u001b[1;33m,\u001b[0m \u001b[0my\u001b[0m \u001b[1;33m=\u001b[0m \u001b[0mdata\u001b[0m\u001b[1;33m[\u001b[0m\u001b[1;33m:\u001b[0m\u001b[1;33m,\u001b[0m \u001b[1;33m:\u001b[0m\u001b[1;33m-\u001b[0m\u001b[1;36m1\u001b[0m\u001b[1;33m]\u001b[0m\u001b[1;33m,\u001b[0m \u001b[0mdata\u001b[0m\u001b[1;33m[\u001b[0m\u001b[1;33m:\u001b[0m\u001b[1;33m,\u001b[0m\u001b[1;33m-\u001b[0m\u001b[1;36m1\u001b[0m\u001b[1;33m]\u001b[0m\u001b[1;33m\u001b[0m\u001b[1;33m\u001b[0m\u001b[0m\n\u001b[0m",
      "\u001b[1;31mIndexError\u001b[0m: too many indices for array: array is 1-dimensional, but 2 were indexed"
     ]
    }
   ],
   "source": [
    "data = np.array(data)\n",
    "data.shape\n",
    "X, y = data[:, :-1], data[:,-1]"
   ]
  },
  {
   "cell_type": "code",
   "execution_count": 85,
   "metadata": {},
   "outputs": [],
   "source": [
    "from sklearn.svm import SVR\n",
    "from sklearn.pipeline import make_pipeline\n",
    "from sklearn.preprocessing import StandardScaler\n",
    "from sklearn.model_selection import cross_val_score\n",
    "clf = SVR(kernel='linear', C=1)\n",
    "scores = cross_val_score(clf, X, y, cv=5)\n"
   ]
  },
  {
   "cell_type": "code",
   "execution_count": null,
   "metadata": {},
   "outputs": [],
   "source": []
  }
 ],
 "metadata": {
  "kernelspec": {
   "display_name": "Python 3",
   "language": "python",
   "name": "python3"
  },
  "language_info": {
   "codemirror_mode": {
    "name": "ipython",
    "version": 3
   },
   "file_extension": ".py",
   "mimetype": "text/x-python",
   "name": "python",
   "nbconvert_exporter": "python",
   "pygments_lexer": "ipython3",
   "version": "3.7.9"
  }
 },
 "nbformat": 4,
 "nbformat_minor": 4
}
