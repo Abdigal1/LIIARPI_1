{
 "cells": [
  {
   "cell_type": "code",
   "execution_count": 1,
   "metadata": {},
   "outputs": [],
   "source": [
    "import torch\n",
    "import numpy as np\n",
    "\n",
    "import os\n",
    "import sys\n",
    "import pathlib\n",
    "pth=str(pathlib.Path().absolute())\n",
    "\n",
    "#Utilities\n",
    "sys.path.append(pth)\n",
    "from model_An import *\n",
    "from util import *\n",
    "from Data_loader_image import *\n",
    "\n",
    "#Base de datos\n",
    "#sys.path.append()\n",
    "data=(\"\\\\\").join(pth.split(\"\\\\\")[:-4])+\"\\\\Data_Base\\\\Metada_v4G_\"\n",
    "data_arg=(\"\\\\\").join(pth.split(\"\\\\\")[:-4])+\"\\\\Data_Base\"\n",
    "\n"
   ]
  },
  {
   "cell_type": "code",
   "execution_count": 2,
   "metadata": {},
   "outputs": [],
   "source": [
    "dataset=Dataset(data_arg)"
   ]
  },
  {
   "cell_type": "code",
   "execution_count": 32,
   "metadata": {},
   "outputs": [],
   "source": [
    "dataset[10]\n",
    "train_set, val_set = torch.utils.data.random_split(dataset, [int(len(dataset)*0.7), len(dataset)-int(len(dataset)*0.7)])"
   ]
  },
  {
   "cell_type": "code",
   "execution_count": 3,
   "metadata": {},
   "outputs": [],
   "source": [
    "dat=dataset[0]"
   ]
  },
  {
   "cell_type": "code",
   "execution_count": 4,
   "metadata": {},
   "outputs": [
    {
     "data": {
      "text/plain": [
       "array([0.00000000e+00, 0.00000000e+00, 0.00000000e+00, 3.53625100e+00,\n",
       "       3.32083399e+00, 7.17216836e-03, 1.51000000e+02, 1.39000000e+02,\n",
       "       4.26356589e-02, 1.59000000e+02, 1.45000000e+02, 5.00000000e-02,\n",
       "       8.58444342e+00, 1.14513077e+01, 1.00000000e+00, 1.01204949e+00,\n",
       "       1.09504530e+00, 0.00000000e+00, 5.85509798e+00, 9.78347605e+00,\n",
       "       1.00000000e+00, 8.04856973e+00, 1.01921039e+01, 1.00000000e+00,\n",
       "       2.28735081e-01, 7.49875979e-01, 6.87325468e+01, 1.14334378e-02,\n",
       "       1.51976564e-02, 1.28331014e+00, 2.07253886e-01, 7.05882353e-01,\n",
       "       6.48446503e+01, 2.19251337e-01, 7.41176471e-01, 6.76752135e+01,\n",
       "       1.61736396e+02, 1.47470671e+02, 5.42280130e-02, 1.50437102e+03,\n",
       "       9.66492372e+00, 1.97849682e+03, 1.30007267e+01, 1.41500000e+03])"
      ]
     },
     "execution_count": 4,
     "metadata": {},
     "output_type": "execute_result"
    }
   ],
   "source": [
    "dat[\"image_graph\"][0][0,:]"
   ]
  }
 ],
 "metadata": {
  "kernelspec": {
   "display_name": "Python 3",
   "language": "python",
   "name": "python3"
  },
  "language_info": {
   "codemirror_mode": {
    "name": "ipython",
    "version": 3
   },
   "file_extension": ".py",
   "mimetype": "text/x-python",
   "name": "python",
   "nbconvert_exporter": "python",
   "pygments_lexer": "ipython3",
   "version": "3.8.10"
  }
 },
 "nbformat": 4,
 "nbformat_minor": 4
}
