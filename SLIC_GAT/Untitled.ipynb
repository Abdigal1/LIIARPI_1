{
 "cells": [
  {
   "cell_type": "code",
   "execution_count": 6,
   "metadata": {},
   "outputs": [],
   "source": [
    "import torch\n",
    "import numpy as np\n",
    "\n",
    "import os\n",
    "import sys\n",
    "import pathlib\n",
    "pth=str(pathlib.Path().absolute())\n",
    "\n",
    "#Utilities\n",
    "sys.path.append(pth)\n",
    "from model_An import *\n",
    "from util import *\n",
    "\n",
    "#Base de datos\n",
    "#sys.path.append()\n",
    "data=(\"\\\\\").join(pth.split(\"\\\\\")[:-4])+\"\\\\Data_Base\\\\Metada_v4G\"\n",
    "\n"
   ]
  },
  {
   "cell_type": "code",
   "execution_count": 8,
   "metadata": {},
   "outputs": [
    {
     "name": "stdout",
     "output_type": "stream",
     "text": [
      "D:\\Documentos\\LIIARPI\n",
      "D:\\Documentos\\LIIARPI\\Data_Base\\Metada_v4G\n",
      "['c1anemia-100']\n"
     ]
    }
   ],
   "source": [
    "print((\"\\\\\").join(pth.split(\"\\\\\")[:-4]))\n",
    "print(data)\n",
    "print(os.listdir(data))"
   ]
  },
  {
   "cell_type": "code",
   "execution_count": 12,
   "metadata": {},
   "outputs": [],
   "source": [
    "G=nx.readwrite.adjlist.read_adjlist(data+\"\\\\\"+os.listdir(data)[0])"
   ]
  },
  {
   "cell_type": "code",
   "execution_count": null,
   "metadata": {},
   "outputs": [],
   "source": []
  }
 ],
 "metadata": {
  "kernelspec": {
   "display_name": "Python 3",
   "language": "python",
   "name": "python3"
  },
  "language_info": {
   "codemirror_mode": {
    "name": "ipython",
    "version": 3
   },
   "file_extension": ".py",
   "mimetype": "text/x-python",
   "name": "python",
   "nbconvert_exporter": "python",
   "pygments_lexer": "ipython3",
   "version": "3.8.10"
  }
 },
 "nbformat": 4,
 "nbformat_minor": 4
}
