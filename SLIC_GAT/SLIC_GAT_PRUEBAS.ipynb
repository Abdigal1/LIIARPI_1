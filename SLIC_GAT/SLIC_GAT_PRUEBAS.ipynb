{
 "cells": [
  {
   "cell_type": "code",
   "execution_count": 1,
   "metadata": {},
   "outputs": [],
   "source": [
    "import torch\n",
    "import torch.nn.functional as F\n",
    "from sklearn.model_selection import KFold\n",
    "import numpy as np\n",
    "import copy\n",
    "\n",
    "import os\n",
    "import sys\n",
    "import pathlib\n",
    "pth=str(pathlib.Path().absolute())\n",
    "\n",
    "#Utilities\n",
    "sys.path.append(pth)\n",
    "from model_An import *\n",
    "from util import *\n",
    "from Data_loader_image import *\n",
    "\n",
    "#Base de datos\n",
    "#sys.path.append()\n",
    "data=(\"/\").join(pth.split(\"/\")[:-2])+\"/Data_Base/Metada_V6G_p1\"\n",
    "data_arg=(\"/\").join(pth.split(\"/\")[:-2])+\"/Data_Base\"\n"
   ]
  },
  {
   "cell_type": "code",
   "execution_count": 2,
   "metadata": {},
   "outputs": [],
   "source": [
    "dataset=Rotated_Dataset(data_arg,\"Metadata_V6G_p1\")"
   ]
  },
  {
   "cell_type": "code",
   "execution_count": 3,
   "metadata": {},
   "outputs": [],
   "source": [
    "train_set, val_set = torch.utils.data.random_split(dataset, [int(len(dataset)*0.7), len(dataset)-int(len(dataset)*0.7)])"
   ]
  },
  {
   "cell_type": "code",
   "execution_count": 7,
   "metadata": {},
   "outputs": [],
   "source": [
    "def train_model(\n",
    "    dataset,\n",
    "        epochs,\n",
    "        batch_size,\n",
    "        use_cuda,\n",
    "    folds=5,\n",
    "        disable_tqdm=False,\n",
    "        ):\n",
    "    print(\"Reading dataset\")\n",
    "    #dset = MNIST(dset_folder,download=True)\n",
    "    #DATASET\n",
    "    #imgs = dset.data.unsqueeze(-1).numpy().astype(np.float64)\n",
    "    #labels = dset.targets.numpy()\n",
    "    \n",
    "    #train_idx, valid_idx = map(np.array,util.split_dataset(labels))\n",
    "    ind=np.arange(0,len(dataset))\n",
    "    \n",
    "    #INSIDE K-FOLD\n",
    "    results={}\n",
    "    for fold in range(folds):\n",
    "        #generate train-test\n",
    "        print(\"fold\"+str(fold))\n",
    "        \n",
    "        i=fold\n",
    "\n",
    "        ind=np.arange(0,len(dataset))\n",
    "        indexes=ind[np.random.permutation(len(dataset))]\n",
    "        L=len(dataset)\n",
    "        test_idx=indexes[int(i*L/5):int((i+1)*L/5)]\n",
    "        train_idx=np.delete(indexes,np.arange(int(i*L/5),int((i+1)*L/5)))\n",
    "        \n",
    "        model = GAT_ANE_(41,1)\n",
    "        if use_cuda:\n",
    "            model = model.cuda()\n",
    "    \n",
    "        opt = torch.optim.Adam(model.parameters())\n",
    "    \n",
    "        best_valid_acc = 0.\n",
    "        best_model = copy.deepcopy(model)\n",
    "    \n",
    "        last_epoch_train_loss = 0.\n",
    "        last_epoch_train_acc = 0.\n",
    "        last_epoch_valid_acc = 0.\n",
    "    \n",
    "        interrupted = False\n",
    "        \n",
    "        train_dat=np.vectorize(lambda ind:dataset[ind],otypes=[object])(train_idx)\n",
    "        train_graph=np.vectorize(lambda b:b[\"image_graph\"])(train_dat)\n",
    "        train_label=np.vectorize(lambda b:b[\"landmarks\"])(train_dat)\n",
    "        test_dat=np.vectorize(lambda ind:dataset[ind],otypes=[object])(test_idx)\n",
    "        test_graph=np.vectorize(lambda b:b[\"image_graph\"])(test_dat)\n",
    "        test_label=np.vectorize(lambda b:b[\"landmarks\"])(test_dat)\n",
    "        \n",
    "        loss_function = nn.MSELoss()\n",
    "        for e in tqdm(range(epochs), total=epochs, desc=\"Epoch \", disable=disable_tqdm,):\n",
    "            try:\n",
    "                #train_losses, train_accs = train_(model, opt, train_graph, train_label,loss_function,\n",
    "                                                  #batch_size=batch_size, use_cuda=use_cuda, disable_tqdm=disable_tqdm,)\n",
    "                train_losses, train_accs =train_(model=model,\n",
    "                                                 optimiser=opt,\n",
    "                                                 graphs=train_graph,\n",
    "                                                 labels=train_label,\n",
    "                                                 use_cuda=use_cuda,\n",
    "                                                 loss_function=nn.MSELoss(),\n",
    "                                                 #batch_size=1,\n",
    "                                                 batch_size=batch_size,\n",
    "                                                 disable_tqdm=disable_tqdm,\n",
    "                                                 profile=False)\n",
    "            \n",
    "                last_epoch_train_loss = np.mean(train_losses)\n",
    "                last_epoch_train_acc = 100*np.mean(train_accs)\n",
    "            except KeyboardInterrupt:\n",
    "                print(\"Training interrupted!\")\n",
    "                interrupted = True\n",
    "        \n",
    "            #valid_accs = test_(model,test_graph,test_label,use_cuda,desc=\"Validation \", disable_tqdm=disable_tqdm,)\n",
    "            valid_accs = test_(model=model,\n",
    "                               graphs=test_graph,\n",
    "                               labels=test_label,\n",
    "                               use_cuda=use_cuda,\n",
    "                               desc=\"Test \",\n",
    "                               disable_tqdm=False)\n",
    "                \n",
    "            last_epoch_valid_acc = 100*np.mean(valid_accs)\n",
    "        \n",
    "            if last_epoch_valid_acc>best_valid_acc:\n",
    "                best_valid_acc = last_epoch_valid_acc\n",
    "                best_model = copy.deepcopy(model)\n",
    "        \n",
    "            tqdm.write(\"EPOCH SUMMARY {loss:.4f} {t_acc:.2f}% {v_acc:.2f}%\".format(loss=last_epoch_train_loss, t_acc=last_epoch_train_acc, v_acc=last_epoch_valid_acc))\n",
    "        \n",
    "            if interrupted:\n",
    "                break\n",
    "    \n",
    "        results[fold]={\"train_acc\":train_accs,\"train_loss\":train_losses,\"valid_acc\":valid_accs}\n",
    "        save_model(\"best\"+str(fold),best_model)\n",
    "        save_model(\"last\"+str(fold),model)\n",
    "    return results\n",
    "        \n"
   ]
  },
  {
   "cell_type": "code",
   "execution_count": null,
   "metadata": {},
   "outputs": [
    {
     "name": "stdout",
     "output_type": "stream",
     "text": [
      "Reading dataset\n",
      "fold0\n"
     ]
    },
    {
     "name": "stderr",
     "output_type": "stream",
     "text": [
      "Epoch :   0%|          | 0/5 [00:00<?, ?it/s]\n",
      "Instances :   0%|          | 0/15.125 [00:00<?, ?it/s]\u001b[A\n",
      "                                                      \n",
      "Epoch :   0%|          | 0/5 [00:00<?, ?it/s]?, ?it/s]\u001b[A\n",
      "Instances :   7%|▋         | 1/15.125 [00:00<00:03,  4.64it/s]\u001b[A"
     ]
    },
    {
     "name": "stdout",
     "output_type": "stream",
     "text": [
      "139.4596\t13945.96%\t[-0.16217956] (x[448])\n"
     ]
    },
    {
     "name": "stderr",
     "output_type": "stream",
     "text": [
      "\n",
      "                                                              \n",
      "Epoch :   0%|          | 0/5 [00:00<?, ?it/s]00:03,  4.64it/s]\u001b[A\n",
      "Instances :  13%|█▎        | 2/15.125 [00:00<00:02,  4.60it/s]\u001b[A"
     ]
    },
    {
     "name": "stdout",
     "output_type": "stream",
     "text": [
      "138.6987\t13869.87%\t[-0.12914923] (x[421])\n"
     ]
    },
    {
     "name": "stderr",
     "output_type": "stream",
     "text": [
      "\n",
      "                                                              \n",
      "Epoch :   0%|          | 0/5 [00:00<?, ?it/s]00:02,  4.60it/s]\u001b[A\n",
      "Instances :  20%|█▉        | 3/15.125 [00:00<00:02,  4.59it/s]\u001b[A"
     ]
    },
    {
     "name": "stdout",
     "output_type": "stream",
     "text": [
      "137.9886\t13798.86%\t[-0.09823869] (x[386])\n"
     ]
    },
    {
     "name": "stderr",
     "output_type": "stream",
     "text": [
      "\n",
      "                                                              \n",
      "Epoch :   0%|          | 0/5 [00:00<?, ?it/s]00:02,  4.59it/s]\u001b[A\n",
      "Instances :  26%|██▋       | 4/15.125 [00:00<00:02,  4.53it/s]\u001b[A"
     ]
    },
    {
     "name": "stdout",
     "output_type": "stream",
     "text": [
      "137.3749\t13737.49%\t[-0.07145622] (x[290])\n"
     ]
    },
    {
     "name": "stderr",
     "output_type": "stream",
     "text": [
      "\n",
      "                                                              \n",
      "Epoch :   0%|          | 0/5 [00:01<?, ?it/s]00:02,  4.53it/s]\u001b[A\n",
      "Instances :  33%|███▎      | 5/15.125 [00:01<00:02,  4.54it/s]\u001b[A"
     ]
    },
    {
     "name": "stdout",
     "output_type": "stream",
     "text": [
      "136.7992\t13679.92%\t[-0.04627775] (x[208])\n"
     ]
    },
    {
     "name": "stderr",
     "output_type": "stream",
     "text": [
      "\n",
      "                                                              \n",
      "Epoch :   0%|          | 0/5 [00:01<?, ?it/s]00:02,  4.54it/s]\u001b[A\n",
      "Instances :  40%|███▉      | 6/15.125 [00:01<00:01,  4.57it/s]\u001b[A"
     ]
    },
    {
     "name": "stdout",
     "output_type": "stream",
     "text": [
      "136.2934\t13629.35%\t[-0.02411303] (x[181])\n"
     ]
    },
    {
     "name": "stderr",
     "output_type": "stream",
     "text": [
      "\n",
      "                                                              \n",
      "Epoch :   0%|          | 0/5 [00:01<?, ?it/s]00:01,  4.57it/s]\u001b[A\n",
      "Instances :  46%|████▋     | 7/15.125 [00:01<00:01,  4.55it/s]\u001b[A"
     ]
    },
    {
     "name": "stdout",
     "output_type": "stream",
     "text": [
      "135.7681\t13576.81%\t[-0.00104117] (x[167])\n"
     ]
    },
    {
     "name": "stderr",
     "output_type": "stream",
     "text": [
      "\n",
      "                                                              \n",
      "Epoch :   0%|          | 0/5 [00:01<?, ?it/s]00:01,  4.55it/s]\u001b[A\n",
      "Instances :  53%|█████▎    | 8/15.125 [00:01<00:01,  4.38it/s]\u001b[A"
     ]
    },
    {
     "name": "stdout",
     "output_type": "stream",
     "text": [
      "135.2431\t13524.31%\t[0.022059] (x[201])\n"
     ]
    },
    {
     "name": "stderr",
     "output_type": "stream",
     "text": [
      "\n",
      "                                                              \n",
      "Epoch :   0%|          | 0/5 [00:01<?, ?it/s]00:01,  4.38it/s]\u001b[A\n",
      "Instances :  60%|█████▉    | 9/15.125 [00:02<00:01,  4.41it/s]\u001b[A"
     ]
    },
    {
     "name": "stdout",
     "output_type": "stream",
     "text": [
      "134.7090\t13470.90%\t[0.04560759] (x[251])\n"
     ]
    },
    {
     "name": "stderr",
     "output_type": "stream",
     "text": [
      "\n",
      "                                                              \n",
      "Epoch :   0%|          | 0/5 [00:02<?, ?it/s]00:01,  4.41it/s]\u001b[A\n",
      "Instances :  66%|██████▌   | 10/15.125 [00:02<00:01,  4.35it/s]\u001b[A"
     ]
    },
    {
     "name": "stdout",
     "output_type": "stream",
     "text": [
      "134.2540\t13425.41%\t[0.06570456] (x[263])\n"
     ]
    },
    {
     "name": "stderr",
     "output_type": "stream",
     "text": [
      "\n",
      "                                                               \n",
      "Epoch :   0%|          | 0/5 [00:02<?, ?it/s]<00:01,  4.35it/s]\u001b[A\n",
      "Instances :  73%|███████▎  | 11/15.125 [00:02<00:00,  4.43it/s]\u001b[A"
     ]
    },
    {
     "name": "stdout",
     "output_type": "stream",
     "text": [
      "133.7880\t13378.80%\t[0.08633083] (x[448])\n"
     ]
    },
    {
     "name": "stderr",
     "output_type": "stream",
     "text": [
      "\n",
      "                                                               \n",
      "Epoch :   0%|          | 0/5 [00:02<?, ?it/s]<00:00,  4.43it/s]\u001b[A\n",
      "Instances :  79%|███████▉  | 12/15.125 [00:02<00:00,  4.48it/s]\u001b[A"
     ]
    },
    {
     "name": "stdout",
     "output_type": "stream",
     "text": [
      "133.3116\t13331.17%\t[0.10744922] (x[323])\n"
     ]
    },
    {
     "name": "stderr",
     "output_type": "stream",
     "text": [
      "\n",
      "                                                               \n",
      "Epoch :   0%|          | 0/5 [00:02<?, ?it/s]<00:00,  4.48it/s]\u001b[A\n",
      "Instances :  86%|████████▌ | 13/15.125 [00:02<00:00,  4.46it/s]\u001b[A"
     ]
    },
    {
     "name": "stdout",
     "output_type": "stream",
     "text": [
      "132.7883\t13278.83%\t[0.13069916] (x[223])\n"
     ]
    },
    {
     "name": "stderr",
     "output_type": "stream",
     "text": [
      "\n",
      "                                                               \n",
      "Epoch :   0%|          | 0/5 [00:03<?, ?it/s]<00:00,  4.46it/s]\u001b[A\n",
      "Instances :  93%|█████████▎| 14/15.125 [00:03<00:00,  4.37it/s]\u001b[A"
     ]
    },
    {
     "name": "stdout",
     "output_type": "stream",
     "text": [
      "132.2575\t13225.75%\t[0.15432602] (x[457])\n"
     ]
    },
    {
     "name": "stderr",
     "output_type": "stream",
     "text": [
      "\n",
      "                                                               \n",
      "Epoch :   0%|          | 0/5 [00:03<?, ?it/s]<00:00,  4.37it/s]\u001b[A\n",
      "Instances :  99%|█████████▉| 15/15.125 [00:03<00:00,  4.34it/s]\u001b[A"
     ]
    },
    {
     "name": "stdout",
     "output_type": "stream",
     "text": [
      "131.6871\t13168.72%\t[0.179771] (x[278])\n"
     ]
    },
    {
     "name": "stderr",
     "output_type": "stream",
     "text": [
      "\n",
      "                                                               \n",
      "Epoch :   0%|          | 0/5 [00:03<?, ?it/s]<00:00,  4.34it/s]\u001b[A\n",
      "Instances : 16it [00:03,  4.44it/s]                            \u001b[A\n",
      "\n",
      "Test :   0%|          | 0/121 [00:00<?, ?it/s]\u001b[A\n",
      "Test :   4%|▍         | 5/121 [00:00<00:02, 42.55it/s]\u001b[A"
     ]
    },
    {
     "name": "stdout",
     "output_type": "stream",
     "text": [
      "131.0585\t13105.85%\t[0.20788269] (x[398])\n"
     ]
    },
    {
     "name": "stderr",
     "output_type": "stream",
     "text": [
      "\n",
      "Test :   8%|▊         | 10/121 [00:00<00:02, 42.19it/s]\u001b[A\n",
      "Test :  12%|█▏        | 15/121 [00:00<00:02, 43.39it/s]\u001b[A\n",
      "Test :  17%|█▋        | 20/121 [00:00<00:02, 44.37it/s]\u001b[A\n",
      "Test :  21%|██        | 25/121 [00:00<00:02, 45.02it/s]\u001b[A\n",
      "Test :  25%|██▍       | 30/121 [00:00<00:02, 45.48it/s]\u001b[A\n",
      "Test :  29%|██▉       | 35/121 [00:00<00:01, 45.67it/s]\u001b[A\n",
      "Test :  33%|███▎      | 40/121 [00:00<00:01, 45.69it/s]\u001b[A\n",
      "Test :  37%|███▋      | 45/121 [00:00<00:01, 45.80it/s]\u001b[A\n",
      "Test :  41%|████▏     | 50/121 [00:01<00:01, 44.19it/s]\u001b[A\n",
      "Test :  45%|████▌     | 55/121 [00:01<00:01, 43.48it/s]\u001b[A\n",
      "Test :  50%|████▉     | 60/121 [00:01<00:01, 42.88it/s]\u001b[A\n",
      "Test :  54%|█████▎    | 65/121 [00:01<00:01, 43.07it/s]\u001b[A\n",
      "Test :  58%|█████▊    | 70/121 [00:01<00:01, 42.99it/s]\u001b[A\n",
      "Test :  62%|██████▏   | 75/121 [00:01<00:01, 43.84it/s]\u001b[A\n",
      "Test :  66%|██████▌   | 80/121 [00:01<00:00, 44.51it/s]\u001b[A\n",
      "Test :  70%|███████   | 85/121 [00:01<00:00, 44.92it/s]\u001b[A\n",
      "Test :  74%|███████▍  | 90/121 [00:02<00:00, 43.68it/s]\u001b[A\n",
      "Test :  79%|███████▊  | 95/121 [00:02<00:00, 44.18it/s]\u001b[A\n",
      "Test :  83%|████████▎ | 100/121 [00:02<00:00, 44.65it/s]\u001b[A\n",
      "Test :  87%|████████▋ | 105/121 [00:02<00:00, 44.38it/s]\u001b[A\n",
      "Test :  91%|█████████ | 110/121 [00:02<00:00, 44.64it/s]\u001b[A\n",
      "Test :  95%|█████████▌| 115/121 [00:02<00:00, 44.89it/s]\u001b[A\n",
      "Test : 100%|██████████| 121/121 [00:02<00:00, 44.13it/s]\u001b[A\n",
      "Epoch :  20%|██        | 1/5 [00:06<00:25,  6.35s/it]\n",
      "Instances :   0%|          | 0/15.125 [00:00<?, ?it/s]\u001b[A"
     ]
    },
    {
     "name": "stdout",
     "output_type": "stream",
     "text": [
      "EPOCH SUMMARY 135.0925 13509.25% 1637409.99%\n"
     ]
    },
    {
     "name": "stderr",
     "output_type": "stream",
     "text": [
      "\n",
      "                                                      \n",
      "Epoch :  20%|██        | 1/5 [00:06<00:25,  6.35s/it]]\u001b[A\n",
      "Instances :   7%|▋         | 1/15.125 [00:00<00:03,  4.66it/s]\u001b[A"
     ]
    },
    {
     "name": "stdout",
     "output_type": "stream",
     "text": [
      "130.3707\t13037.07%\t[0.23872176] (x[285])\n"
     ]
    },
    {
     "name": "stderr",
     "output_type": "stream",
     "text": [
      "\n",
      "                                                              \n",
      "Epoch :  20%|██        | 1/5 [00:06<00:25,  6.35s/it]4.66it/s]\u001b[A\n",
      "Instances :  13%|█▎        | 2/15.125 [00:00<00:03,  4.30it/s]\u001b[A"
     ]
    },
    {
     "name": "stdout",
     "output_type": "stream",
     "text": [
      "129.6558\t12965.58%\t[0.2708635] (x[236])\n"
     ]
    },
    {
     "name": "stderr",
     "output_type": "stream",
     "text": [
      "\n",
      "                                                              \n",
      "Epoch :  20%|██        | 1/5 [00:07<00:25,  6.35s/it]4.30it/s]\u001b[A\n",
      "Instances :  20%|█▉        | 3/15.125 [00:00<00:02,  4.40it/s]\u001b[A"
     ]
    },
    {
     "name": "stdout",
     "output_type": "stream",
     "text": [
      "128.9061\t12890.61%\t[0.3046702] (x[404])\n"
     ]
    },
    {
     "name": "stderr",
     "output_type": "stream",
     "text": [
      "\n",
      "                                                              \n",
      "Epoch :  20%|██        | 1/5 [00:07<00:25,  6.35s/it]4.40it/s]\u001b[A\n",
      "Instances :  26%|██▋       | 4/15.125 [00:00<00:02,  4.44it/s]\u001b[A"
     ]
    },
    {
     "name": "stdout",
     "output_type": "stream",
     "text": [
      "128.1087\t12810.87%\t[0.34074396] (x[325])\n"
     ]
    },
    {
     "name": "stderr",
     "output_type": "stream",
     "text": [
      "\n",
      "                                                              \n",
      "Epoch :  20%|██        | 1/5 [00:07<00:25,  6.35s/it]4.44it/s]\u001b[A\n",
      "Instances :  33%|███▎      | 5/15.125 [00:01<00:02,  4.47it/s]\u001b[A"
     ]
    },
    {
     "name": "stdout",
     "output_type": "stream",
     "text": [
      "127.2600\t12726.00%\t[0.3792651] (x[388])\n"
     ]
    },
    {
     "name": "stderr",
     "output_type": "stream",
     "text": [
      "\n",
      "                                                              \n",
      "Epoch :  20%|██        | 1/5 [00:07<00:25,  6.35s/it]4.47it/s]\u001b[A\n",
      "Instances :  40%|███▉      | 6/15.125 [00:01<00:02,  4.47it/s]\u001b[A"
     ]
    },
    {
     "name": "stdout",
     "output_type": "stream",
     "text": [
      "126.3583\t12635.83%\t[0.42033836] (x[191])\n"
     ]
    },
    {
     "name": "stderr",
     "output_type": "stream",
     "text": [
      "\n",
      "                                                              \n",
      "Epoch :  20%|██        | 1/5 [00:07<00:25,  6.35s/it]4.47it/s]\u001b[A\n",
      "Instances :  46%|████▋     | 7/15.125 [00:01<00:01,  4.33it/s]\u001b[A"
     ]
    },
    {
     "name": "stdout",
     "output_type": "stream",
     "text": [
      "125.4014\t12540.14%\t[0.4640903] (x[206])\n"
     ]
    },
    {
     "name": "stderr",
     "output_type": "stream",
     "text": [
      "\n",
      "                                                              \n",
      "Epoch :  20%|██        | 1/5 [00:08<00:25,  6.35s/it]4.33it/s]\u001b[A\n",
      "Instances :  53%|█████▎    | 8/15.125 [00:01<00:01,  4.29it/s]\u001b[A"
     ]
    },
    {
     "name": "stdout",
     "output_type": "stream",
     "text": [
      "124.4332\t12443.32%\t[0.50854015] (x[474])\n"
     ]
    },
    {
     "name": "stderr",
     "output_type": "stream",
     "text": [
      "\n",
      "                                                              \n",
      "Epoch :  20%|██        | 1/5 [00:08<00:25,  6.35s/it]4.29it/s]\u001b[A\n",
      "Instances :  60%|█████▉    | 9/15.125 [00:02<00:01,  4.36it/s]\u001b[A"
     ]
    },
    {
     "name": "stdout",
     "output_type": "stream",
     "text": [
      "123.4152\t12341.52%\t[0.5554747] (x[429])\n"
     ]
    },
    {
     "name": "stderr",
     "output_type": "stream",
     "text": [
      "\n",
      "                                                              \n",
      "Epoch :  20%|██        | 1/5 [00:08<00:25,  6.35s/it]4.36it/s]\u001b[A\n",
      "Instances :  66%|██████▌   | 10/15.125 [00:02<00:01,  4.41it/s]\u001b[A"
     ]
    },
    {
     "name": "stdout",
     "output_type": "stream",
     "text": [
      "122.3193\t12231.93%\t[0.6062248] (x[477])\n"
     ]
    },
    {
     "name": "stderr",
     "output_type": "stream",
     "text": [
      "\n",
      "                                                               \n",
      "Epoch :  20%|██        | 1/5 [00:08<00:25,  6.35s/it] 4.41it/s]\u001b[A\n",
      "Instances :  73%|███████▎  | 11/15.125 [00:02<00:00,  4.43it/s]\u001b[A"
     ]
    },
    {
     "name": "stdout",
     "output_type": "stream",
     "text": [
      "121.1294\t12112.95%\t[0.6615933] (x[439])\n"
     ]
    },
    {
     "name": "stderr",
     "output_type": "stream",
     "text": [
      "\n",
      "                                                               \n",
      "Epoch :  20%|██        | 1/5 [00:09<00:25,  6.35s/it] 4.43it/s]\u001b[A\n",
      "Instances :  79%|███████▉  | 12/15.125 [00:02<00:00,  4.42it/s]\u001b[A"
     ]
    },
    {
     "name": "stdout",
     "output_type": "stream",
     "text": [
      "119.8609\t11986.09%\t[0.72094] (x[351])\n"
     ]
    },
    {
     "name": "stderr",
     "output_type": "stream",
     "text": [
      "\n",
      "                                                               \n",
      "Epoch :  20%|██        | 1/5 [00:09<00:25,  6.35s/it] 4.42it/s]\u001b[A\n",
      "Instances :  86%|████████▌ | 13/15.125 [00:02<00:00,  4.45it/s]\u001b[A"
     ]
    },
    {
     "name": "stdout",
     "output_type": "stream",
     "text": [
      "118.5128\t11851.28%\t[0.78436834] (x[473])\n"
     ]
    },
    {
     "name": "stderr",
     "output_type": "stream",
     "text": [
      "\n",
      "                                                               \n",
      "Epoch :  20%|██        | 1/5 [00:09<00:25,  6.35s/it] 4.45it/s]\u001b[A\n",
      "Instances :  93%|█████████▎| 14/15.125 [00:03<00:00,  4.49it/s]\u001b[A"
     ]
    },
    {
     "name": "stdout",
     "output_type": "stream",
     "text": [
      "117.0833\t11708.33%\t[0.8520446] (x[477])\n"
     ]
    },
    {
     "name": "stderr",
     "output_type": "stream",
     "text": [
      "\n",
      "                                                               \n",
      "Epoch :  20%|██        | 1/5 [00:09<00:25,  6.35s/it] 4.49it/s]\u001b[A\n",
      "Instances :  99%|█████████▉| 15/15.125 [00:03<00:00,  4.50it/s]\u001b[A"
     ]
    },
    {
     "name": "stdout",
     "output_type": "stream",
     "text": [
      "115.5698\t11556.98%\t[0.92416966] (x[403])\n"
     ]
    },
    {
     "name": "stderr",
     "output_type": "stream",
     "text": [
      "\n",
      "                                                               \n",
      "Epoch :  20%|██        | 1/5 [00:09<00:25,  6.35s/it] 4.50it/s]\u001b[A\n",
      "Instances : 16it [00:03,  4.41it/s]                            \u001b[A\n",
      "\n",
      "Test :   0%|          | 0/121 [00:00<?, ?it/s]\u001b[A\n",
      "Test :   4%|▍         | 5/121 [00:00<00:02, 42.48it/s]\u001b[A"
     ]
    },
    {
     "name": "stdout",
     "output_type": "stream",
     "text": [
      "113.9695\t11396.95%\t[1.0009701] (x[476])\n"
     ]
    },
    {
     "name": "stderr",
     "output_type": "stream",
     "text": [
      "\n",
      "Test :   8%|▊         | 10/121 [00:00<00:02, 43.70it/s]\u001b[A\n",
      "Test :  12%|█▏        | 15/121 [00:00<00:02, 44.55it/s]\u001b[A\n",
      "Test :  17%|█▋        | 20/121 [00:00<00:02, 43.82it/s]\u001b[A\n",
      "Test :  21%|██        | 25/121 [00:00<00:02, 44.36it/s]\u001b[A\n",
      "Test :  25%|██▍       | 30/121 [00:00<00:02, 43.79it/s]\u001b[A\n",
      "Test :  29%|██▉       | 35/121 [00:00<00:01, 44.38it/s]\u001b[A\n",
      "Test :  33%|███▎      | 40/121 [00:00<00:01, 44.82it/s]\u001b[A\n",
      "Test :  37%|███▋      | 45/121 [00:01<00:01, 45.22it/s]\u001b[A\n",
      "Test :  41%|████▏     | 50/121 [00:01<00:01, 45.23it/s]\u001b[A\n",
      "Test :  45%|████▌     | 55/121 [00:01<00:01, 45.14it/s]\u001b[A\n",
      "Test :  50%|████▉     | 60/121 [00:01<00:01, 45.30it/s]\u001b[A\n",
      "Test :  54%|█████▎    | 65/121 [00:01<00:01, 43.13it/s]\u001b[A\n",
      "Test :  58%|█████▊    | 70/121 [00:01<00:01, 42.27it/s]\u001b[A\n",
      "Test :  62%|██████▏   | 75/121 [00:01<00:01, 41.50it/s]\u001b[A\n",
      "Test :  66%|██████▌   | 80/121 [00:01<00:01, 40.92it/s]\u001b[A\n",
      "Test :  70%|███████   | 85/121 [00:01<00:00, 41.03it/s]\u001b[A\n",
      "Test :  74%|███████▍  | 90/121 [00:02<00:00, 40.93it/s]\u001b[A\n",
      "Test :  79%|███████▊  | 95/121 [00:02<00:00, 41.28it/s]\u001b[A\n",
      "Test :  83%|████████▎ | 100/121 [00:02<00:00, 42.43it/s]\u001b[A\n",
      "Test :  87%|████████▋ | 105/121 [00:02<00:00, 43.35it/s]\u001b[A\n",
      "Test :  91%|█████████ | 110/121 [00:02<00:00, 44.12it/s]\u001b[A\n",
      "Test :  95%|█████████▌| 115/121 [00:02<00:00, 44.63it/s]\u001b[A\n",
      "Test : 100%|██████████| 121/121 [00:02<00:00, 43.36it/s]\u001b[A\n",
      "Epoch :  40%|████      | 2/5 [00:12<00:19,  6.40s/it]\n",
      "Instances :   0%|          | 0/15.125 [00:00<?, ?it/s]\u001b[A"
     ]
    },
    {
     "name": "stdout",
     "output_type": "stream",
     "text": [
      "EPOCH SUMMARY 123.2722 12327.22% 1637409.99%\n"
     ]
    },
    {
     "name": "stderr",
     "output_type": "stream",
     "text": [
      "\n",
      "                                                      \n",
      "Epoch :  40%|████      | 2/5 [00:13<00:19,  6.40s/it]]\u001b[A\n",
      "Instances :   7%|▋         | 1/15.125 [00:00<00:03,  4.09it/s]\u001b[A"
     ]
    },
    {
     "name": "stdout",
     "output_type": "stream",
     "text": [
      "112.2853\t11228.53%\t[1.0824096] (x[457])\n"
     ]
    },
    {
     "name": "stderr",
     "output_type": "stream",
     "text": [
      "\n",
      "                                                              \n",
      "Epoch :  40%|████      | 2/5 [00:13<00:19,  6.40s/it]4.09it/s]\u001b[A\n",
      "Instances :  13%|█▎        | 2/15.125 [00:00<00:03,  4.13it/s]\u001b[A"
     ]
    },
    {
     "name": "stdout",
     "output_type": "stream",
     "text": [
      "110.5004\t11050.04%\t[1.1694273] (x[283])\n"
     ]
    },
    {
     "name": "stderr",
     "output_type": "stream",
     "text": [
      "\n",
      "                                                              \n",
      "Epoch :  40%|████      | 2/5 [00:13<00:19,  6.40s/it]4.13it/s]\u001b[A\n",
      "Instances :  20%|█▉        | 3/15.125 [00:00<00:02,  4.26it/s]\u001b[A"
     ]
    },
    {
     "name": "stdout",
     "output_type": "stream",
     "text": [
      "108.6254\t10862.54%\t[1.2616313] (x[267])\n"
     ]
    },
    {
     "name": "stderr",
     "output_type": "stream",
     "text": [
      "\n",
      "                                                              \n",
      "Epoch :  40%|████      | 2/5 [00:13<00:19,  6.40s/it]4.26it/s]\u001b[A\n",
      "Instances :  26%|██▋       | 4/15.125 [00:00<00:02,  4.34it/s]\u001b[A"
     ]
    },
    {
     "name": "stdout",
     "output_type": "stream",
     "text": [
      "106.6520\t10665.19%\t[1.3595876] (x[320])\n"
     ]
    },
    {
     "name": "stderr",
     "output_type": "stream",
     "text": [
      "\n",
      "                                                              \n",
      "Epoch :  40%|████      | 2/5 [00:13<00:19,  6.40s/it]4.34it/s]\u001b[A\n",
      "Instances :  33%|███▎      | 5/15.125 [00:01<00:02,  4.22it/s]\u001b[A"
     ]
    },
    {
     "name": "stdout",
     "output_type": "stream",
     "text": [
      "104.5773\t10457.73%\t[1.4635999] (x[464])\n"
     ]
    },
    {
     "name": "stderr",
     "output_type": "stream",
     "text": [
      "\n",
      "                                                              \n",
      "Epoch :  40%|████      | 2/5 [00:14<00:19,  6.40s/it]4.22it/s]\u001b[A\n",
      "Instances :  40%|███▉      | 6/15.125 [00:01<00:02,  4.21it/s]\u001b[A"
     ]
    },
    {
     "name": "stdout",
     "output_type": "stream",
     "text": [
      "102.3981\t10239.81%\t[1.5740324] (x[319])\n"
     ]
    },
    {
     "name": "stderr",
     "output_type": "stream",
     "text": [
      "\n",
      "                                                              \n",
      "Epoch :  40%|████      | 2/5 [00:14<00:19,  6.40s/it]4.21it/s]\u001b[A\n",
      "Instances :  46%|████▋     | 7/15.125 [00:01<00:01,  4.31it/s]\u001b[A"
     ]
    },
    {
     "name": "stdout",
     "output_type": "stream",
     "text": [
      "100.1123\t10011.23%\t[1.6912079] (x[435])\n"
     ]
    },
    {
     "name": "stderr",
     "output_type": "stream",
     "text": [
      "\n",
      "                                                              \n",
      "Epoch :  40%|████      | 2/5 [00:14<00:19,  6.40s/it]4.31it/s]\u001b[A\n",
      "Instances :  53%|█████▎    | 8/15.125 [00:01<00:01,  4.39it/s]\u001b[A"
     ]
    },
    {
     "name": "stdout",
     "output_type": "stream",
     "text": [
      "97.7182\t9771.83%\t[1.8154571] (x[424])\n"
     ]
    },
    {
     "name": "stderr",
     "output_type": "stream",
     "text": [
      "\n",
      "                                                              \n",
      "Epoch :  40%|████      | 2/5 [00:14<00:19,  6.40s/it]4.39it/s]\u001b[A\n",
      "Instances :  60%|█████▉    | 9/15.125 [00:02<00:01,  4.31it/s]\u001b[A"
     ]
    },
    {
     "name": "stdout",
     "output_type": "stream",
     "text": [
      "95.2148\t9521.48%\t[1.9471216] (x[276])\n"
     ]
    },
    {
     "name": "stderr",
     "output_type": "stream",
     "text": [
      "\n",
      "                                                              \n",
      "Epoch :  40%|████      | 2/5 [00:15<00:19,  6.40s/it]4.31it/s]\u001b[A\n",
      "Instances :  66%|██████▌   | 10/15.125 [00:02<00:01,  4.24it/s]\u001b[A"
     ]
    },
    {
     "name": "stdout",
     "output_type": "stream",
     "text": [
      "92.6011\t9260.11%\t[2.0865486] (x[318])\n"
     ]
    },
    {
     "name": "stderr",
     "output_type": "stream",
     "text": [
      "\n",
      "                                                               \n",
      "Epoch :  40%|████      | 2/5 [00:15<00:19,  6.40s/it] 4.24it/s]\u001b[A\n",
      "Instances :  73%|███████▎  | 11/15.125 [00:02<00:00,  4.34it/s]\u001b[A"
     ]
    },
    {
     "name": "stdout",
     "output_type": "stream",
     "text": [
      "89.8773\t8987.73%\t[2.2340946] (x[448])\n"
     ]
    },
    {
     "name": "stderr",
     "output_type": "stream",
     "text": [
      "\n",
      "                                                               \n",
      "Epoch :  40%|████      | 2/5 [00:15<00:19,  6.40s/it] 4.34it/s]\u001b[A\n",
      "Instances :  79%|███████▉  | 12/15.125 [00:02<00:00,  4.43it/s]\u001b[A"
     ]
    },
    {
     "name": "stdout",
     "output_type": "stream",
     "text": [
      "87.0440\t8704.40%\t[2.3901205] (x[456])\n"
     ]
    },
    {
     "name": "stderr",
     "output_type": "stream",
     "text": [
      "\n",
      "                                                               \n",
      "Epoch :  40%|████      | 2/5 [00:15<00:19,  6.40s/it] 4.43it/s]\u001b[A\n",
      "Instances :  86%|████████▌ | 13/15.125 [00:02<00:00,  4.48it/s]\u001b[A"
     ]
    },
    {
     "name": "stdout",
     "output_type": "stream",
     "text": [
      "84.1013\t8410.13%\t[2.555054] (x[453])\n"
     ]
    },
    {
     "name": "stderr",
     "output_type": "stream",
     "text": [
      "\n",
      "                                                               \n",
      "Epoch :  40%|████      | 2/5 [00:15<00:19,  6.40s/it] 4.48it/s]\u001b[A\n",
      "Instances :  93%|█████████▎| 14/15.125 [00:03<00:00,  4.50it/s]\u001b[A"
     ]
    },
    {
     "name": "stdout",
     "output_type": "stream",
     "text": [
      "81.0495\t8104.95%\t[2.7293983] (x[303])\n"
     ]
    },
    {
     "name": "stderr",
     "output_type": "stream",
     "text": [
      "\n",
      "                                                               \n",
      "Epoch :  40%|████      | 2/5 [00:16<00:19,  6.40s/it] 4.50it/s]\u001b[A\n",
      "Instances :  99%|█████████▉| 15/15.125 [00:03<00:00,  4.50it/s]\u001b[A"
     ]
    },
    {
     "name": "stdout",
     "output_type": "stream",
     "text": [
      "77.8886\t7788.86%\t[2.9137158] (x[446])\n"
     ]
    },
    {
     "name": "stderr",
     "output_type": "stream",
     "text": [
      "\n",
      "                                                               \n",
      "Epoch :  40%|████      | 2/5 [00:16<00:19,  6.40s/it] 4.50it/s]\u001b[A\n",
      "Instances : 16it [00:03,  4.34it/s]                            \u001b[A\n",
      "\n",
      "Test :   0%|          | 0/121 [00:00<?, ?it/s]\u001b[A\n",
      "Test :   4%|▍         | 5/121 [00:00<00:02, 45.35it/s]\u001b[A"
     ]
    },
    {
     "name": "stdout",
     "output_type": "stream",
     "text": [
      "74.6262\t7462.62%\t[3.1082158] (x[426])\n"
     ]
    },
    {
     "name": "stderr",
     "output_type": "stream",
     "text": [
      "\n",
      "Test :   8%|▊         | 10/121 [00:00<00:02, 45.46it/s]\u001b[A\n",
      "Test :  12%|█▏        | 15/121 [00:00<00:02, 45.72it/s]\u001b[A\n",
      "Test :  17%|█▋        | 20/121 [00:00<00:02, 45.81it/s]\u001b[A\n",
      "Test :  21%|██        | 25/121 [00:00<00:02, 45.85it/s]\u001b[A\n",
      "Test :  25%|██▍       | 30/121 [00:00<00:02, 42.37it/s]\u001b[A\n",
      "Test :  29%|██▉       | 35/121 [00:00<00:02, 42.53it/s]\u001b[A\n",
      "Test :  33%|███▎      | 40/121 [00:00<00:01, 43.55it/s]\u001b[A\n",
      "Test :  37%|███▋      | 45/121 [00:01<00:01, 44.27it/s]\u001b[A\n",
      "Test :  41%|████▏     | 50/121 [00:01<00:01, 44.77it/s]\u001b[A\n",
      "Test :  45%|████▌     | 55/121 [00:01<00:01, 45.08it/s]\u001b[A\n",
      "Test :  50%|████▉     | 60/121 [00:01<00:01, 45.38it/s]\u001b[A\n",
      "Test :  54%|█████▎    | 65/121 [00:01<00:01, 45.42it/s]\u001b[A\n",
      "Test :  58%|█████▊    | 70/121 [00:01<00:01, 45.51it/s]\u001b[A\n",
      "Test :  62%|██████▏   | 75/121 [00:01<00:01, 45.60it/s]\u001b[A\n",
      "Test :  66%|██████▌   | 80/121 [00:01<00:00, 45.39it/s]\u001b[A\n",
      "Test :  70%|███████   | 85/121 [00:01<00:00, 44.67it/s]\u001b[A\n",
      "Test :  74%|███████▍  | 90/121 [00:02<00:00, 44.93it/s]\u001b[A\n",
      "Test :  79%|███████▊  | 95/121 [00:02<00:00, 43.13it/s]\u001b[A\n",
      "Test :  83%|████████▎ | 100/121 [00:02<00:00, 42.69it/s]\u001b[A\n",
      "Test :  87%|████████▋ | 105/121 [00:02<00:00, 42.57it/s]\u001b[A\n",
      "Test :  91%|█████████ | 110/121 [00:02<00:00, 43.38it/s]\u001b[A\n",
      "Test :  95%|█████████▌| 115/121 [00:02<00:00, 44.20it/s]\u001b[A\n",
      "Test : 100%|██████████| 121/121 [00:02<00:00, 44.32it/s]\u001b[A\n",
      "Epoch :  60%|██████    | 3/5 [00:19<00:12,  6.41s/it]\n",
      "Instances :   0%|          | 0/15.125 [00:00<?, ?it/s]\u001b[A"
     ]
    },
    {
     "name": "stdout",
     "output_type": "stream",
     "text": [
      "EPOCH SUMMARY 95.3295 9532.95% 1637409.99%\n"
     ]
    },
    {
     "name": "stderr",
     "output_type": "stream",
     "text": [
      "\n",
      "                                                      \n",
      "Epoch :  60%|██████    | 3/5 [00:19<00:12,  6.41s/it]]\u001b[A\n",
      "Instances :   7%|▋         | 1/15.125 [00:00<00:03,  4.65it/s]\u001b[A"
     ]
    },
    {
     "name": "stdout",
     "output_type": "stream",
     "text": [
      "71.2692\t7126.92%\t[3.3131952] (x[340])\n"
     ]
    },
    {
     "name": "stderr",
     "output_type": "stream",
     "text": [
      "\n",
      "                                                              \n",
      "Epoch :  60%|██████    | 3/5 [00:19<00:12,  6.41s/it]4.65it/s]\u001b[A\n",
      "Instances :  13%|█▎        | 2/15.125 [00:00<00:02,  4.56it/s]\u001b[A"
     ]
    },
    {
     "name": "stdout",
     "output_type": "stream",
     "text": [
      "67.8227\t6782.27%\t[3.5291424] (x[454])\n"
     ]
    },
    {
     "name": "stderr",
     "output_type": "stream",
     "text": [
      "\n",
      "                                                              \n",
      "Epoch :  60%|██████    | 3/5 [00:19<00:12,  6.41s/it]4.56it/s]\u001b[A\n",
      "Instances :  20%|█▉        | 3/15.125 [00:00<00:02,  4.45it/s]\u001b[A"
     ]
    },
    {
     "name": "stdout",
     "output_type": "stream",
     "text": [
      "64.2952\t6429.52%\t[3.756435] (x[297])\n"
     ]
    },
    {
     "name": "stderr",
     "output_type": "stream",
     "text": [
      "\n",
      "                                                              \n",
      "Epoch :  60%|██████    | 3/5 [00:20<00:12,  6.41s/it]4.45it/s]\u001b[A\n",
      "Instances :  26%|██▋       | 4/15.125 [00:00<00:02,  4.42it/s]\u001b[A"
     ]
    },
    {
     "name": "stdout",
     "output_type": "stream",
     "text": [
      "60.6966\t6069.66%\t[3.995422] (x[347])\n"
     ]
    },
    {
     "name": "stderr",
     "output_type": "stream",
     "text": [
      "\n",
      "                                                              \n",
      "Epoch :  60%|██████    | 3/5 [00:20<00:12,  6.41s/it]4.42it/s]\u001b[A\n",
      "Instances :  33%|███▎      | 5/15.125 [00:01<00:02,  4.47it/s]\u001b[A"
     ]
    },
    {
     "name": "stdout",
     "output_type": "stream",
     "text": [
      "57.0391\t5703.91%\t[4.2464247] (x[309])\n"
     ]
    },
    {
     "name": "stderr",
     "output_type": "stream",
     "text": [
      "\n",
      "                                                              \n",
      "Epoch :  60%|██████    | 3/5 [00:20<00:12,  6.41s/it]4.47it/s]\u001b[A\n",
      "Instances :  40%|███▉      | 6/15.125 [00:01<00:02,  4.49it/s]\u001b[A"
     ]
    },
    {
     "name": "stdout",
     "output_type": "stream",
     "text": [
      "53.3366\t5333.66%\t[4.5097294] (x[477])\n"
     ]
    },
    {
     "name": "stderr",
     "output_type": "stream",
     "text": [
      "\n",
      "                                                              \n",
      "Epoch :  60%|██████    | 3/5 [00:20<00:12,  6.41s/it]4.49it/s]\u001b[A\n",
      "Instances :  46%|████▋     | 7/15.125 [00:01<00:01,  4.51it/s]\u001b[A"
     ]
    },
    {
     "name": "stdout",
     "output_type": "stream",
     "text": [
      "49.6053\t4960.53%\t[4.785576] (x[331])\n"
     ]
    },
    {
     "name": "stderr",
     "output_type": "stream",
     "text": [
      "\n",
      "                                                              \n",
      "Epoch :  60%|██████    | 3/5 [00:20<00:12,  6.41s/it]4.51it/s]\u001b[A\n",
      "Instances :  53%|█████▎    | 8/15.125 [00:01<00:01,  4.50it/s]\u001b[A"
     ]
    },
    {
     "name": "stdout",
     "output_type": "stream",
     "text": [
      "45.8633\t4586.33%\t[5.074148] (x[477])\n"
     ]
    },
    {
     "name": "stderr",
     "output_type": "stream",
     "text": [
      "\n",
      "                                                              \n",
      "Epoch :  60%|██████    | 3/5 [00:21<00:12,  6.41s/it]4.50it/s]\u001b[A\n",
      "Instances :  60%|█████▉    | 9/15.125 [00:02<00:01,  4.51it/s]\u001b[A"
     ]
    },
    {
     "name": "stdout",
     "output_type": "stream",
     "text": [
      "42.1313\t4213.13%\t[5.375559] (x[319])\n"
     ]
    },
    {
     "name": "stderr",
     "output_type": "stream",
     "text": [
      "\n",
      "                                                              \n",
      "Epoch :  60%|██████    | 3/5 [00:21<00:12,  6.41s/it]4.51it/s]\u001b[A\n",
      "Instances :  66%|██████▌   | 10/15.125 [00:02<00:01,  4.52it/s]\u001b[A"
     ]
    },
    {
     "name": "stdout",
     "output_type": "stream",
     "text": [
      "38.4319\t3843.19%\t[5.689832] (x[271])\n"
     ]
    },
    {
     "name": "stderr",
     "output_type": "stream",
     "text": [
      "\n",
      "                                                               \n",
      "Epoch :  60%|██████    | 3/5 [00:21<00:12,  6.41s/it] 4.52it/s]\u001b[A\n",
      "Instances :  73%|███████▎  | 11/15.125 [00:02<00:00,  4.54it/s]\u001b[A"
     ]
    },
    {
     "name": "stdout",
     "output_type": "stream",
     "text": [
      "34.8017\t3480.17%\t[6.015809] (x[260])\n"
     ]
    },
    {
     "name": "stderr",
     "output_type": "stream",
     "text": [
      "\n",
      "                                                               \n",
      "Epoch :  60%|██████    | 3/5 [00:21<00:12,  6.41s/it] 4.54it/s]\u001b[A\n",
      "Instances :  79%|███████▉  | 12/15.125 [00:02<00:00,  4.53it/s]\u001b[A"
     ]
    },
    {
     "name": "stdout",
     "output_type": "stream",
     "text": [
      "31.2336\t3123.36%\t[6.3564363] (x[359])\n"
     ]
    },
    {
     "name": "stderr",
     "output_type": "stream",
     "text": [
      "\n",
      "                                                               \n",
      "Epoch :  60%|██████    | 3/5 [00:22<00:12,  6.41s/it] 4.53it/s]\u001b[A\n",
      "Instances :  86%|████████▌ | 13/15.125 [00:02<00:00,  4.46it/s]\u001b[A"
     ]
    },
    {
     "name": "stdout",
     "output_type": "stream",
     "text": [
      "27.7883\t2778.83%\t[6.708421] (x[421])\n"
     ]
    },
    {
     "name": "stderr",
     "output_type": "stream",
     "text": [
      "\n",
      "                                                               \n",
      "Epoch :  60%|██████    | 3/5 [00:22<00:12,  6.41s/it] 4.46it/s]\u001b[A\n",
      "Instances :  93%|█████████▎| 14/15.125 [00:03<00:00,  4.34it/s]\u001b[A"
     ]
    },
    {
     "name": "stdout",
     "output_type": "stream",
     "text": [
      "24.4624\t2446.24%\t[7.0748863] (x[345])\n"
     ]
    },
    {
     "name": "stderr",
     "output_type": "stream",
     "text": [
      "\n",
      "                                                               \n",
      "Epoch :  60%|██████    | 3/5 [00:22<00:12,  6.41s/it] 4.34it/s]\u001b[A\n",
      "Instances :  99%|█████████▉| 15/15.125 [00:03<00:00,  4.29it/s]\u001b[A"
     ]
    },
    {
     "name": "stdout",
     "output_type": "stream",
     "text": [
      "21.3069\t2130.69%\t[7.453373] (x[234])\n"
     ]
    },
    {
     "name": "stderr",
     "output_type": "stream",
     "text": [
      "\n",
      "                                                               \n",
      "Epoch :  60%|██████    | 3/5 [00:22<00:12,  6.41s/it] 4.29it/s]\u001b[A\n",
      "Instances : 16it [00:03,  4.45it/s]                            \u001b[A\n",
      "\n",
      "Test :   0%|          | 0/121 [00:00<?, ?it/s]\u001b[A\n",
      "Test :   4%|▍         | 5/121 [00:00<00:02, 44.84it/s]\u001b[A"
     ]
    },
    {
     "name": "stdout",
     "output_type": "stream",
     "text": [
      "18.3582\t1835.82%\t[7.842617] (x[288])\n"
     ]
    },
    {
     "name": "stderr",
     "output_type": "stream",
     "text": [
      "\n",
      "Test :   8%|▊         | 10/121 [00:00<00:02, 42.32it/s]\u001b[A\n",
      "Test :  12%|█▏        | 15/121 [00:00<00:02, 43.40it/s]\u001b[A\n",
      "Test :  17%|█▋        | 20/121 [00:00<00:02, 44.34it/s]\u001b[A\n",
      "Test :  21%|██        | 25/121 [00:00<00:02, 44.91it/s]\u001b[A\n",
      "Test :  25%|██▍       | 30/121 [00:00<00:02, 45.21it/s]\u001b[A\n",
      "Test :  29%|██▉       | 35/121 [00:00<00:01, 45.39it/s]\u001b[A\n",
      "Test :  33%|███▎      | 40/121 [00:00<00:01, 45.46it/s]\u001b[A\n",
      "Test :  37%|███▋      | 45/121 [00:01<00:01, 45.51it/s]\u001b[A\n",
      "Test :  41%|████▏     | 50/121 [00:01<00:01, 45.51it/s]\u001b[A\n",
      "Test :  45%|████▌     | 55/121 [00:01<00:01, 44.65it/s]\u001b[A\n",
      "Test :  50%|████▉     | 60/121 [00:01<00:01, 44.88it/s]\u001b[A\n",
      "Test :  54%|█████▎    | 65/121 [00:01<00:01, 45.18it/s]\u001b[A\n",
      "Test :  58%|█████▊    | 70/121 [00:01<00:01, 45.30it/s]\u001b[A\n",
      "Test :  62%|██████▏   | 75/121 [00:01<00:01, 45.52it/s]\u001b[A\n",
      "Test :  66%|██████▌   | 80/121 [00:01<00:00, 45.59it/s]\u001b[A\n",
      "Test :  70%|███████   | 85/121 [00:01<00:00, 45.66it/s]\u001b[A\n",
      "Test :  74%|███████▍  | 90/121 [00:01<00:00, 45.51it/s]\u001b[A\n",
      "Test :  79%|███████▊  | 95/121 [00:02<00:00, 45.09it/s]\u001b[A\n",
      "Test :  83%|████████▎ | 100/121 [00:02<00:00, 43.24it/s]\u001b[A\n",
      "Test :  87%|████████▋ | 105/121 [00:02<00:00, 42.81it/s]\u001b[A\n",
      "Test :  91%|█████████ | 110/121 [00:02<00:00, 42.50it/s]\u001b[A\n",
      "Test :  95%|█████████▌| 115/121 [00:02<00:00, 43.21it/s]\u001b[A\n",
      "Test : 100%|██████████| 121/121 [00:02<00:00, 44.52it/s]\u001b[A\n",
      "Epoch :  80%|████████  | 4/5 [00:25<00:06,  6.38s/it]\n",
      "Instances :   0%|          | 0/15.125 [00:00<?, ?it/s]\u001b[A"
     ]
    },
    {
     "name": "stdout",
     "output_type": "stream",
     "text": [
      "EPOCH SUMMARY 44.2776 4427.76% 1637409.99%\n"
     ]
    },
    {
     "name": "stderr",
     "output_type": "stream",
     "text": [
      "\n",
      "                                                      \n",
      "Epoch :  80%|████████  | 4/5 [00:25<00:06,  6.38s/it]]\u001b[A\n",
      "Instances :   7%|▋         | 1/15.125 [00:00<00:03,  4.47it/s]\u001b[A"
     ]
    },
    {
     "name": "stdout",
     "output_type": "stream",
     "text": [
      "15.6506\t1565.06%\t[8.241136] (x[480])\n"
     ]
    },
    {
     "name": "stderr",
     "output_type": "stream",
     "text": [
      "\n",
      "                                                              \n",
      "Epoch :  80%|████████  | 4/5 [00:25<00:06,  6.38s/it]4.47it/s]\u001b[A\n",
      "Instances :  13%|█▎        | 2/15.125 [00:00<00:02,  4.43it/s]\u001b[A"
     ]
    },
    {
     "name": "stdout",
     "output_type": "stream",
     "text": [
      "13.2162\t1321.62%\t[8.647111] (x[475])\n"
     ]
    },
    {
     "name": "stderr",
     "output_type": "stream",
     "text": [
      "\n",
      "                                                              \n",
      "Epoch :  80%|████████  | 4/5 [00:26<00:06,  6.38s/it]4.43it/s]\u001b[A\n",
      "Instances :  20%|█▉        | 3/15.125 [00:00<00:02,  4.47it/s]\u001b[A"
     ]
    },
    {
     "name": "stdout",
     "output_type": "stream",
     "text": [
      "11.0838\t1108.38%\t[9.058297] (x[416])\n"
     ]
    },
    {
     "name": "stderr",
     "output_type": "stream",
     "text": [
      "\n",
      "                                                              \n",
      "Epoch :  80%|████████  | 4/5 [00:26<00:06,  6.38s/it]4.47it/s]\u001b[A\n",
      "Instances :  26%|██▋       | 4/15.125 [00:00<00:02,  4.51it/s]\u001b[A"
     ]
    },
    {
     "name": "stdout",
     "output_type": "stream",
     "text": [
      "9.2770\t927.70%\t[9.471953] (x[447])\n"
     ]
    },
    {
     "name": "stderr",
     "output_type": "stream",
     "text": [
      "\n",
      "                                                              \n",
      "Epoch :  80%|████████  | 4/5 [00:26<00:06,  6.38s/it]4.51it/s]\u001b[A\n",
      "Instances :  33%|███▎      | 5/15.125 [00:01<00:02,  4.54it/s]\u001b[A"
     ]
    },
    {
     "name": "stdout",
     "output_type": "stream",
     "text": [
      "7.8121\t781.21%\t[9.884797] (x[399])\n"
     ]
    },
    {
     "name": "stderr",
     "output_type": "stream",
     "text": [
      "\n",
      "                                                              \n",
      "Epoch :  80%|████████  | 4/5 [00:26<00:06,  6.38s/it]4.54it/s]\u001b[A\n",
      "Instances :  40%|███▉      | 6/15.125 [00:01<00:02,  4.39it/s]\u001b[A"
     ]
    },
    {
     "name": "stdout",
     "output_type": "stream",
     "text": [
      "6.6963\t669.63%\t[10.292904] (x[387])\n"
     ]
    },
    {
     "name": "stderr",
     "output_type": "stream",
     "text": [
      "\n",
      "                                                              \n",
      "Epoch :  80%|████████  | 4/5 [00:27<00:06,  6.38s/it]4.39it/s]\u001b[A\n",
      "Instances :  46%|████▋     | 7/15.125 [00:01<00:01,  4.30it/s]\u001b[A"
     ]
    },
    {
     "name": "stdout",
     "output_type": "stream",
     "text": [
      "5.9248\t592.48%\t[10.691907] (x[344])\n"
     ]
    },
    {
     "name": "stderr",
     "output_type": "stream",
     "text": [
      "\n",
      "                                                              \n",
      "Epoch :  80%|████████  | 4/5 [00:27<00:06,  6.38s/it]4.30it/s]\u001b[A\n",
      "Instances :  53%|█████▎    | 8/15.125 [00:01<00:01,  4.35it/s]\u001b[A"
     ]
    },
    {
     "name": "stdout",
     "output_type": "stream",
     "text": [
      "5.4799\t547.99%\t[11.076627] (x[395])\n"
     ]
    },
    {
     "name": "stderr",
     "output_type": "stream",
     "text": [
      "\n",
      "                                                              \n",
      "Epoch :  80%|████████  | 4/5 [00:27<00:06,  6.38s/it]4.35it/s]\u001b[A\n",
      "Instances :  60%|█████▉    | 9/15.125 [00:02<00:01,  4.38it/s]\u001b[A"
     ]
    },
    {
     "name": "stdout",
     "output_type": "stream",
     "text": [
      "5.3292\t532.92%\t[11.441558] (x[277])\n"
     ]
    },
    {
     "name": "stderr",
     "output_type": "stream",
     "text": [
      "\n",
      "                                                              \n",
      "Epoch :  80%|████████  | 4/5 [00:27<00:06,  6.38s/it]4.38it/s]\u001b[A\n",
      "Instances :  66%|██████▌   | 10/15.125 [00:02<00:01,  4.42it/s]\u001b[A"
     ]
    },
    {
     "name": "stdout",
     "output_type": "stream",
     "text": [
      "5.4260\t542.60%\t[11.780844] (x[266])\n"
     ]
    },
    {
     "name": "stderr",
     "output_type": "stream",
     "text": [
      "\n",
      "                                                               \n",
      "Epoch :  80%|████████  | 4/5 [00:28<00:06,  6.38s/it] 4.42it/s]\u001b[A\n",
      "Instances :  73%|███████▎  | 11/15.125 [00:02<00:00,  4.45it/s]\u001b[A"
     ]
    },
    {
     "name": "stdout",
     "output_type": "stream",
     "text": [
      "5.7113\t571.13%\t[12.088603] (x[315])\n"
     ]
    },
    {
     "name": "stderr",
     "output_type": "stream",
     "text": [
      "\n",
      "                                                               \n",
      "Epoch :  80%|████████  | 4/5 [00:28<00:06,  6.38s/it] 4.45it/s]\u001b[A\n",
      "Instances :  79%|███████▉  | 12/15.125 [00:02<00:00,  4.49it/s]\u001b[A"
     ]
    },
    {
     "name": "stdout",
     "output_type": "stream",
     "text": [
      "6.1176\t611.76%\t[12.359334] (x[353])\n"
     ]
    },
    {
     "name": "stderr",
     "output_type": "stream",
     "text": [
      "\n",
      "                                                               \n",
      "Epoch :  80%|████████  | 4/5 [00:28<00:06,  6.38s/it] 4.49it/s]\u001b[A\n",
      "Instances :  86%|████████▌ | 13/15.125 [00:02<00:00,  4.51it/s]\u001b[A"
     ]
    },
    {
     "name": "stdout",
     "output_type": "stream",
     "text": [
      "6.5751\t657.51%\t[12.588455] (x[451])\n"
     ]
    },
    {
     "name": "stderr",
     "output_type": "stream",
     "text": [
      "\n",
      "                                                               \n",
      "Epoch :  80%|████████  | 4/5 [00:28<00:06,  6.38s/it] 4.51it/s]\u001b[A\n",
      "Instances :  93%|█████████▎| 14/15.125 [00:03<00:00,  4.51it/s]\u001b[A"
     ]
    },
    {
     "name": "stdout",
     "output_type": "stream",
     "text": [
      "7.0186\t701.86%\t[12.77277] (x[438])\n"
     ]
    },
    {
     "name": "stderr",
     "output_type": "stream",
     "text": [
      "\n",
      "                                                               \n",
      "Epoch :  80%|████████  | 4/5 [00:28<00:06,  6.38s/it] 4.51it/s]\u001b[A\n",
      "Instances :  99%|█████████▉| 15/15.125 [00:03<00:00,  4.52it/s]\u001b[A"
     ]
    },
    {
     "name": "stdout",
     "output_type": "stream",
     "text": [
      "7.3947\t739.47%\t[12.910733] (x[373])\n"
     ]
    },
    {
     "name": "stderr",
     "output_type": "stream",
     "text": [
      "\n",
      "                                                               \n",
      "Epoch :  80%|████████  | 4/5 [00:29<00:06,  6.38s/it] 4.52it/s]\u001b[A\n",
      "Instances : 16it [00:03,  4.43it/s]                            \u001b[A\n",
      "\n",
      "Test :   0%|          | 0/121 [00:00<?, ?it/s]\u001b[A\n",
      "Test :   3%|▎         | 4/121 [00:00<00:03, 38.51it/s]\u001b[A"
     ]
    },
    {
     "name": "stdout",
     "output_type": "stream",
     "text": [
      "7.6656\t766.56%\t[13.002483] (x[311])\n"
     ]
    },
    {
     "name": "stderr",
     "output_type": "stream",
     "text": [
      "\n",
      "Test :   7%|▋         | 8/121 [00:00<00:02, 39.36it/s]\u001b[A\n",
      "Test :  11%|█         | 13/121 [00:00<00:02, 42.43it/s]\u001b[A\n",
      "Test :  15%|█▍        | 18/121 [00:00<00:02, 43.89it/s]\u001b[A\n",
      "Test :  19%|█▉        | 23/121 [00:00<00:02, 44.66it/s]\u001b[A\n",
      "Test :  23%|██▎       | 28/121 [00:00<00:02, 45.08it/s]\u001b[A\n",
      "Test :  27%|██▋       | 33/121 [00:00<00:01, 45.43it/s]\u001b[A\n",
      "Test :  31%|███▏      | 38/121 [00:00<00:01, 45.65it/s]\u001b[A\n",
      "Test :  36%|███▌      | 43/121 [00:00<00:01, 43.10it/s]\u001b[A\n",
      "Test :  40%|███▉      | 48/121 [00:01<00:01, 42.94it/s]\u001b[A\n",
      "Test :  44%|████▍     | 53/121 [00:01<00:01, 42.73it/s]\u001b[A\n",
      "Test :  48%|████▊     | 58/121 [00:01<00:01, 43.54it/s]\u001b[A\n",
      "Test :  52%|█████▏    | 63/121 [00:01<00:01, 44.24it/s]\u001b[A\n",
      "Test :  56%|█████▌    | 68/121 [00:01<00:01, 44.58it/s]\u001b[A\n",
      "Test :  60%|██████    | 73/121 [00:01<00:01, 44.89it/s]\u001b[A\n",
      "Test :  64%|██████▍   | 78/121 [00:01<00:00, 44.99it/s]\u001b[A\n",
      "Test :  69%|██████▊   | 83/121 [00:01<00:00, 45.19it/s]\u001b[A\n",
      "Test :  73%|███████▎  | 88/121 [00:01<00:00, 45.38it/s]\u001b[A\n",
      "Test :  77%|███████▋  | 93/121 [00:02<00:00, 43.66it/s]\u001b[A\n",
      "Test :  81%|████████  | 98/121 [00:02<00:00, 43.15it/s]\u001b[A\n",
      "Test :  85%|████████▌ | 103/121 [00:02<00:00, 42.85it/s]\u001b[A\n",
      "Test :  89%|████████▉ | 108/121 [00:02<00:00, 42.31it/s]\u001b[A\n",
      "Test :  93%|█████████▎| 113/121 [00:02<00:00, 42.35it/s]\u001b[A\n",
      "Test : 100%|██████████| 121/121 [00:02<00:00, 43.75it/s]\u001b[A\n",
      "Epoch : 100%|██████████| 5/5 [00:31<00:00,  6.38s/it]\n"
     ]
    },
    {
     "name": "stdout",
     "output_type": "stream",
     "text": [
      "EPOCH SUMMARY 7.8987 789.87% 1637409.99%\n",
      "fold1\n"
     ]
    },
    {
     "name": "stderr",
     "output_type": "stream",
     "text": [
      "Epoch :   0%|          | 0/5 [00:00<?, ?it/s]\n",
      "Instances :   0%|          | 0/15.125 [00:00<?, ?it/s]\u001b[A\n",
      "                                                      \n",
      "Epoch :   0%|          | 0/5 [00:00<?, ?it/s]?, ?it/s]\u001b[A\n",
      "Instances :   7%|▋         | 1/15.125 [00:00<00:03,  4.54it/s]\u001b[A"
     ]
    },
    {
     "name": "stdout",
     "output_type": "stream",
     "text": [
      "131.5071\t13150.72%\t[0.19944893] (x[208])\n"
     ]
    },
    {
     "name": "stderr",
     "output_type": "stream",
     "text": [
      "\n",
      "                                                              \n",
      "Epoch :   0%|          | 0/5 [00:00<?, ?it/s]00:03,  4.54it/s]\u001b[A\n",
      "Instances :  13%|█▎        | 2/15.125 [00:00<00:02,  4.45it/s]\u001b[A"
     ]
    },
    {
     "name": "stdout",
     "output_type": "stream",
     "text": [
      "130.4944\t13049.44%\t[0.24496236] (x[462])\n"
     ]
    },
    {
     "name": "stderr",
     "output_type": "stream",
     "text": [
      "\n",
      "                                                              \n",
      "Epoch :   0%|          | 0/5 [00:00<?, ?it/s]00:02,  4.45it/s]\u001b[A\n",
      "Instances :  20%|█▉        | 3/15.125 [00:00<00:02,  4.47it/s]\u001b[A"
     ]
    },
    {
     "name": "stdout",
     "output_type": "stream",
     "text": [
      "129.6190\t12961.90%\t[0.28442276] (x[382])\n"
     ]
    },
    {
     "name": "stderr",
     "output_type": "stream",
     "text": [
      "\n",
      "                                                              \n",
      "Epoch :   0%|          | 0/5 [00:00<?, ?it/s]00:02,  4.47it/s]\u001b[A\n",
      "Instances :  26%|██▋       | 4/15.125 [00:00<00:02,  4.36it/s]\u001b[A"
     ]
    },
    {
     "name": "stdout",
     "output_type": "stream",
     "text": [
      "128.7498\t12874.98%\t[0.3237353] (x[399])\n"
     ]
    },
    {
     "name": "stderr",
     "output_type": "stream",
     "text": [
      "\n",
      "                                                              \n",
      "Epoch :   0%|          | 0/5 [00:01<?, ?it/s]00:02,  4.36it/s]\u001b[A\n",
      "Instances :  33%|███▎      | 5/15.125 [00:01<00:02,  4.26it/s]\u001b[A"
     ]
    },
    {
     "name": "stdout",
     "output_type": "stream",
     "text": [
      "127.8498\t12784.98%\t[0.36459547] (x[395])\n"
     ]
    },
    {
     "name": "stderr",
     "output_type": "stream",
     "text": [
      "\n",
      "                                                              \n",
      "Epoch :   0%|          | 0/5 [00:01<?, ?it/s]00:02,  4.26it/s]\u001b[A\n",
      "Instances :  40%|███▉      | 6/15.125 [00:01<00:02,  4.35it/s]\u001b[A"
     ]
    },
    {
     "name": "stdout",
     "output_type": "stream",
     "text": [
      "126.9490\t12694.90%\t[0.40564397] (x[404])\n"
     ]
    },
    {
     "name": "stderr",
     "output_type": "stream",
     "text": [
      "\n",
      "                                                              \n",
      "Epoch :   0%|          | 0/5 [00:01<?, ?it/s]00:02,  4.35it/s]\u001b[A\n",
      "Instances :  46%|████▋     | 7/15.125 [00:01<00:01,  4.30it/s]\u001b[A"
     ]
    },
    {
     "name": "stdout",
     "output_type": "stream",
     "text": [
      "126.0037\t12600.37%\t[0.44888496] (x[315])\n"
     ]
    },
    {
     "name": "stderr",
     "output_type": "stream",
     "text": [
      "\n",
      "                                                              \n",
      "Epoch :   0%|          | 0/5 [00:01<?, ?it/s]00:01,  4.30it/s]\u001b[A\n",
      "Instances :  53%|█████▎    | 8/15.125 [00:01<00:01,  4.32it/s]\u001b[A"
     ]
    },
    {
     "name": "stdout",
     "output_type": "stream",
     "text": [
      "124.9955\t12499.55%\t[0.49518993] (x[337])\n"
     ]
    },
    {
     "name": "stderr",
     "output_type": "stream",
     "text": [
      "\n",
      "                                                              \n",
      "Epoch :   0%|          | 0/5 [00:02<?, ?it/s]00:01,  4.32it/s]\u001b[A\n",
      "Instances :  60%|█████▉    | 9/15.125 [00:02<00:01,  4.37it/s]\u001b[A"
     ]
    },
    {
     "name": "stdout",
     "output_type": "stream",
     "text": [
      "123.9779\t12397.79%\t[0.5421231] (x[370])\n"
     ]
    },
    {
     "name": "stderr",
     "output_type": "stream",
     "text": [
      "\n",
      "                                                              \n",
      "Epoch :   0%|          | 0/5 [00:02<?, ?it/s]00:01,  4.37it/s]\u001b[A\n",
      "Instances :  66%|██████▌   | 10/15.125 [00:02<00:01,  4.44it/s]\u001b[A"
     ]
    },
    {
     "name": "stdout",
     "output_type": "stream",
     "text": [
      "122.9470\t12294.70%\t[0.5898618] (x[358])\n"
     ]
    },
    {
     "name": "stderr",
     "output_type": "stream",
     "text": [
      "\n",
      "                                                               \n",
      "Epoch :   0%|          | 0/5 [00:02<?, ?it/s]<00:01,  4.44it/s]\u001b[A\n",
      "Instances :  73%|███████▎  | 11/15.125 [00:02<00:00,  4.46it/s]\u001b[A"
     ]
    },
    {
     "name": "stdout",
     "output_type": "stream",
     "text": [
      "121.8242\t12182.42%\t[0.64212173] (x[305])\n"
     ]
    },
    {
     "name": "stderr",
     "output_type": "stream",
     "text": [
      "\n",
      "                                                               \n",
      "Epoch :   0%|          | 0/5 [00:02<?, ?it/s]<00:00,  4.46it/s]\u001b[A\n",
      "Instances :  79%|███████▉  | 12/15.125 [00:02<00:00,  4.46it/s]\u001b[A"
     ]
    },
    {
     "name": "stdout",
     "output_type": "stream",
     "text": [
      "120.6295\t12062.95%\t[0.69799614] (x[182])\n"
     ]
    },
    {
     "name": "stderr",
     "output_type": "stream",
     "text": [
      "\n",
      "                                                               \n",
      "Epoch :   0%|          | 0/5 [00:02<?, ?it/s]<00:00,  4.46it/s]\u001b[A\n",
      "Instances :  86%|████████▌ | 13/15.125 [00:02<00:00,  4.43it/s]\u001b[A"
     ]
    },
    {
     "name": "stdout",
     "output_type": "stream",
     "text": [
      "119.3695\t11936.95%\t[0.75720066] (x[407])\n"
     ]
    },
    {
     "name": "stderr",
     "output_type": "stream",
     "text": [
      "\n",
      "                                                               \n",
      "Epoch :   0%|          | 0/5 [00:03<?, ?it/s]<00:00,  4.43it/s]\u001b[A\n",
      "Instances :  93%|█████████▎| 14/15.125 [00:03<00:00,  4.46it/s]\u001b[A"
     ]
    },
    {
     "name": "stdout",
     "output_type": "stream",
     "text": [
      "118.0121\t11801.21%\t[0.8212121] (x[361])\n"
     ]
    },
    {
     "name": "stderr",
     "output_type": "stream",
     "text": [
      "\n",
      "                                                               \n",
      "Epoch :   0%|          | 0/5 [00:03<?, ?it/s]<00:00,  4.46it/s]\u001b[A\n",
      "Instances :  99%|█████████▉| 15/15.125 [00:03<00:00,  4.50it/s]\u001b[A"
     ]
    },
    {
     "name": "stdout",
     "output_type": "stream",
     "text": [
      "116.5477\t11654.77%\t[0.8903339] (x[314])\n"
     ]
    },
    {
     "name": "stderr",
     "output_type": "stream",
     "text": [
      "\n",
      "                                                               \n",
      "Epoch :   0%|          | 0/5 [00:03<?, ?it/s]<00:00,  4.50it/s]\u001b[A\n",
      "Instances : 16it [00:03,  4.42it/s]                            \u001b[A\n",
      "\n",
      "Test :   0%|          | 0/121 [00:00<?, ?it/s]\u001b[A\n",
      "Test :   4%|▍         | 5/121 [00:00<00:02, 45.62it/s]\u001b[A"
     ]
    },
    {
     "name": "stdout",
     "output_type": "stream",
     "text": [
      "114.9656\t11496.57%\t[0.9642472] (x[224])\n"
     ]
    },
    {
     "name": "stderr",
     "output_type": "stream",
     "text": [
      "\n",
      "Test :   8%|▊         | 10/121 [00:00<00:02, 45.68it/s]\u001b[A\n",
      "Test :  12%|█▏        | 15/121 [00:00<00:02, 43.70it/s]\u001b[A\n",
      "Test :  17%|█▋        | 20/121 [00:00<00:02, 41.78it/s]\u001b[A\n",
      "Test :  21%|██        | 25/121 [00:00<00:02, 41.96it/s]\u001b[A\n",
      "Test :  25%|██▍       | 30/121 [00:00<00:02, 43.28it/s]\u001b[A\n",
      "Test :  29%|██▉       | 35/121 [00:00<00:01, 44.05it/s]\u001b[A\n",
      "Test :  33%|███▎      | 40/121 [00:00<00:01, 44.62it/s]\u001b[A\n",
      "Test :  37%|███▋      | 45/121 [00:01<00:01, 45.01it/s]\u001b[A\n",
      "Test :  41%|████▏     | 50/121 [00:01<00:01, 45.15it/s]\u001b[A\n",
      "Test :  45%|████▌     | 55/121 [00:01<00:01, 45.06it/s]\u001b[A\n",
      "Test :  50%|████▉     | 60/121 [00:01<00:01, 45.29it/s]\u001b[A\n",
      "Test :  54%|█████▎    | 65/121 [00:01<00:01, 43.38it/s]\u001b[A\n",
      "Test :  58%|█████▊    | 70/121 [00:01<00:01, 42.87it/s]\u001b[A\n",
      "Test :  62%|██████▏   | 75/121 [00:01<00:01, 43.74it/s]\u001b[A\n",
      "Test :  66%|██████▌   | 80/121 [00:01<00:00, 43.19it/s]\u001b[A\n",
      "Test :  70%|███████   | 85/121 [00:01<00:00, 43.92it/s]\u001b[A\n",
      "Test :  74%|███████▍  | 90/121 [00:02<00:00, 44.18it/s]\u001b[A\n",
      "Test :  79%|███████▊  | 95/121 [00:02<00:00, 43.33it/s]\u001b[A\n",
      "Test :  83%|████████▎ | 100/121 [00:02<00:00, 44.11it/s]\u001b[A\n",
      "Test :  87%|████████▋ | 105/121 [00:02<00:00, 44.61it/s]\u001b[A\n",
      "Test :  91%|█████████ | 110/121 [00:02<00:00, 44.49it/s]\u001b[A\n",
      "Test :  95%|█████████▌| 115/121 [00:02<00:00, 43.92it/s]\u001b[A\n",
      "Test : 100%|██████████| 121/121 [00:02<00:00, 43.97it/s]\u001b[A\n",
      "Epoch :  20%|██        | 1/5 [00:06<00:25,  6.38s/it]\n",
      "Instances :   0%|          | 0/15.125 [00:00<?, ?it/s]\u001b[A"
     ]
    },
    {
     "name": "stdout",
     "output_type": "stream",
     "text": [
      "EPOCH SUMMARY 124.0276 12402.76% 1624921.99%\n"
     ]
    },
    {
     "name": "stderr",
     "output_type": "stream",
     "text": [
      "\n",
      "                                                      \n",
      "Epoch :  20%|██        | 1/5 [00:06<00:25,  6.38s/it]]\u001b[A\n",
      "Instances :   7%|▋         | 1/15.125 [00:00<00:03,  4.51it/s]\u001b[A"
     ]
    },
    {
     "name": "stdout",
     "output_type": "stream",
     "text": [
      "113.2017\t11320.17%\t[1.0438907] (x[428])\n"
     ]
    },
    {
     "name": "stderr",
     "output_type": "stream",
     "text": [
      "\n",
      "                                                              \n",
      "Epoch :  20%|██        | 1/5 [00:06<00:25,  6.38s/it]4.51it/s]\u001b[A\n",
      "Instances :  13%|█▎        | 2/15.125 [00:00<00:03,  4.27it/s]\u001b[A"
     ]
    },
    {
     "name": "stdout",
     "output_type": "stream",
     "text": [
      "111.1174\t11111.74%\t[1.1299149] (x[217])\n"
     ]
    },
    {
     "name": "stderr",
     "output_type": "stream",
     "text": [
      "\n",
      "                                                              \n",
      "Epoch :  20%|██        | 1/5 [00:07<00:25,  6.38s/it]4.27it/s]\u001b[A\n",
      "Instances :  20%|█▉        | 3/15.125 [00:00<00:02,  4.26it/s]\u001b[A"
     ]
    },
    {
     "name": "stdout",
     "output_type": "stream",
     "text": [
      "108.6891\t10868.91%\t[1.2227418] (x[299])\n"
     ]
    },
    {
     "name": "stderr",
     "output_type": "stream",
     "text": [
      "\n",
      "                                                              \n",
      "Epoch :  20%|██        | 1/5 [00:07<00:25,  6.38s/it]4.26it/s]\u001b[A\n",
      "Instances :  26%|██▋       | 4/15.125 [00:00<00:02,  4.34it/s]\u001b[A"
     ]
    },
    {
     "name": "stdout",
     "output_type": "stream",
     "text": [
      "110.6153\t11061.53%\t[1.3225359] (x[300])\n"
     ]
    },
    {
     "name": "stderr",
     "output_type": "stream",
     "text": [
      "\n",
      "                                                              \n",
      "Epoch :  20%|██        | 1/5 [00:07<00:25,  6.38s/it]4.34it/s]\u001b[A\n",
      "Instances :  33%|███▎      | 5/15.125 [00:01<00:02,  4.40it/s]\u001b[A"
     ]
    },
    {
     "name": "stdout",
     "output_type": "stream",
     "text": [
      "105.0752\t10507.52%\t[1.4260118] (x[255])\n"
     ]
    },
    {
     "name": "stderr",
     "output_type": "stream",
     "text": [
      "\n",
      "                                                              \n",
      "Epoch :  20%|██        | 1/5 [00:07<00:25,  6.38s/it]4.40it/s]\u001b[A\n",
      "Instances :  40%|███▉      | 6/15.125 [00:01<00:02,  4.45it/s]\u001b[A"
     ]
    },
    {
     "name": "stdout",
     "output_type": "stream",
     "text": [
      "102.4978\t10249.78%\t[1.5365921] (x[270])\n"
     ]
    },
    {
     "name": "stderr",
     "output_type": "stream",
     "text": [
      "\n",
      "                                                              \n",
      "Epoch :  20%|██        | 1/5 [00:07<00:25,  6.38s/it]4.45it/s]\u001b[A\n",
      "Instances :  46%|████▋     | 7/15.125 [00:01<00:01,  4.32it/s]\u001b[A"
     ]
    },
    {
     "name": "stdout",
     "output_type": "stream",
     "text": [
      "100.4590\t10045.90%\t[1.6571856] (x[300])\n"
     ]
    },
    {
     "name": "stderr",
     "output_type": "stream",
     "text": [
      "\n",
      "                                                              \n",
      "Epoch :  20%|██        | 1/5 [00:08<00:25,  6.38s/it]4.32it/s]\u001b[A\n",
      "Instances :  53%|█████▎    | 8/15.125 [00:01<00:01,  4.39it/s]\u001b[A"
     ]
    },
    {
     "name": "stdout",
     "output_type": "stream",
     "text": [
      "98.1539\t9815.39%\t[1.7883829] (x[357])\n"
     ]
    },
    {
     "name": "stderr",
     "output_type": "stream",
     "text": [
      "\n",
      "                                                              \n",
      "Epoch :  20%|██        | 1/5 [00:08<00:25,  6.38s/it]4.39it/s]\u001b[A\n",
      "Instances :  60%|█████▉    | 9/15.125 [00:02<00:01,  4.40it/s]\u001b[A"
     ]
    },
    {
     "name": "stdout",
     "output_type": "stream",
     "text": [
      "95.5868\t9558.68%\t[1.9296046] (x[274])\n"
     ]
    },
    {
     "name": "stderr",
     "output_type": "stream",
     "text": [
      "\n",
      "                                                              \n",
      "Epoch :  20%|██        | 1/5 [00:08<00:25,  6.38s/it]4.40it/s]\u001b[A\n",
      "Instances :  66%|██████▌   | 10/15.125 [00:02<00:01,  4.28it/s]\u001b[A"
     ]
    },
    {
     "name": "stdout",
     "output_type": "stream",
     "text": [
      "92.7608\t9276.08%\t[2.0820801] (x[437])\n"
     ]
    },
    {
     "name": "stderr",
     "output_type": "stream",
     "text": [
      "\n",
      "                                                               \n",
      "Epoch :  20%|██        | 1/5 [00:08<00:25,  6.38s/it] 4.28it/s]\u001b[A\n",
      "Instances :  73%|███████▎  | 11/15.125 [00:02<00:00,  4.23it/s]\u001b[A"
     ]
    },
    {
     "name": "stdout",
     "output_type": "stream",
     "text": [
      "89.6082\t8960.82%\t[2.2464738] (x[344])\n"
     ]
    },
    {
     "name": "stderr",
     "output_type": "stream",
     "text": [
      "\n",
      "                                                               \n",
      "Epoch :  20%|██        | 1/5 [00:09<00:25,  6.38s/it] 4.23it/s]\u001b[A\n",
      "Instances :  79%|███████▉  | 12/15.125 [00:02<00:00,  4.32it/s]\u001b[A"
     ]
    },
    {
     "name": "stdout",
     "output_type": "stream",
     "text": [
      "85.8997\t8589.97%\t[2.423503] (x[276])\n"
     ]
    },
    {
     "name": "stderr",
     "output_type": "stream",
     "text": [
      "\n",
      "                                                               \n",
      "Epoch :  20%|██        | 1/5 [00:09<00:25,  6.38s/it] 4.32it/s]\u001b[A\n",
      "Instances :  86%|████████▌ | 13/15.125 [00:02<00:00,  4.37it/s]\u001b[A"
     ]
    },
    {
     "name": "stdout",
     "output_type": "stream",
     "text": [
      "112.0839\t11208.39%\t[2.5954218] (x[289])\n"
     ]
    },
    {
     "name": "stderr",
     "output_type": "stream",
     "text": [
      "\n",
      "                                                               \n",
      "Epoch :  20%|██        | 1/5 [00:09<00:25,  6.38s/it] 4.37it/s]\u001b[A\n",
      "Instances :  93%|█████████▎| 14/15.125 [00:03<00:00,  4.40it/s]\u001b[A"
     ]
    },
    {
     "name": "stdout",
     "output_type": "stream",
     "text": [
      "80.2921\t8029.21%\t[2.7751594] (x[288])\n"
     ]
    },
    {
     "name": "stderr",
     "output_type": "stream",
     "text": [
      "\n",
      "                                                               \n",
      "Epoch :  20%|██        | 1/5 [00:09<00:25,  6.38s/it] 4.40it/s]\u001b[A\n",
      "Instances :  99%|█████████▉| 15/15.125 [00:03<00:00,  4.43it/s]\u001b[A"
     ]
    },
    {
     "name": "stdout",
     "output_type": "stream",
     "text": [
      "77.5997\t7759.97%\t[2.9515164] (x[401])\n"
     ]
    },
    {
     "name": "stderr",
     "output_type": "stream",
     "text": [
      "\n",
      "                                                               \n",
      "Epoch :  20%|██        | 1/5 [00:10<00:25,  6.38s/it] 4.43it/s]\u001b[A\n",
      "Instances : 16it [00:03,  4.37it/s]                            \u001b[A\n",
      "\n",
      "Test :   0%|          | 0/121 [00:00<?, ?it/s]\u001b[A\n",
      "Test :   4%|▍         | 5/121 [00:00<00:02, 44.92it/s]\u001b[A"
     ]
    },
    {
     "name": "stdout",
     "output_type": "stream",
     "text": [
      "74.4397\t7443.97%\t[3.143716] (x[186])\n"
     ]
    },
    {
     "name": "stderr",
     "output_type": "stream",
     "text": [
      "\n",
      "Test :   8%|▊         | 10/121 [00:00<00:02, 45.06it/s]\u001b[A\n",
      "Test :  12%|█▏        | 15/121 [00:00<00:02, 45.20it/s]\u001b[A\n",
      "Test :  17%|█▋        | 20/121 [00:00<00:02, 45.47it/s]\u001b[A\n",
      "Test :  21%|██        | 25/121 [00:00<00:02, 45.69it/s]\u001b[A\n",
      "Test :  25%|██▍       | 30/121 [00:00<00:02, 43.96it/s]\u001b[A\n",
      "Test :  29%|██▉       | 35/121 [00:00<00:02, 38.54it/s]\u001b[A\n",
      "Test :  33%|███▎      | 40/121 [00:00<00:02, 39.75it/s]\u001b[A\n",
      "Test :  37%|███▋      | 45/121 [00:01<00:01, 41.59it/s]\u001b[A\n",
      "Test :  41%|████▏     | 50/121 [00:01<00:01, 42.92it/s]\u001b[A\n",
      "Test :  45%|████▌     | 55/121 [00:01<00:01, 42.00it/s]\u001b[A\n",
      "Test :  50%|████▉     | 60/121 [00:01<00:01, 41.93it/s]\u001b[A\n",
      "Test :  54%|█████▎    | 65/121 [00:01<00:01, 43.07it/s]\u001b[A\n",
      "Test :  58%|█████▊    | 70/121 [00:01<00:01, 42.00it/s]\u001b[A\n",
      "Test :  62%|██████▏   | 75/121 [00:01<00:01, 42.02it/s]\u001b[A\n",
      "Test :  66%|██████▌   | 80/121 [00:01<00:01, 40.77it/s]\u001b[A\n",
      "Test :  70%|███████   | 85/121 [00:02<00:00, 41.61it/s]\u001b[A\n",
      "Test :  74%|███████▍  | 90/121 [00:02<00:00, 41.56it/s]\u001b[A\n",
      "Test :  79%|███████▊  | 95/121 [00:02<00:00, 42.79it/s]\u001b[A\n",
      "Test :  83%|████████▎ | 100/121 [00:02<00:00, 43.61it/s]\u001b[A\n",
      "Test :  87%|████████▋ | 105/121 [00:02<00:00, 42.42it/s]\u001b[A\n",
      "Test :  91%|█████████ | 110/121 [00:02<00:00, 41.46it/s]\u001b[A\n",
      "Test :  95%|█████████▌| 115/121 [00:02<00:00, 41.46it/s]\u001b[A\n",
      "Test : 100%|██████████| 121/121 [00:02<00:00, 41.93it/s]\u001b[A\n",
      "Epoch :  40%|████      | 2/5 [00:12<00:19,  6.48s/it]\n",
      "Instances :   0%|          | 0/15.125 [00:00<?, ?it/s]\u001b[A"
     ]
    },
    {
     "name": "stdout",
     "output_type": "stream",
     "text": [
      "EPOCH SUMMARY 97.3800 9738.00% 1624921.99%\n"
     ]
    },
    {
     "name": "stderr",
     "output_type": "stream",
     "text": [
      "\n",
      "                                                      \n",
      "Epoch :  40%|████      | 2/5 [00:13<00:19,  6.48s/it]]\u001b[A\n",
      "Instances :   7%|▋         | 1/15.125 [00:00<00:03,  4.62it/s]\u001b[A"
     ]
    },
    {
     "name": "stdout",
     "output_type": "stream",
     "text": [
      "71.0889\t7108.89%\t[3.3508313] (x[389])\n"
     ]
    },
    {
     "name": "stderr",
     "output_type": "stream",
     "text": [
      "\n",
      "                                                              \n",
      "Epoch :  40%|████      | 2/5 [00:13<00:19,  6.48s/it]4.62it/s]\u001b[A\n",
      "Instances :  13%|█▎        | 2/15.125 [00:00<00:02,  4.49it/s]\u001b[A"
     ]
    },
    {
     "name": "stdout",
     "output_type": "stream",
     "text": [
      "67.5719\t6757.19%\t[3.5737994] (x[394])\n"
     ]
    },
    {
     "name": "stderr",
     "output_type": "stream",
     "text": [
      "\n",
      "                                                              \n",
      "Epoch :  40%|████      | 2/5 [00:13<00:19,  6.48s/it]4.49it/s]\u001b[A\n",
      "Instances :  20%|█▉        | 3/15.125 [00:00<00:02,  4.52it/s]\u001b[A"
     ]
    },
    {
     "name": "stdout",
     "output_type": "stream",
     "text": [
      "63.8640\t6386.40%\t[3.815828] (x[416])\n"
     ]
    },
    {
     "name": "stderr",
     "output_type": "stream",
     "text": [
      "\n",
      "                                                              \n",
      "Epoch :  40%|████      | 2/5 [00:13<00:19,  6.48s/it]4.52it/s]\u001b[A\n",
      "Instances :  26%|██▋       | 4/15.125 [00:00<00:02,  4.53it/s]\u001b[A"
     ]
    },
    {
     "name": "stdout",
     "output_type": "stream",
     "text": [
      "60.0444\t6004.44%\t[4.0734816] (x[286])\n"
     ]
    },
    {
     "name": "stderr",
     "output_type": "stream",
     "text": [
      "\n",
      "                                                              \n",
      "Epoch :  40%|████      | 2/5 [00:14<00:19,  6.48s/it]4.53it/s]\u001b[A\n",
      "Instances :  33%|███▎      | 5/15.125 [00:01<00:02,  4.53it/s]\u001b[A"
     ]
    },
    {
     "name": "stdout",
     "output_type": "stream",
     "text": [
      "56.0975\t5609.75%\t[4.3495364] (x[367])\n"
     ]
    },
    {
     "name": "stderr",
     "output_type": "stream",
     "text": [
      "\n",
      "                                                              \n",
      "Epoch :  40%|████      | 2/5 [00:14<00:19,  6.48s/it]4.53it/s]\u001b[A\n",
      "Instances :  40%|███▉      | 6/15.125 [00:01<00:02,  4.54it/s]\u001b[A"
     ]
    },
    {
     "name": "stdout",
     "output_type": "stream",
     "text": [
      "52.0308\t5203.08%\t[4.6457653] (x[300])\n"
     ]
    },
    {
     "name": "stderr",
     "output_type": "stream",
     "text": [
      "\n",
      "                                                              \n",
      "Epoch :  40%|████      | 2/5 [00:14<00:19,  6.48s/it]4.54it/s]\u001b[A\n",
      "Instances :  46%|████▋     | 7/15.125 [00:01<00:01,  4.54it/s]\u001b[A"
     ]
    },
    {
     "name": "stdout",
     "output_type": "stream",
     "text": [
      "47.8645\t4786.45%\t[4.9634023] (x[334])\n"
     ]
    },
    {
     "name": "stderr",
     "output_type": "stream",
     "text": [
      "\n",
      "                                                              \n",
      "Epoch :  40%|████      | 2/5 [00:14<00:19,  6.48s/it]4.54it/s]\u001b[A\n",
      "Instances :  53%|█████▎    | 8/15.125 [00:01<00:01,  4.57it/s]\u001b[A"
     ]
    },
    {
     "name": "stdout",
     "output_type": "stream",
     "text": [
      "43.6378\t4363.78%\t[5.3025637] (x[255])\n"
     ]
    },
    {
     "name": "stderr",
     "output_type": "stream",
     "text": [
      "\n",
      "                                                              \n",
      "Epoch :  40%|████      | 2/5 [00:14<00:19,  6.48s/it]4.57it/s]\u001b[A\n",
      "Instances :  60%|█████▉    | 9/15.125 [00:01<00:01,  4.57it/s]\u001b[A"
     ]
    },
    {
     "name": "stdout",
     "output_type": "stream",
     "text": [
      "39.4568\t3945.68%\t[5.657761] (x[227])\n"
     ]
    },
    {
     "name": "stderr",
     "output_type": "stream",
     "text": [
      "\n",
      "                                                              \n",
      "Epoch :  40%|████      | 2/5 [00:15<00:19,  6.48s/it]4.57it/s]\u001b[A\n",
      "Instances :  66%|██████▌   | 10/15.125 [00:02<00:01,  4.57it/s]\u001b[A"
     ]
    },
    {
     "name": "stdout",
     "output_type": "stream",
     "text": [
      "35.3065\t3530.65%\t[6.0336833] (x[465])\n"
     ]
    },
    {
     "name": "stderr",
     "output_type": "stream",
     "text": [
      "\n",
      "                                                               \n",
      "Epoch :  40%|████      | 2/5 [00:15<00:19,  6.48s/it] 4.57it/s]\u001b[A\n",
      "Instances :  73%|███████▎  | 11/15.125 [00:02<00:00,  4.47it/s]\u001b[A"
     ]
    },
    {
     "name": "stdout",
     "output_type": "stream",
     "text": [
      "31.2366\t3123.66%\t[6.42996] (x[251])\n"
     ]
    },
    {
     "name": "stderr",
     "output_type": "stream",
     "text": [
      "\n",
      "                                                               \n",
      "Epoch :  40%|████      | 2/5 [00:15<00:19,  6.48s/it] 4.47it/s]\u001b[A\n",
      "Instances :  79%|███████▉  | 12/15.125 [00:02<00:00,  4.38it/s]\u001b[A"
     ]
    },
    {
     "name": "stdout",
     "output_type": "stream",
     "text": [
      "27.3004\t2730.04%\t[6.846053] (x[241])\n"
     ]
    },
    {
     "name": "stderr",
     "output_type": "stream",
     "text": [
      "\n",
      "                                                               \n",
      "Epoch :  40%|████      | 2/5 [00:15<00:19,  6.48s/it] 4.38it/s]\u001b[A\n",
      "Instances :  86%|████████▌ | 13/15.125 [00:02<00:00,  4.31it/s]\u001b[A"
     ]
    },
    {
     "name": "stdout",
     "output_type": "stream",
     "text": [
      "23.5489\t2354.89%\t[7.2817464] (x[439])\n"
     ]
    },
    {
     "name": "stderr",
     "output_type": "stream",
     "text": [
      "\n",
      "                                                               \n",
      "Epoch :  40%|████      | 2/5 [00:16<00:19,  6.48s/it] 4.31it/s]\u001b[A\n",
      "Instances :  93%|█████████▎| 14/15.125 [00:03<00:00,  4.35it/s]\u001b[A"
     ]
    },
    {
     "name": "stdout",
     "output_type": "stream",
     "text": [
      "20.0414\t2004.14%\t[7.7359285] (x[288])\n"
     ]
    },
    {
     "name": "stderr",
     "output_type": "stream",
     "text": [
      "\n",
      "                                                               \n",
      "Epoch :  40%|████      | 2/5 [00:16<00:19,  6.48s/it] 4.35it/s]\u001b[A\n",
      "Instances :  99%|█████████▉| 15/15.125 [00:03<00:00,  4.40it/s]\u001b[A"
     ]
    },
    {
     "name": "stdout",
     "output_type": "stream",
     "text": [
      "16.8389\t1683.89%\t[8.206899] (x[466])\n"
     ]
    },
    {
     "name": "stderr",
     "output_type": "stream",
     "text": [
      "\n",
      "                                                               \n",
      "Epoch :  40%|████      | 2/5 [00:16<00:19,  6.48s/it] 4.40it/s]\u001b[A\n",
      "Instances : 16it [00:03,  4.46it/s]                            \u001b[A\n",
      "\n",
      "Test :   0%|          | 0/121 [00:00<?, ?it/s]\u001b[A\n",
      "Test :   4%|▍         | 5/121 [00:00<00:02, 45.78it/s]\u001b[A"
     ]
    },
    {
     "name": "stdout",
     "output_type": "stream",
     "text": [
      "14.0019\t1400.19%\t[8.692219] (x[312])\n"
     ]
    },
    {
     "name": "stderr",
     "output_type": "stream",
     "text": [
      "\n",
      "Test :   8%|▊         | 10/121 [00:00<00:02, 43.06it/s]\u001b[A\n",
      "Test :  12%|█▏        | 15/121 [00:00<00:02, 44.09it/s]\u001b[A\n",
      "Test :  17%|█▋        | 20/121 [00:00<00:02, 44.91it/s]\u001b[A\n",
      "Test :  21%|██        | 25/121 [00:00<00:02, 45.26it/s]\u001b[A\n",
      "Test :  25%|██▍       | 30/121 [00:00<00:01, 45.51it/s]\u001b[A\n",
      "Test :  29%|██▉       | 35/121 [00:00<00:01, 45.57it/s]\u001b[A\n",
      "Test :  33%|███▎      | 40/121 [00:00<00:01, 45.51it/s]\u001b[A\n",
      "Test :  37%|███▋      | 45/121 [00:00<00:01, 45.74it/s]\u001b[A\n",
      "Test :  41%|████▏     | 50/121 [00:01<00:01, 43.34it/s]\u001b[A\n",
      "Test :  45%|████▌     | 55/121 [00:01<00:01, 42.94it/s]\u001b[A\n",
      "Test :  50%|████▉     | 60/121 [00:01<00:01, 42.74it/s]\u001b[A\n",
      "Test :  54%|█████▎    | 65/121 [00:01<00:01, 43.47it/s]\u001b[A\n",
      "Test :  58%|█████▊    | 70/121 [00:01<00:01, 42.81it/s]\u001b[A\n",
      "Test :  62%|██████▏   | 75/121 [00:01<00:01, 42.32it/s]\u001b[A\n",
      "Test :  66%|██████▌   | 80/121 [00:01<00:00, 43.35it/s]\u001b[A\n",
      "Test :  70%|███████   | 85/121 [00:01<00:00, 44.18it/s]\u001b[A\n",
      "Test :  74%|███████▍  | 90/121 [00:02<00:00, 44.61it/s]\u001b[A\n",
      "Test :  79%|███████▊  | 95/121 [00:02<00:00, 45.01it/s]\u001b[A\n",
      "Test :  83%|████████▎ | 100/121 [00:02<00:00, 45.05it/s]\u001b[A\n",
      "Test :  87%|████████▋ | 105/121 [00:02<00:00, 45.17it/s]\u001b[A\n",
      "Test :  91%|█████████ | 110/121 [00:02<00:00, 45.30it/s]\u001b[A\n",
      "Test :  95%|█████████▌| 115/121 [00:02<00:00, 44.70it/s]\u001b[A\n",
      "Test : 100%|██████████| 121/121 [00:02<00:00, 44.34it/s]\u001b[A\n",
      "Epoch :  60%|██████    | 3/5 [00:19<00:12,  6.41s/it]\n",
      "Instances :   0%|          | 0/15.125 [00:00<?, ?it/s]\u001b[A"
     ]
    },
    {
     "name": "stdout",
     "output_type": "stream",
     "text": [
      "EPOCH SUMMARY 41.8707 4187.07% 1624921.99%\n"
     ]
    },
    {
     "name": "stderr",
     "output_type": "stream",
     "text": [
      "\n",
      "                                                      \n",
      "Epoch :  60%|██████    | 3/5 [00:19<00:12,  6.41s/it]]\u001b[A\n",
      "Instances :   7%|▋         | 1/15.125 [00:00<00:03,  4.17it/s]\u001b[A"
     ]
    },
    {
     "name": "stdout",
     "output_type": "stream",
     "text": [
      "11.5865\t1158.65%\t[9.188542] (x[380])\n"
     ]
    },
    {
     "name": "stderr",
     "output_type": "stream",
     "text": [
      "\n",
      "                                                              \n",
      "Epoch :  60%|██████    | 3/5 [00:19<00:12,  6.41s/it]4.17it/s]\u001b[A\n",
      "Instances :  13%|█▎        | 2/15.125 [00:00<00:03,  4.14it/s]\u001b[A"
     ]
    },
    {
     "name": "stdout",
     "output_type": "stream",
     "text": [
      "9.6404\t964.04%\t[9.691433] (x[234])\n"
     ]
    },
    {
     "name": "stderr",
     "output_type": "stream",
     "text": [
      "\n",
      "                                                              \n",
      "Epoch :  60%|██████    | 3/5 [00:19<00:12,  6.41s/it]4.14it/s]\u001b[A\n",
      "Instances :  20%|█▉        | 3/15.125 [00:00<00:02,  4.23it/s]\u001b[A"
     ]
    },
    {
     "name": "stdout",
     "output_type": "stream",
     "text": [
      "8.1969\t819.69%\t[10.195173] (x[475])\n"
     ]
    },
    {
     "name": "stderr",
     "output_type": "stream",
     "text": [
      "\n",
      "                                                              \n",
      "Epoch :  60%|██████    | 3/5 [00:20<00:12,  6.41s/it]4.23it/s]\u001b[A\n",
      "Instances :  26%|██▋       | 4/15.125 [00:00<00:02,  4.36it/s]\u001b[A"
     ]
    },
    {
     "name": "stdout",
     "output_type": "stream",
     "text": [
      "7.2682\t726.82%\t[10.6926365] (x[453])\n"
     ]
    },
    {
     "name": "stderr",
     "output_type": "stream",
     "text": [
      "\n",
      "                                                              \n",
      "Epoch :  60%|██████    | 3/5 [00:20<00:12,  6.41s/it]4.36it/s]\u001b[A\n",
      "Instances :  33%|███▎      | 5/15.125 [00:01<00:02,  4.43it/s]\u001b[A"
     ]
    },
    {
     "name": "stdout",
     "output_type": "stream",
     "text": [
      "6.8391\t683.91%\t[11.175212] (x[325])\n"
     ]
    },
    {
     "name": "stderr",
     "output_type": "stream",
     "text": [
      "\n",
      "                                                              \n",
      "Epoch :  60%|██████    | 3/5 [00:20<00:12,  6.41s/it]4.43it/s]\u001b[A\n",
      "Instances :  40%|███▉      | 6/15.125 [00:01<00:02,  4.47it/s]\u001b[A"
     ]
    },
    {
     "name": "stdout",
     "output_type": "stream",
     "text": [
      "6.8614\t686.14%\t[11.632916] (x[450])\n"
     ]
    },
    {
     "name": "stderr",
     "output_type": "stream",
     "text": [
      "\n",
      "                                                              \n",
      "Epoch :  60%|██████    | 3/5 [00:20<00:12,  6.41s/it]4.47it/s]\u001b[A\n",
      "Instances :  46%|████▋     | 7/15.125 [00:01<00:01,  4.48it/s]\u001b[A"
     ]
    },
    {
     "name": "stdout",
     "output_type": "stream",
     "text": [
      "7.2521\t725.21%\t[12.05475] (x[386])\n"
     ]
    },
    {
     "name": "stderr",
     "output_type": "stream",
     "text": [
      "\n",
      "                                                              \n",
      "Epoch :  60%|██████    | 3/5 [00:21<00:12,  6.41s/it]4.48it/s]\u001b[A\n",
      "Instances :  53%|█████▎    | 8/15.125 [00:01<00:01,  4.51it/s]\u001b[A"
     ]
    },
    {
     "name": "stdout",
     "output_type": "stream",
     "text": [
      "7.8969\t789.69%\t[12.42946] (x[249])\n"
     ]
    },
    {
     "name": "stderr",
     "output_type": "stream",
     "text": [
      "\n",
      "                                                              \n",
      "Epoch :  60%|██████    | 3/5 [00:21<00:12,  6.41s/it]4.51it/s]\u001b[A\n",
      "Instances :  60%|█████▉    | 9/15.125 [00:02<00:01,  4.53it/s]\u001b[A"
     ]
    },
    {
     "name": "stdout",
     "output_type": "stream",
     "text": [
      "8.6619\t866.19%\t[12.746794] (x[371])\n"
     ]
    },
    {
     "name": "stderr",
     "output_type": "stream",
     "text": [
      "\n",
      "                                                              \n",
      "Epoch :  60%|██████    | 3/5 [00:21<00:12,  6.41s/it]4.53it/s]\u001b[A\n",
      "Instances :  66%|██████▌   | 10/15.125 [00:02<00:01,  4.53it/s]\u001b[A"
     ]
    },
    {
     "name": "stdout",
     "output_type": "stream",
     "text": [
      "9.4129\t941.29%\t[12.998869] (x[405])\n"
     ]
    },
    {
     "name": "stderr",
     "output_type": "stream",
     "text": [
      "\n",
      "                                                               \n",
      "Epoch :  60%|██████    | 3/5 [00:21<00:12,  6.41s/it] 4.53it/s]\u001b[A\n",
      "Instances :  73%|███████▎  | 11/15.125 [00:02<00:00,  4.47it/s]\u001b[A"
     ]
    },
    {
     "name": "stdout",
     "output_type": "stream",
     "text": [
      "10.0346\t1003.46%\t[13.18106] (x[427])\n"
     ]
    },
    {
     "name": "stderr",
     "output_type": "stream",
     "text": [
      "\n",
      "                                                               \n",
      "Epoch :  60%|██████    | 3/5 [00:21<00:12,  6.41s/it] 4.47it/s]\u001b[A\n",
      "Instances :  79%|███████▉  | 12/15.125 [00:02<00:00,  4.45it/s]\u001b[A"
     ]
    },
    {
     "name": "stdout",
     "output_type": "stream",
     "text": [
      "10.4468\t1044.68%\t[13.292319] (x[397])\n"
     ]
    },
    {
     "name": "stderr",
     "output_type": "stream",
     "text": [
      "\n",
      "                                                               \n",
      "Epoch :  60%|██████    | 3/5 [00:22<00:12,  6.41s/it] 4.45it/s]\u001b[A\n",
      "Instances :  86%|████████▌ | 13/15.125 [00:02<00:00,  4.39it/s]\u001b[A"
     ]
    },
    {
     "name": "stdout",
     "output_type": "stream",
     "text": [
      "10.6117\t1061.17%\t[13.335061] (x[332])\n"
     ]
    },
    {
     "name": "stderr",
     "output_type": "stream",
     "text": [
      "\n",
      "                                                               \n",
      "Epoch :  60%|██████    | 3/5 [00:22<00:12,  6.41s/it] 4.39it/s]\u001b[A\n",
      "Instances :  93%|█████████▎| 14/15.125 [00:03<00:00,  4.40it/s]\u001b[A"
     ]
    },
    {
     "name": "stdout",
     "output_type": "stream",
     "text": [
      "10.5324\t1053.24%\t[13.314646] (x[419])\n"
     ]
    },
    {
     "name": "stderr",
     "output_type": "stream",
     "text": [
      "\n",
      "                                                               \n",
      "Epoch :  60%|██████    | 3/5 [00:22<00:12,  6.41s/it] 4.40it/s]\u001b[A\n",
      "Instances :  99%|█████████▉| 15/15.125 [00:03<00:00,  4.44it/s]\u001b[A"
     ]
    },
    {
     "name": "stdout",
     "output_type": "stream",
     "text": [
      "10.2448\t1024.48%\t[13.238642] (x[445])\n"
     ]
    },
    {
     "name": "stderr",
     "output_type": "stream",
     "text": [
      "\n",
      "                                                               \n",
      "Epoch :  60%|██████    | 3/5 [00:22<00:12,  6.41s/it] 4.44it/s]\u001b[A\n",
      "Instances : 16it [00:03,  4.43it/s]                            \u001b[A\n",
      "\n",
      "Test :   0%|          | 0/121 [00:00<?, ?it/s]\u001b[A\n",
      "Test :   4%|▍         | 5/121 [00:00<00:02, 44.67it/s]\u001b[A"
     ]
    },
    {
     "name": "stdout",
     "output_type": "stream",
     "text": [
      "9.8049\t980.49%\t[13.116004] (x[465])\n"
     ]
    },
    {
     "name": "stderr",
     "output_type": "stream",
     "text": [
      "\n",
      "Test :   8%|▊         | 10/121 [00:00<00:02, 45.29it/s]\u001b[A\n",
      "Test :  12%|█▏        | 15/121 [00:00<00:02, 45.60it/s]\u001b[A\n",
      "Test :  17%|█▋        | 20/121 [00:00<00:02, 43.55it/s]\u001b[A\n",
      "Test :  21%|██        | 25/121 [00:00<00:02, 43.25it/s]\u001b[A\n",
      "Test :  25%|██▍       | 30/121 [00:00<00:02, 44.21it/s]\u001b[A\n",
      "Test :  29%|██▉       | 35/121 [00:00<00:01, 43.62it/s]\u001b[A\n",
      "Test :  33%|███▎      | 40/121 [00:00<00:01, 44.16it/s]\u001b[A\n",
      "Test :  37%|███▋      | 45/121 [00:01<00:01, 44.42it/s]\u001b[A\n",
      "Test :  41%|████▏     | 50/121 [00:01<00:01, 44.32it/s]\u001b[A\n",
      "Test :  45%|████▌     | 55/121 [00:01<00:01, 44.50it/s]\u001b[A\n",
      "Test :  50%|████▉     | 60/121 [00:01<00:01, 44.83it/s]\u001b[A\n",
      "Test :  54%|█████▎    | 65/121 [00:01<00:01, 43.76it/s]\u001b[A\n",
      "Test :  58%|█████▊    | 70/121 [00:01<00:01, 42.95it/s]\u001b[A\n",
      "Test :  62%|██████▏   | 75/121 [00:01<00:01, 42.44it/s]\u001b[A\n",
      "Test :  66%|██████▌   | 80/121 [00:01<00:01, 40.94it/s]\u001b[A\n",
      "Test :  70%|███████   | 85/121 [00:01<00:00, 40.76it/s]\u001b[A\n",
      "Test :  74%|███████▍  | 90/121 [00:02<00:00, 41.08it/s]\u001b[A\n",
      "Test :  79%|███████▊  | 95/121 [00:02<00:00, 40.00it/s]\u001b[A\n",
      "Test :  83%|████████▎ | 100/121 [00:02<00:00, 39.46it/s]\u001b[A\n",
      "Test :  87%|████████▋ | 105/121 [00:02<00:00, 40.22it/s]\u001b[A\n",
      "Test :  91%|█████████ | 110/121 [00:02<00:00, 41.78it/s]\u001b[A\n",
      "Test :  95%|█████████▌| 115/121 [00:02<00:00, 43.00it/s]\u001b[A\n",
      "Test : 100%|██████████| 121/121 [00:02<00:00, 42.62it/s]\u001b[A\n",
      "Epoch :  80%|████████  | 4/5 [00:25<00:06,  6.43s/it]\n",
      "Instances :   0%|          | 0/15.125 [00:00<?, ?it/s]\u001b[A"
     ]
    },
    {
     "name": "stdout",
     "output_type": "stream",
     "text": [
      "EPOCH SUMMARY 9.0807 908.07% 1624921.99%\n"
     ]
    },
    {
     "name": "stderr",
     "output_type": "stream",
     "text": [
      "\n",
      "                                                      \n",
      "Epoch :  80%|████████  | 4/5 [00:25<00:06,  6.43s/it]]\u001b[A\n",
      "Instances :   7%|▋         | 1/15.125 [00:00<00:03,  4.57it/s]\u001b[A"
     ]
    },
    {
     "name": "stdout",
     "output_type": "stream",
     "text": [
      "9.2772\t927.72%\t[12.9563265] (x[417])\n"
     ]
    },
    {
     "name": "stderr",
     "output_type": "stream",
     "text": [
      "\n",
      "                                                              \n",
      "Epoch :  80%|████████  | 4/5 [00:26<00:06,  6.43s/it]4.57it/s]\u001b[A\n",
      "Instances :  13%|█▎        | 2/15.125 [00:00<00:02,  4.59it/s]\u001b[A"
     ]
    },
    {
     "name": "stdout",
     "output_type": "stream",
     "text": [
      "8.7235\t872.35%\t[12.769224] (x[410])\n"
     ]
    },
    {
     "name": "stderr",
     "output_type": "stream",
     "text": [
      "\n",
      "                                                              \n",
      "Epoch :  80%|████████  | 4/5 [00:26<00:06,  6.43s/it]4.59it/s]\u001b[A\n",
      "Instances :  20%|█▉        | 3/15.125 [00:00<00:02,  4.56it/s]\u001b[A"
     ]
    },
    {
     "name": "stdout",
     "output_type": "stream",
     "text": [
      "8.1963\t819.63%\t[12.563872] (x[266])\n"
     ]
    },
    {
     "name": "stderr",
     "output_type": "stream",
     "text": [
      "\n",
      "                                                              \n",
      "Epoch :  80%|████████  | 4/5 [00:26<00:06,  6.43s/it]4.56it/s]\u001b[A\n",
      "Instances :  26%|██▋       | 4/15.125 [00:00<00:02,  4.58it/s]\u001b[A"
     ]
    },
    {
     "name": "stdout",
     "output_type": "stream",
     "text": [
      "7.7340\t773.40%\t[12.348687] (x[241])\n"
     ]
    },
    {
     "name": "stderr",
     "output_type": "stream",
     "text": [
      "\n",
      "                                                              \n",
      "Epoch :  80%|████████  | 4/5 [00:26<00:06,  6.43s/it]4.58it/s]\u001b[A\n",
      "Instances :  33%|███▎      | 5/15.125 [00:01<00:02,  4.55it/s]\u001b[A"
     ]
    },
    {
     "name": "stdout",
     "output_type": "stream",
     "text": [
      "7.3606\t736.06%\t[12.131111] (x[435])\n"
     ]
    },
    {
     "name": "stderr",
     "output_type": "stream",
     "text": [
      "\n",
      "                                                              \n",
      "Epoch :  80%|████████  | 4/5 [00:27<00:06,  6.43s/it]4.55it/s]\u001b[A\n",
      "Instances :  40%|███▉      | 6/15.125 [00:01<00:02,  4.52it/s]\u001b[A"
     ]
    },
    {
     "name": "stdout",
     "output_type": "stream",
     "text": [
      "7.0859\t708.59%\t[11.917522] (x[223])\n"
     ]
    },
    {
     "name": "stderr",
     "output_type": "stream",
     "text": [
      "\n",
      "                                                              \n",
      "Epoch :  80%|████████  | 4/5 [00:27<00:06,  6.43s/it]4.52it/s]\u001b[A\n",
      "Instances :  46%|████▋     | 7/15.125 [00:01<00:01,  4.43it/s]\u001b[A"
     ]
    },
    {
     "name": "stdout",
     "output_type": "stream",
     "text": [
      "6.9082\t690.82%\t[11.71321] (x[458])\n"
     ]
    },
    {
     "name": "stderr",
     "output_type": "stream",
     "text": [
      "\n",
      "                                                              \n",
      "Epoch :  80%|████████  | 4/5 [00:27<00:06,  6.43s/it]4.43it/s]\u001b[A\n",
      "Instances :  53%|█████▎    | 8/15.125 [00:01<00:01,  4.34it/s]\u001b[A"
     ]
    },
    {
     "name": "stdout",
     "output_type": "stream",
     "text": [
      "6.8175\t681.75%\t[11.522386] (x[466])\n"
     ]
    },
    {
     "name": "stderr",
     "output_type": "stream",
     "text": [
      "\n",
      "                                                              \n",
      "Epoch :  80%|████████  | 4/5 [00:27<00:06,  6.43s/it]4.34it/s]\u001b[A\n",
      "Instances :  60%|█████▉    | 9/15.125 [00:02<00:01,  4.33it/s]\u001b[A"
     ]
    },
    {
     "name": "stdout",
     "output_type": "stream",
     "text": [
      "6.7982\t679.82%\t[11.348265] (x[420])\n"
     ]
    },
    {
     "name": "stderr",
     "output_type": "stream",
     "text": [
      "\n",
      "                                                              \n",
      "Epoch :  80%|████████  | 4/5 [00:27<00:06,  6.43s/it]4.33it/s]\u001b[A\n",
      "Instances :  66%|██████▌   | 10/15.125 [00:02<00:01,  4.33it/s]\u001b[A"
     ]
    },
    {
     "name": "stdout",
     "output_type": "stream",
     "text": [
      "6.8319\t683.19%\t[11.193158] (x[455])\n"
     ]
    },
    {
     "name": "stderr",
     "output_type": "stream",
     "text": [
      "\n",
      "                                                               \n",
      "Epoch :  80%|████████  | 4/5 [00:28<00:06,  6.43s/it] 4.33it/s]\u001b[A\n",
      "Instances :  73%|███████▎  | 11/15.125 [00:02<00:00,  4.33it/s]\u001b[A"
     ]
    },
    {
     "name": "stdout",
     "output_type": "stream",
     "text": [
      "6.9000\t690.00%\t[11.058574] (x[298])\n"
     ]
    },
    {
     "name": "stderr",
     "output_type": "stream",
     "text": [
      "\n",
      "                                                               \n",
      "Epoch :  80%|████████  | 4/5 [00:28<00:06,  6.43s/it] 4.33it/s]\u001b[A\n",
      "Instances :  79%|███████▉  | 12/15.125 [00:02<00:00,  4.40it/s]\u001b[A"
     ]
    },
    {
     "name": "stdout",
     "output_type": "stream",
     "text": [
      "6.9853\t698.53%\t[10.945265] (x[475])\n"
     ]
    },
    {
     "name": "stderr",
     "output_type": "stream",
     "text": [
      "\n",
      "                                                               \n",
      "Epoch :  80%|████████  | 4/5 [00:28<00:06,  6.43s/it] 4.40it/s]\u001b[A\n",
      "Instances :  86%|████████▌ | 13/15.125 [00:02<00:00,  4.44it/s]\u001b[A"
     ]
    },
    {
     "name": "stdout",
     "output_type": "stream",
     "text": [
      "7.0733\t707.33%\t[10.853493] (x[334])\n"
     ]
    },
    {
     "name": "stderr",
     "output_type": "stream",
     "text": [
      "\n",
      "                                                               \n",
      "Epoch :  80%|████████  | 4/5 [00:28<00:06,  6.43s/it] 4.44it/s]\u001b[A\n",
      "Instances :  93%|█████████▎| 14/15.125 [00:03<00:00,  4.29it/s]\u001b[A"
     ]
    },
    {
     "name": "stdout",
     "output_type": "stream",
     "text": [
      "7.1522\t715.22%\t[10.783019] (x[438])\n"
     ]
    },
    {
     "name": "stderr",
     "output_type": "stream",
     "text": [
      "\n",
      "                                                               \n",
      "Epoch :  80%|████████  | 4/5 [00:29<00:06,  6.43s/it] 4.29it/s]\u001b[A\n",
      "Instances :  99%|█████████▉| 15/15.125 [00:03<00:00,  4.25it/s]\u001b[A"
     ]
    },
    {
     "name": "stdout",
     "output_type": "stream",
     "text": [
      "7.2139\t721.39%\t[10.733205] (x[429])\n"
     ]
    },
    {
     "name": "stderr",
     "output_type": "stream",
     "text": [
      "\n",
      "                                                               \n",
      "Epoch :  80%|████████  | 4/5 [00:29<00:06,  6.43s/it] 4.25it/s]\u001b[A\n",
      "Instances : 16it [00:03,  4.37it/s]                            \u001b[A\n",
      "\n",
      "Test :   0%|          | 0/121 [00:00<?, ?it/s]\u001b[A\n",
      "Test :   4%|▍         | 5/121 [00:00<00:02, 44.74it/s]\u001b[A"
     ]
    },
    {
     "name": "stdout",
     "output_type": "stream",
     "text": [
      "7.2537\t725.37%\t[10.703075] (x[476])\n"
     ]
    },
    {
     "name": "stderr",
     "output_type": "stream",
     "text": [
      "\n",
      "Test :   8%|▊         | 10/121 [00:00<00:02, 42.52it/s]\u001b[A\n",
      "Test :  12%|█▏        | 15/121 [00:00<00:02, 44.13it/s]\u001b[A\n",
      "Test :  17%|█▋        | 20/121 [00:00<00:02, 44.88it/s]\u001b[A\n",
      "Test :  21%|██        | 25/121 [00:00<00:02, 44.77it/s]\u001b[A\n",
      "Test :  25%|██▍       | 30/121 [00:00<00:02, 43.14it/s]\u001b[A\n",
      "Test :  29%|██▉       | 35/121 [00:00<00:02, 42.97it/s]\u001b[A\n",
      "Test :  33%|███▎      | 40/121 [00:00<00:01, 42.57it/s]\u001b[A\n",
      "Test :  37%|███▋      | 45/121 [00:01<00:01, 43.42it/s]\u001b[A\n",
      "Test :  41%|████▏     | 50/121 [00:01<00:01, 44.00it/s]\u001b[A\n",
      "Test :  45%|████▌     | 55/121 [00:01<00:01, 43.74it/s]\u001b[A\n",
      "Test :  50%|████▉     | 60/121 [00:01<00:01, 44.19it/s]\u001b[A\n",
      "Test :  54%|█████▎    | 65/121 [00:01<00:01, 44.64it/s]\u001b[A\n",
      "Test :  58%|█████▊    | 70/121 [00:01<00:01, 45.09it/s]\u001b[A\n",
      "Test :  62%|██████▏   | 75/121 [00:01<00:01, 45.37it/s]\u001b[A\n",
      "Test :  66%|██████▌   | 80/121 [00:01<00:00, 45.18it/s]\u001b[A\n",
      "Test :  70%|███████   | 85/121 [00:01<00:00, 45.27it/s]\u001b[A\n",
      "Test :  74%|███████▍  | 90/121 [00:02<00:00, 45.27it/s]\u001b[A\n",
      "Test :  79%|███████▊  | 95/121 [00:02<00:00, 45.37it/s]\u001b[A\n",
      "Test :  83%|████████▎ | 100/121 [00:02<00:00, 44.19it/s]\u001b[A\n",
      "Test :  87%|████████▋ | 105/121 [00:02<00:00, 44.54it/s]\u001b[A\n",
      "Test :  91%|█████████ | 110/121 [00:02<00:00, 44.85it/s]\u001b[A\n",
      "Test :  95%|█████████▌| 115/121 [00:02<00:00, 45.11it/s]\u001b[A\n",
      "Test : 100%|██████████| 121/121 [00:02<00:00, 44.47it/s]\u001b[A\n",
      "Epoch : 100%|██████████| 5/5 [00:32<00:00,  6.42s/it]\n"
     ]
    },
    {
     "name": "stdout",
     "output_type": "stream",
     "text": [
      "EPOCH SUMMARY 7.3945 739.45% 1624921.99%\n",
      "fold2\n"
     ]
    },
    {
     "name": "stderr",
     "output_type": "stream",
     "text": [
      "Epoch :   0%|          | 0/5 [00:00<?, ?it/s]\n",
      "Instances :   0%|          | 0/15.125 [00:00<?, ?it/s]\u001b[A\n",
      "                                                      \n",
      "Epoch :   0%|          | 0/5 [00:00<?, ?it/s]?, ?it/s]\u001b[A\n",
      "Instances :   7%|▋         | 1/15.125 [00:00<00:03,  4.51it/s]\u001b[A"
     ]
    },
    {
     "name": "stdout",
     "output_type": "stream",
     "text": [
      "140.7950\t14079.50%\t[-0.02294595] (x[480])\n"
     ]
    },
    {
     "name": "stderr",
     "output_type": "stream",
     "text": [
      "\n",
      "                                                              \n",
      "Epoch :   0%|          | 0/5 [00:00<?, ?it/s]00:03,  4.51it/s]\u001b[A\n",
      "Instances :  13%|█▎        | 2/15.125 [00:00<00:03,  4.32it/s]\u001b[A"
     ]
    },
    {
     "name": "stdout",
     "output_type": "stream",
     "text": [
      "150.9587\t15095.87%\t[-0.01938769] (x[480])\n"
     ]
    },
    {
     "name": "stderr",
     "output_type": "stream",
     "text": [
      "\n",
      "                                                              \n",
      "Epoch :   0%|          | 0/5 [00:00<?, ?it/s]00:03,  4.32it/s]\u001b[A\n",
      "Instances :  20%|█▉        | 3/15.125 [00:00<00:02,  4.30it/s]\u001b[A"
     ]
    },
    {
     "name": "stdout",
     "output_type": "stream",
     "text": [
      "137.7342\t13773.42%\t[-0.01632538] (x[480])\n"
     ]
    },
    {
     "name": "stderr",
     "output_type": "stream",
     "text": [
      "\n",
      "                                                              \n",
      "Epoch :   0%|          | 0/5 [00:00<?, ?it/s]00:02,  4.30it/s]\u001b[A\n",
      "Instances :  26%|██▋       | 4/15.125 [00:00<00:02,  4.25it/s]\u001b[A"
     ]
    },
    {
     "name": "stdout",
     "output_type": "stream",
     "text": [
      "135.7859\t13578.59%\t[-0.01331702] (x[480])\n"
     ]
    },
    {
     "name": "stderr",
     "output_type": "stream",
     "text": [
      "\n",
      "                                                              \n",
      "Epoch :   0%|          | 0/5 [00:01<?, ?it/s]00:02,  4.25it/s]\u001b[A\n",
      "Instances :  33%|███▎      | 5/15.125 [00:01<00:02,  4.33it/s]\u001b[A"
     ]
    },
    {
     "name": "stdout",
     "output_type": "stream",
     "text": [
      "141.2445\t14124.45%\t[-0.01022266] (x[480])\n"
     ]
    },
    {
     "name": "stderr",
     "output_type": "stream",
     "text": [
      "\n",
      "                                                              \n",
      "Epoch :   0%|          | 0/5 [00:01<?, ?it/s]00:02,  4.33it/s]\u001b[A\n",
      "Instances :  40%|███▉      | 6/15.125 [00:01<00:02,  4.41it/s]\u001b[A"
     ]
    },
    {
     "name": "stdout",
     "output_type": "stream",
     "text": [
      "139.2068\t13920.68%\t[-0.00701261] (x[480])\n"
     ]
    },
    {
     "name": "stderr",
     "output_type": "stream",
     "text": [
      "\n",
      "                                                              \n",
      "Epoch :   0%|          | 0/5 [00:01<?, ?it/s]00:02,  4.41it/s]\u001b[A\n",
      "Instances :  46%|████▋     | 7/15.125 [00:01<00:01,  4.48it/s]\u001b[A"
     ]
    },
    {
     "name": "stdout",
     "output_type": "stream",
     "text": [
      "134.9245\t13492.45%\t[-0.00373409] (x[480])\n"
     ]
    },
    {
     "name": "stderr",
     "output_type": "stream",
     "text": [
      "\n",
      "                                                              \n",
      "Epoch :   0%|          | 0/5 [00:01<?, ?it/s]00:01,  4.48it/s]\u001b[A\n",
      "Instances :  53%|█████▎    | 8/15.125 [00:01<00:01,  4.50it/s]\u001b[A"
     ]
    },
    {
     "name": "stdout",
     "output_type": "stream",
     "text": [
      "134.9219\t13492.19%\t[-0.00043906] (x[480])\n"
     ]
    },
    {
     "name": "stderr",
     "output_type": "stream",
     "text": [
      "\n",
      "                                                              \n",
      "Epoch :   0%|          | 0/5 [00:02<?, ?it/s]00:01,  4.50it/s]\u001b[A\n",
      "Instances :  60%|█████▉    | 9/15.125 [00:02<00:01,  4.50it/s]\u001b[A"
     ]
    },
    {
     "name": "stdout",
     "output_type": "stream",
     "text": [
      "134.5146\t13451.46%\t[0.00282334] (x[480])\n"
     ]
    },
    {
     "name": "stderr",
     "output_type": "stream",
     "text": [
      "\n",
      "                                                              \n",
      "Epoch :   0%|          | 0/5 [00:02<?, ?it/s]00:01,  4.50it/s]\u001b[A\n",
      "Instances :  66%|██████▌   | 10/15.125 [00:02<00:01,  4.47it/s]\u001b[A"
     ]
    },
    {
     "name": "stdout",
     "output_type": "stream",
     "text": [
      "134.3423\t13434.23%\t[0.00609728] (x[480])\n"
     ]
    },
    {
     "name": "stderr",
     "output_type": "stream",
     "text": [
      "\n",
      "                                                               \n",
      "Epoch :   0%|          | 0/5 [00:02<?, ?it/s]<00:01,  4.47it/s]\u001b[A\n",
      "Instances :  73%|███████▎  | 11/15.125 [00:02<00:00,  4.50it/s]\u001b[A"
     ]
    },
    {
     "name": "stdout",
     "output_type": "stream",
     "text": [
      "134.4281\t13442.81%\t[0.00935664] (x[480])\n"
     ]
    },
    {
     "name": "stderr",
     "output_type": "stream",
     "text": [
      "\n",
      "                                                               \n",
      "Epoch :   0%|          | 0/5 [00:02<?, ?it/s]<00:00,  4.50it/s]\u001b[A\n",
      "Instances :  79%|███████▉  | 12/15.125 [00:02<00:00,  4.53it/s]\u001b[A"
     ]
    },
    {
     "name": "stdout",
     "output_type": "stream",
     "text": [
      "134.1961\t13419.61%\t[0.01260076] (x[480])\n"
     ]
    },
    {
     "name": "stderr",
     "output_type": "stream",
     "text": [
      "\n",
      "                                                               \n",
      "Epoch :   0%|          | 0/5 [00:02<?, ?it/s]<00:00,  4.53it/s]\u001b[A\n",
      "Instances :  86%|████████▌ | 13/15.125 [00:02<00:00,  4.52it/s]\u001b[A"
     ]
    },
    {
     "name": "stdout",
     "output_type": "stream",
     "text": [
      "133.8999\t13389.99%\t[0.01583594] (x[480])\n"
     ]
    },
    {
     "name": "stderr",
     "output_type": "stream",
     "text": [
      "\n",
      "                                                               \n",
      "Epoch :   0%|          | 0/5 [00:03<?, ?it/s]<00:00,  4.52it/s]\u001b[A\n",
      "Instances :  93%|█████████▎| 14/15.125 [00:03<00:00,  4.53it/s]\u001b[A"
     ]
    },
    {
     "name": "stdout",
     "output_type": "stream",
     "text": [
      "133.8778\t13387.78%\t[0.01907291] (x[480])\n"
     ]
    },
    {
     "name": "stderr",
     "output_type": "stream",
     "text": [
      "\n",
      "                                                               \n",
      "Epoch :   0%|          | 0/5 [00:03<?, ?it/s]<00:00,  4.53it/s]\u001b[A\n",
      "Instances :  99%|█████████▉| 15/15.125 [00:03<00:00,  4.54it/s]\u001b[A"
     ]
    },
    {
     "name": "stdout",
     "output_type": "stream",
     "text": [
      "133.8938\t13389.38%\t[0.02231996] (x[480])\n"
     ]
    },
    {
     "name": "stderr",
     "output_type": "stream",
     "text": [
      "\n",
      "                                                               \n",
      "Epoch :   0%|          | 0/5 [00:03<?, ?it/s]<00:00,  4.54it/s]\u001b[A\n",
      "Instances : 16it [00:03,  4.47it/s]                            \u001b[A\n",
      "\n",
      "Test :   0%|          | 0/121 [00:00<?, ?it/s]\u001b[A\n",
      "Test :   4%|▍         | 5/121 [00:00<00:02, 42.99it/s]\u001b[A"
     ]
    },
    {
     "name": "stdout",
     "output_type": "stream",
     "text": [
      "159.0701\t15907.02%\t[0.02557985] (x[480])\n"
     ]
    },
    {
     "name": "stderr",
     "output_type": "stream",
     "text": [
      "\n",
      "Test :   8%|▊         | 10/121 [00:00<00:02, 44.43it/s]\u001b[A\n",
      "Test :  12%|█▏        | 15/121 [00:00<00:02, 44.57it/s]\u001b[A\n",
      "Test :  17%|█▋        | 20/121 [00:00<00:02, 45.21it/s]\u001b[A\n",
      "Test :  21%|██        | 25/121 [00:00<00:02, 45.52it/s]\u001b[A\n",
      "Test :  25%|██▍       | 30/121 [00:00<00:02, 41.25it/s]\u001b[A\n",
      "Test :  29%|██▉       | 35/121 [00:00<00:02, 40.22it/s]\u001b[A\n",
      "Test :  33%|███▎      | 40/121 [00:00<00:02, 40.00it/s]\u001b[A\n",
      "Test :  37%|███▋      | 45/121 [00:01<00:01, 41.53it/s]\u001b[A\n",
      "Test :  41%|████▏     | 50/121 [00:01<00:01, 41.60it/s]\u001b[A\n",
      "Test :  45%|████▌     | 55/121 [00:01<00:01, 42.69it/s]\u001b[A\n",
      "Test :  50%|████▉     | 60/121 [00:01<00:01, 42.53it/s]\u001b[A\n",
      "Test :  54%|█████▎    | 65/121 [00:01<00:01, 43.49it/s]\u001b[A\n",
      "Test :  58%|█████▊    | 70/121 [00:01<00:01, 43.93it/s]\u001b[A\n",
      "Test :  62%|██████▏   | 75/121 [00:01<00:01, 42.91it/s]\u001b[A\n",
      "Test :  66%|██████▌   | 80/121 [00:01<00:00, 41.54it/s]\u001b[A\n",
      "Test :  70%|███████   | 85/121 [00:02<00:00, 40.93it/s]\u001b[A\n",
      "Test :  74%|███████▍  | 90/121 [00:02<00:00, 41.66it/s]\u001b[A\n",
      "Test :  79%|███████▊  | 95/121 [00:02<00:00, 41.44it/s]\u001b[A\n",
      "Test :  83%|████████▎ | 100/121 [00:02<00:00, 40.84it/s]\u001b[A\n",
      "Test :  87%|████████▋ | 105/121 [00:02<00:00, 41.86it/s]\u001b[A\n",
      "Test :  91%|█████████ | 110/121 [00:02<00:00, 42.32it/s]\u001b[A\n",
      "Test :  95%|█████████▌| 115/121 [00:02<00:00, 43.31it/s]\u001b[A\n",
      "Test : 100%|██████████| 121/121 [00:02<00:00, 42.52it/s]\u001b[A\n",
      "Epoch :  20%|██        | 1/5 [00:06<00:25,  6.44s/it]\n",
      "Instances :   0%|          | 0/15.125 [00:00<?, ?it/s]\u001b[A"
     ]
    },
    {
     "name": "stdout",
     "output_type": "stream",
     "text": [
      "EPOCH SUMMARY 138.3621 13836.21% 1662467.00%\n"
     ]
    },
    {
     "name": "stderr",
     "output_type": "stream",
     "text": [
      "\n",
      "                                                      \n",
      "Epoch :  20%|██        | 1/5 [00:06<00:25,  6.44s/it]]\u001b[A\n",
      "Instances :   7%|▋         | 1/15.125 [00:00<00:03,  4.22it/s]\u001b[A"
     ]
    },
    {
     "name": "stdout",
     "output_type": "stream",
     "text": [
      "143.3307\t14333.07%\t[0.02865904] (x[480])\n"
     ]
    },
    {
     "name": "stderr",
     "output_type": "stream",
     "text": [
      "\n",
      "                                                              \n",
      "Epoch :  20%|██        | 1/5 [00:06<00:25,  6.44s/it]4.22it/s]\u001b[A\n",
      "Instances :  13%|█▎        | 2/15.125 [00:00<00:03,  4.19it/s]\u001b[A"
     ]
    },
    {
     "name": "stdout",
     "output_type": "stream",
     "text": [
      "133.8614\t13386.14%\t[0.0316811] (x[480])\n"
     ]
    },
    {
     "name": "stderr",
     "output_type": "stream",
     "text": [
      "\n",
      "                                                              \n",
      "Epoch :  20%|██        | 1/5 [00:07<00:25,  6.44s/it]4.19it/s]\u001b[A\n",
      "Instances :  20%|█▉        | 3/15.125 [00:00<00:02,  4.20it/s]\u001b[A"
     ]
    },
    {
     "name": "stdout",
     "output_type": "stream",
     "text": [
      "136.7361\t13673.62%\t[0.03471063] (x[480])\n"
     ]
    },
    {
     "name": "stderr",
     "output_type": "stream",
     "text": [
      "\n",
      "                                                              \n",
      "Epoch :  20%|██        | 1/5 [00:07<00:25,  6.44s/it]4.20it/s]\u001b[A\n",
      "Instances :  26%|██▋       | 4/15.125 [00:00<00:02,  4.23it/s]\u001b[A"
     ]
    },
    {
     "name": "stdout",
     "output_type": "stream",
     "text": [
      "142.1565\t14215.65%\t[0.03783158] (x[480])\n"
     ]
    },
    {
     "name": "stderr",
     "output_type": "stream",
     "text": [
      "\n",
      "                                                              \n",
      "Epoch :  20%|██        | 1/5 [00:07<00:25,  6.44s/it]4.23it/s]\u001b[A\n",
      "Instances :  33%|███▎      | 5/15.125 [00:01<00:02,  4.35it/s]\u001b[A"
     ]
    },
    {
     "name": "stdout",
     "output_type": "stream",
     "text": [
      "143.5701\t14357.01%\t[0.04104055] (x[480])\n"
     ]
    },
    {
     "name": "stderr",
     "output_type": "stream",
     "text": [
      "\n",
      "                                                              \n",
      "Epoch :  20%|██        | 1/5 [00:07<00:25,  6.44s/it]4.35it/s]\u001b[A\n",
      "Instances :  40%|███▉      | 6/15.125 [00:01<00:02,  4.41it/s]\u001b[A"
     ]
    },
    {
     "name": "stdout",
     "output_type": "stream",
     "text": [
      "140.3517\t14035.17%\t[0.04429884] (x[480])\n"
     ]
    },
    {
     "name": "stderr",
     "output_type": "stream",
     "text": [
      "\n",
      "                                                              \n",
      "Epoch :  20%|██        | 1/5 [00:08<00:25,  6.44s/it]4.41it/s]\u001b[A\n",
      "Instances :  46%|████▋     | 7/15.125 [00:01<00:01,  4.46it/s]\u001b[A"
     ]
    },
    {
     "name": "stdout",
     "output_type": "stream",
     "text": [
      "135.9361\t13593.61%\t[0.04759476] (x[480])\n"
     ]
    },
    {
     "name": "stderr",
     "output_type": "stream",
     "text": [
      "\n",
      "                                                              \n",
      "Epoch :  20%|██        | 1/5 [00:08<00:25,  6.44s/it]4.46it/s]\u001b[A\n",
      "Instances :  53%|█████▎    | 8/15.125 [00:01<00:01,  4.45it/s]\u001b[A"
     ]
    },
    {
     "name": "stdout",
     "output_type": "stream",
     "text": [
      "133.4722\t13347.22%\t[0.05084413] (x[480])\n"
     ]
    },
    {
     "name": "stderr",
     "output_type": "stream",
     "text": [
      "\n",
      "                                                              \n",
      "Epoch :  20%|██        | 1/5 [00:08<00:25,  6.44s/it]4.45it/s]\u001b[A\n",
      "Instances :  60%|█████▉    | 9/15.125 [00:02<00:01,  4.33it/s]\u001b[A"
     ]
    },
    {
     "name": "stdout",
     "output_type": "stream",
     "text": [
      "133.1285\t13312.86%\t[0.05403782] (x[480])\n"
     ]
    },
    {
     "name": "stderr",
     "output_type": "stream",
     "text": [
      "\n",
      "                                                              \n",
      "Epoch :  20%|██        | 1/5 [00:08<00:25,  6.44s/it]4.33it/s]\u001b[A\n",
      "Instances :  66%|██████▌   | 10/15.125 [00:02<00:01,  4.40it/s]\u001b[A"
     ]
    },
    {
     "name": "stdout",
     "output_type": "stream",
     "text": [
      "134.1155\t13411.55%\t[0.05722825] (x[480])\n"
     ]
    },
    {
     "name": "stderr",
     "output_type": "stream",
     "text": [
      "\n",
      "                                                               \n",
      "Epoch :  20%|██        | 1/5 [00:08<00:25,  6.44s/it] 4.40it/s]\u001b[A\n",
      "Instances :  73%|███████▎  | 11/15.125 [00:02<00:00,  4.46it/s]\u001b[A"
     ]
    },
    {
     "name": "stdout",
     "output_type": "stream",
     "text": [
      "135.2008\t13520.08%\t[0.06040448] (x[480])\n"
     ]
    },
    {
     "name": "stderr",
     "output_type": "stream",
     "text": [
      "\n",
      "                                                               \n",
      "Epoch :  20%|██        | 1/5 [00:09<00:25,  6.44s/it] 4.46it/s]\u001b[A\n",
      "Instances :  79%|███████▉  | 12/15.125 [00:02<00:00,  4.35it/s]\u001b[A"
     ]
    },
    {
     "name": "stdout",
     "output_type": "stream",
     "text": [
      "135.6042\t13560.42%\t[0.06356104] (x[480])\n"
     ]
    },
    {
     "name": "stderr",
     "output_type": "stream",
     "text": [
      "\n",
      "                                                               \n",
      "Epoch :  20%|██        | 1/5 [00:09<00:25,  6.44s/it] 4.35it/s]\u001b[A\n",
      "Instances :  86%|████████▌ | 13/15.125 [00:02<00:00,  4.31it/s]\u001b[A"
     ]
    },
    {
     "name": "stdout",
     "output_type": "stream",
     "text": [
      "135.3131\t13531.32%\t[0.06669796] (x[480])\n"
     ]
    },
    {
     "name": "stderr",
     "output_type": "stream",
     "text": [
      "\n",
      "                                                               \n",
      "Epoch :  20%|██        | 1/5 [00:09<00:25,  6.44s/it] 4.31it/s]\u001b[A\n",
      "Instances :  93%|█████████▎| 14/15.125 [00:03<00:00,  4.29it/s]\u001b[A"
     ]
    },
    {
     "name": "stdout",
     "output_type": "stream",
     "text": [
      "134.4992\t13449.92%\t[0.06981888] (x[480])\n"
     ]
    },
    {
     "name": "stderr",
     "output_type": "stream",
     "text": [
      "\n",
      "                                                               \n",
      "Epoch :  20%|██        | 1/5 [00:09<00:25,  6.44s/it] 4.29it/s]\u001b[A\n",
      "Instances :  99%|█████████▉| 15/15.125 [00:03<00:00,  4.35it/s]\u001b[A"
     ]
    },
    {
     "name": "stdout",
     "output_type": "stream",
     "text": [
      "133.5432\t13354.32%\t[0.07293031] (x[480])\n"
     ]
    },
    {
     "name": "stderr",
     "output_type": "stream",
     "text": [
      "\n",
      "                                                               \n",
      "Epoch :  20%|██        | 1/5 [00:10<00:25,  6.44s/it] 4.35it/s]\u001b[A\n",
      "Instances : 16it [00:03,  4.35it/s]                            \u001b[A\n",
      "\n",
      "Test :   0%|          | 0/121 [00:00<?, ?it/s]\u001b[A\n",
      "Test :   4%|▍         | 5/121 [00:00<00:02, 43.49it/s]\u001b[A"
     ]
    },
    {
     "name": "stdout",
     "output_type": "stream",
     "text": [
      "132.8293\t13282.92%\t[0.07604039] (x[480])\n"
     ]
    },
    {
     "name": "stderr",
     "output_type": "stream",
     "text": [
      "\n",
      "Test :   8%|▊         | 10/121 [00:00<00:02, 43.59it/s]\u001b[A\n",
      "Test :  12%|█▏        | 15/121 [00:00<00:02, 40.92it/s]\u001b[A\n",
      "Test :  17%|█▋        | 20/121 [00:00<00:02, 41.81it/s]\u001b[A\n",
      "Test :  21%|██        | 25/121 [00:00<00:02, 42.46it/s]\u001b[A\n",
      "Test :  25%|██▍       | 30/121 [00:00<00:02, 41.64it/s]\u001b[A\n",
      "Test :  29%|██▉       | 35/121 [00:00<00:02, 42.82it/s]\u001b[A\n",
      "Test :  33%|███▎      | 40/121 [00:00<00:01, 43.58it/s]\u001b[A\n",
      "Test :  37%|███▋      | 45/121 [00:01<00:01, 43.86it/s]\u001b[A\n",
      "Test :  41%|████▏     | 50/121 [00:01<00:01, 44.36it/s]\u001b[A\n",
      "Test :  45%|████▌     | 55/121 [00:01<00:01, 43.83it/s]\u001b[A\n",
      "Test :  50%|████▉     | 60/121 [00:01<00:01, 44.16it/s]\u001b[A\n",
      "Test :  54%|█████▎    | 65/121 [00:01<00:01, 42.93it/s]\u001b[A\n",
      "Test :  58%|█████▊    | 70/121 [00:01<00:01, 42.37it/s]\u001b[A\n",
      "Test :  62%|██████▏   | 75/121 [00:01<00:01, 42.83it/s]\u001b[A\n",
      "Test :  66%|██████▌   | 80/121 [00:01<00:00, 42.68it/s]\u001b[A\n",
      "Test :  70%|███████   | 85/121 [00:01<00:00, 43.51it/s]\u001b[A\n",
      "Test :  74%|███████▍  | 90/121 [00:02<00:00, 42.69it/s]\u001b[A\n",
      "Test :  79%|███████▊  | 95/121 [00:02<00:00, 43.58it/s]\u001b[A\n",
      "Test :  83%|████████▎ | 100/121 [00:02<00:00, 44.17it/s]\u001b[A\n",
      "Test :  87%|████████▋ | 105/121 [00:02<00:00, 44.54it/s]\u001b[A\n",
      "Test :  91%|█████████ | 110/121 [00:02<00:00, 44.78it/s]\u001b[A\n",
      "Test :  95%|█████████▌| 115/121 [00:02<00:00, 44.97it/s]\u001b[A\n",
      "Test : 100%|██████████| 121/121 [00:02<00:00, 43.38it/s]\u001b[A\n",
      "Epoch :  40%|████      | 2/5 [00:12<00:19,  6.46s/it]\n",
      "Instances :   0%|          | 0/15.125 [00:00<?, ?it/s]\u001b[A"
     ]
    },
    {
     "name": "stdout",
     "output_type": "stream",
     "text": [
      "EPOCH SUMMARY 136.4781 13647.81% 1662467.00%\n"
     ]
    },
    {
     "name": "stderr",
     "output_type": "stream",
     "text": [
      "\n",
      "                                                      \n",
      "Epoch :  40%|████      | 2/5 [00:13<00:19,  6.46s/it]]\u001b[A\n",
      "Instances :   7%|▋         | 1/15.125 [00:00<00:03,  4.35it/s]\u001b[A"
     ]
    },
    {
     "name": "stdout",
     "output_type": "stream",
     "text": [
      "132.4841\t13248.41%\t[0.07915743] (x[480])\n"
     ]
    },
    {
     "name": "stderr",
     "output_type": "stream",
     "text": [
      "\n",
      "                                                              \n",
      "Epoch :  40%|████      | 2/5 [00:13<00:19,  6.46s/it]4.35it/s]\u001b[A\n",
      "Instances :  13%|█▎        | 2/15.125 [00:00<00:03,  4.21it/s]\u001b[A"
     ]
    },
    {
     "name": "stdout",
     "output_type": "stream",
     "text": [
      "132.5004\t13250.04%\t[0.08228935] (x[480])\n"
     ]
    },
    {
     "name": "stderr",
     "output_type": "stream",
     "text": [
      "\n",
      "                                                              \n",
      "Epoch :  40%|████      | 2/5 [00:13<00:19,  6.46s/it]4.21it/s]\u001b[A\n",
      "Instances :  20%|█▉        | 3/15.125 [00:00<00:02,  4.37it/s]\u001b[A"
     ]
    },
    {
     "name": "stdout",
     "output_type": "stream",
     "text": [
      "132.7147\t13271.47%\t[0.0854427] (x[480])\n"
     ]
    },
    {
     "name": "stderr",
     "output_type": "stream",
     "text": [
      "\n",
      "                                                              \n",
      "Epoch :  40%|████      | 2/5 [00:13<00:19,  6.46s/it]4.37it/s]\u001b[A\n",
      "Instances :  26%|██▋       | 4/15.125 [00:00<00:02,  4.40it/s]\u001b[A"
     ]
    },
    {
     "name": "stdout",
     "output_type": "stream",
     "text": [
      "132.9485\t13294.86%\t[0.08862206] (x[480])\n"
     ]
    },
    {
     "name": "stderr",
     "output_type": "stream",
     "text": [
      "\n",
      "                                                              \n",
      "Epoch :  40%|████      | 2/5 [00:14<00:19,  6.46s/it]4.40it/s]\u001b[A\n",
      "Instances :  33%|███▎      | 5/15.125 [00:01<00:02,  4.45it/s]\u001b[A"
     ]
    },
    {
     "name": "stdout",
     "output_type": "stream",
     "text": [
      "133.0514\t13305.14%\t[0.09182998] (x[480])\n"
     ]
    },
    {
     "name": "stderr",
     "output_type": "stream",
     "text": [
      "\n",
      "                                                              \n",
      "Epoch :  40%|████      | 2/5 [00:14<00:19,  6.46s/it]4.45it/s]\u001b[A\n",
      "Instances :  40%|███▉      | 6/15.125 [00:01<00:02,  4.40it/s]\u001b[A"
     ]
    },
    {
     "name": "stdout",
     "output_type": "stream",
     "text": [
      "132.9565\t13295.65%\t[0.09506702] (x[480])\n"
     ]
    },
    {
     "name": "stderr",
     "output_type": "stream",
     "text": [
      "\n",
      "                                                              \n",
      "Epoch :  40%|████      | 2/5 [00:14<00:19,  6.46s/it]4.40it/s]\u001b[A\n",
      "Instances :  46%|████▋     | 7/15.125 [00:01<00:01,  4.34it/s]\u001b[A"
     ]
    },
    {
     "name": "stdout",
     "output_type": "stream",
     "text": [
      "132.6920\t13269.20%\t[0.098332] (x[480])\n"
     ]
    },
    {
     "name": "stderr",
     "output_type": "stream",
     "text": [
      "\n",
      "                                                              \n",
      "Epoch :  40%|████      | 2/5 [00:14<00:19,  6.46s/it]4.34it/s]\u001b[A\n",
      "Instances :  53%|█████▎    | 8/15.125 [00:01<00:01,  4.41it/s]\u001b[A"
     ]
    },
    {
     "name": "stdout",
     "output_type": "stream",
     "text": [
      "132.3573\t13235.73%\t[0.10162222] (x[480])\n"
     ]
    },
    {
     "name": "stderr",
     "output_type": "stream",
     "text": [
      "\n",
      "                                                              \n",
      "Epoch :  40%|████      | 2/5 [00:14<00:19,  6.46s/it]4.41it/s]\u001b[A\n",
      "Instances :  60%|█████▉    | 9/15.125 [00:02<00:01,  4.43it/s]\u001b[A"
     ]
    },
    {
     "name": "stdout",
     "output_type": "stream",
     "text": [
      "132.0497\t13204.97%\t[0.10493401] (x[480])\n"
     ]
    },
    {
     "name": "stderr",
     "output_type": "stream",
     "text": [
      "\n",
      "                                                              \n",
      "Epoch :  40%|████      | 2/5 [00:15<00:19,  6.46s/it]4.43it/s]\u001b[A\n",
      "Instances :  66%|██████▌   | 10/15.125 [00:02<00:01,  4.43it/s]\u001b[A"
     ]
    },
    {
     "name": "stdout",
     "output_type": "stream",
     "text": [
      "131.8451\t13184.51%\t[0.10826305] (x[480])\n"
     ]
    },
    {
     "name": "stderr",
     "output_type": "stream",
     "text": [
      "\n",
      "                                                               \n",
      "Epoch :  40%|████      | 2/5 [00:15<00:19,  6.46s/it] 4.43it/s]\u001b[A\n",
      "Instances :  73%|███████▎  | 11/15.125 [00:02<00:00,  4.47it/s]\u001b[A"
     ]
    },
    {
     "name": "stdout",
     "output_type": "stream",
     "text": [
      "131.7677\t13176.77%\t[0.11160479] (x[480])\n"
     ]
    },
    {
     "name": "stderr",
     "output_type": "stream",
     "text": [
      "\n",
      "                                                               \n",
      "Epoch :  40%|████      | 2/5 [00:15<00:19,  6.46s/it] 4.47it/s]\u001b[A\n",
      "Instances :  79%|███████▉  | 12/15.125 [00:02<00:00,  4.49it/s]\u001b[A"
     ]
    },
    {
     "name": "stdout",
     "output_type": "stream",
     "text": [
      "131.7863\t13178.64%\t[0.11495496] (x[480])\n"
     ]
    },
    {
     "name": "stderr",
     "output_type": "stream",
     "text": [
      "\n",
      "                                                               \n",
      "Epoch :  40%|████      | 2/5 [00:15<00:19,  6.46s/it] 4.49it/s]\u001b[A\n",
      "Instances :  86%|████████▌ | 13/15.125 [00:02<00:00,  4.49it/s]\u001b[A"
     ]
    },
    {
     "name": "stdout",
     "output_type": "stream",
     "text": [
      "131.8358\t13183.58%\t[0.11831014] (x[480])\n"
     ]
    },
    {
     "name": "stderr",
     "output_type": "stream",
     "text": [
      "\n",
      "                                                               \n",
      "Epoch :  40%|████      | 2/5 [00:16<00:19,  6.46s/it] 4.49it/s]\u001b[A\n",
      "Instances :  93%|█████████▎| 14/15.125 [00:03<00:00,  4.51it/s]\u001b[A"
     ]
    },
    {
     "name": "stdout",
     "output_type": "stream",
     "text": [
      "131.8493\t13184.93%\t[0.12166807] (x[480])\n"
     ]
    },
    {
     "name": "stderr",
     "output_type": "stream",
     "text": [
      "\n",
      "                                                               \n",
      "Epoch :  40%|████      | 2/5 [00:16<00:19,  6.46s/it] 4.51it/s]\u001b[A\n",
      "Instances :  99%|█████████▉| 15/15.125 [00:03<00:00,  4.49it/s]\u001b[A"
     ]
    },
    {
     "name": "stdout",
     "output_type": "stream",
     "text": [
      "131.7876\t13178.76%\t[0.12502809] (x[480])\n"
     ]
    },
    {
     "name": "stderr",
     "output_type": "stream",
     "text": [
      "\n",
      "                                                               \n",
      "Epoch :  40%|████      | 2/5 [00:16<00:19,  6.46s/it] 4.49it/s]\u001b[A\n",
      "Instances : 16it [00:03,  4.41it/s]                            \u001b[A\n",
      "\n",
      "Test :   0%|          | 0/121 [00:00<?, ?it/s]\u001b[A\n",
      "Test :   4%|▍         | 5/121 [00:00<00:02, 44.64it/s]\u001b[A"
     ]
    },
    {
     "name": "stdout",
     "output_type": "stream",
     "text": [
      "131.6511\t13165.11%\t[0.12839107] (x[480])\n"
     ]
    },
    {
     "name": "stderr",
     "output_type": "stream",
     "text": [
      "\n",
      "Test :   8%|▊         | 10/121 [00:00<00:02, 44.41it/s]\u001b[A\n",
      "Test :  12%|█▏        | 15/121 [00:00<00:02, 44.80it/s]\u001b[A\n",
      "Test :  17%|█▋        | 20/121 [00:00<00:02, 44.82it/s]\u001b[A\n",
      "Test :  21%|██        | 25/121 [00:00<00:02, 45.06it/s]\u001b[A\n",
      "Test :  25%|██▍       | 30/121 [00:00<00:02, 45.23it/s]\u001b[A\n",
      "Test :  29%|██▉       | 35/121 [00:00<00:01, 45.23it/s]\u001b[A\n",
      "Test :  33%|███▎      | 40/121 [00:00<00:01, 45.23it/s]\u001b[A\n",
      "Test :  37%|███▋      | 45/121 [00:00<00:01, 45.27it/s]\u001b[A\n",
      "Test :  41%|████▏     | 50/121 [00:01<00:01, 42.97it/s]\u001b[A\n",
      "Test :  45%|████▌     | 55/121 [00:01<00:01, 42.07it/s]\u001b[A\n",
      "Test :  50%|████▉     | 60/121 [00:01<00:01, 43.02it/s]\u001b[A\n",
      "Test :  54%|█████▎    | 65/121 [00:01<00:01, 41.86it/s]\u001b[A\n",
      "Test :  58%|█████▊    | 70/121 [00:01<00:01, 40.76it/s]\u001b[A\n",
      "Test :  62%|██████▏   | 75/121 [00:01<00:01, 41.22it/s]\u001b[A\n",
      "Test :  66%|██████▌   | 80/121 [00:01<00:00, 41.79it/s]\u001b[A\n",
      "Test :  70%|███████   | 85/121 [00:01<00:00, 41.08it/s]\u001b[A\n",
      "Test :  74%|███████▍  | 90/121 [00:02<00:00, 42.27it/s]\u001b[A\n",
      "Test :  79%|███████▊  | 95/121 [00:02<00:00, 42.12it/s]\u001b[A\n",
      "Test :  83%|████████▎ | 100/121 [00:02<00:00, 42.20it/s]\u001b[A\n",
      "Test :  87%|████████▋ | 105/121 [00:02<00:00, 43.12it/s]\u001b[A\n",
      "Test :  91%|█████████ | 110/121 [00:02<00:00, 42.84it/s]\u001b[A\n",
      "Test :  95%|█████████▌| 115/121 [00:02<00:00, 43.61it/s]\u001b[A\n",
      "Test : 100%|██████████| 121/121 [00:02<00:00, 43.13it/s]\u001b[A\n",
      "Epoch :  60%|██████    | 3/5 [00:19<00:12,  6.45s/it]\n",
      "Instances :   0%|          | 0/15.125 [00:00<?, ?it/s]\u001b[A"
     ]
    },
    {
     "name": "stdout",
     "output_type": "stream",
     "text": [
      "EPOCH SUMMARY 132.2673 13226.73% 1662467.00%\n"
     ]
    },
    {
     "name": "stderr",
     "output_type": "stream",
     "text": [
      "\n",
      "                                                      \n",
      "Epoch :  60%|██████    | 3/5 [00:19<00:12,  6.45s/it]]\u001b[A\n",
      "Instances :   7%|▋         | 1/15.125 [00:00<00:03,  4.32it/s]\u001b[A"
     ]
    },
    {
     "name": "stdout",
     "output_type": "stream",
     "text": [
      "131.4730\t13147.30%\t[0.13175936] (x[480])\n"
     ]
    },
    {
     "name": "stderr",
     "output_type": "stream",
     "text": [
      "\n",
      "                                                              \n",
      "Epoch :  60%|██████    | 3/5 [00:19<00:12,  6.45s/it]4.32it/s]\u001b[A\n",
      "Instances :  13%|█▎        | 2/15.125 [00:00<00:03,  4.25it/s]\u001b[A"
     ]
    },
    {
     "name": "stdout",
     "output_type": "stream",
     "text": [
      "131.2991\t13129.91%\t[0.13513623] (x[480])\n"
     ]
    },
    {
     "name": "stderr",
     "output_type": "stream",
     "text": [
      "\n",
      "                                                              \n",
      "Epoch :  60%|██████    | 3/5 [00:20<00:12,  6.45s/it]4.25it/s]\u001b[A\n",
      "Instances :  20%|█▉        | 3/15.125 [00:00<00:02,  4.33it/s]\u001b[A"
     ]
    },
    {
     "name": "stdout",
     "output_type": "stream",
     "text": [
      "131.1659\t13116.59%\t[0.13852555] (x[480])\n"
     ]
    },
    {
     "name": "stderr",
     "output_type": "stream",
     "text": [
      "\n",
      "                                                              \n"
     ]
    }
   ],
   "source": [
    "results=train_model(\n",
    "    dataset,\n",
    "    epochs=5,\n",
    "    batch_size=int(32),\n",
    "    use_cuda=True,\n",
    "    folds=5,\n",
    "        disable_tqdm=False,\n",
    "        )"
   ]
  },
  {
   "cell_type": "code",
   "execution_count": 8,
   "metadata": {},
   "outputs": [
    {
     "data": {
      "text/plain": [
       "GAT_ANE(\n",
       "  (GAT_layers): ModuleList(\n",
       "    (0): GATLayerMultiHead(\n",
       "      (GAT_heads): ModuleList(\n",
       "        (0): GATLayerEdgeSoftmax(\n",
       "          (f): Linear(in_features=10, out_features=32, bias=True)\n",
       "          (w): Linear(in_features=10, out_features=1, bias=True)\n",
       "        )\n",
       "        (1): GATLayerEdgeSoftmax(\n",
       "          (f): Linear(in_features=10, out_features=32, bias=True)\n",
       "          (w): Linear(in_features=10, out_features=1, bias=True)\n",
       "        )\n",
       "      )\n",
       "    )\n",
       "    (1): GATLayerMultiHead(\n",
       "      (GAT_heads): ModuleList(\n",
       "        (0): GATLayerEdgeSoftmax(\n",
       "          (f): Linear(in_features=128, out_features=64, bias=True)\n",
       "          (w): Linear(in_features=128, out_features=1, bias=True)\n",
       "        )\n",
       "        (1): GATLayerEdgeSoftmax(\n",
       "          (f): Linear(in_features=128, out_features=64, bias=True)\n",
       "          (w): Linear(in_features=128, out_features=1, bias=True)\n",
       "        )\n",
       "      )\n",
       "    )\n",
       "    (2): GATLayerMultiHead(\n",
       "      (GAT_heads): ModuleList(\n",
       "        (0): GATLayerEdgeSoftmax(\n",
       "          (f): Linear(in_features=256, out_features=64, bias=True)\n",
       "          (w): Linear(in_features=256, out_features=1, bias=True)\n",
       "        )\n",
       "        (1): GATLayerEdgeSoftmax(\n",
       "          (f): Linear(in_features=256, out_features=64, bias=True)\n",
       "          (w): Linear(in_features=256, out_features=1, bias=True)\n",
       "        )\n",
       "      )\n",
       "    )\n",
       "  )\n",
       "  (MLP_layers): ModuleList(\n",
       "    (0): Linear(in_features=128, out_features=32, bias=True)\n",
       "    (1): Linear(in_features=32, out_features=1, bias=True)\n",
       "  )\n",
       ")"
      ]
     },
     "execution_count": 8,
     "metadata": {},
     "output_type": "execute_result"
    }
   ],
   "source": [
    "model = GAT_ANE(5,1)\n",
    "model"
   ]
  },
  {
   "cell_type": "code",
   "execution_count": 10,
   "metadata": {},
   "outputs": [
    {
     "data": {
      "text/plain": [
       "GAT_ANE_(\n",
       "  (GAT_layers): ModuleList(\n",
       "    (0): GATLayerEdgeSoftmax(\n",
       "      (f): Linear(in_features=10, out_features=32, bias=True)\n",
       "      (w): Linear(in_features=10, out_features=1, bias=True)\n",
       "    )\n",
       "    (1): GATLayerEdgeSoftmax(\n",
       "      (f): Linear(in_features=64, out_features=64, bias=True)\n",
       "      (w): Linear(in_features=64, out_features=1, bias=True)\n",
       "    )\n",
       "    (2): GATLayerEdgeSoftmax(\n",
       "      (f): Linear(in_features=128, out_features=64, bias=True)\n",
       "      (w): Linear(in_features=128, out_features=1, bias=True)\n",
       "    )\n",
       "  )\n",
       "  (MLP_layers): ModuleList(\n",
       "    (0): Linear(in_features=64, out_features=32, bias=True)\n",
       "    (1): Linear(in_features=32, out_features=1, bias=True)\n",
       "  )\n",
       ")"
      ]
     },
     "execution_count": 10,
     "metadata": {},
     "output_type": "execute_result"
    }
   ],
   "source": [
    "model = GAT_ANE_(5,1)\n",
    "model"
   ]
  },
  {
   "cell_type": "code",
   "execution_count": 9,
   "metadata": {},
   "outputs": [
    {
     "data": {
      "text/plain": [
       "array([[1, 1, 1, 1]])"
      ]
     },
     "execution_count": 9,
     "metadata": {},
     "output_type": "execute_result"
    }
   ],
   "source": []
  }
 ],
 "metadata": {
  "kernelspec": {
   "display_name": "Python 3",
   "language": "python",
   "name": "python3"
  },
  "language_info": {
   "codemirror_mode": {
    "name": "ipython",
    "version": 3
   },
   "file_extension": ".py",
   "mimetype": "text/x-python",
   "name": "python",
   "nbconvert_exporter": "python",
   "pygments_lexer": "ipython3",
   "version": "3.8.10"
  }
 },
 "nbformat": 4,
 "nbformat_minor": 4
}
